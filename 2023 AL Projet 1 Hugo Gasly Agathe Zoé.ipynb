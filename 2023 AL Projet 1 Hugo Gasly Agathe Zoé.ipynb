{
 "cells": [
  {
   "cell_type": "markdown",
   "id": "a9bf5ea8",
   "metadata": {},
   "source": [
    "# Advanced Linear Algebra Projet 1\n",
    "\n",
    "\n",
    "\n",
    "\n",
    "\n",
    "Hugo Zoé Gasly Agathe "
   ]
  },
  {
   "cell_type": "code",
   "execution_count": 1,
   "id": "7b6b5483",
   "metadata": {},
   "outputs": [],
   "source": [
    "from sympy import *\n",
    "import numpy as np\n",
    "from mpl_toolkits.mplot3d import Axes3D\n",
    "import matplotlib.pyplot as plt"
   ]
  },
  {
   "cell_type": "markdown",
   "id": "689c61dc",
   "metadata": {},
   "source": [
    "### Au début\n",
    "##### On explique comment représenter un plan affine, une droite affine et un point par des équations (une équation pour les plans, deux équations pour les droites, trois équations pour les points)."
   ]
  },
  {
   "cell_type": "markdown",
   "id": "e0547344",
   "metadata": {},
   "source": [
    "Pour représenter un plan affine dans $R^{3}$, on peut utiliser une équation de la forme:\n",
    "#### $$ax + by + cz + d = 0$$\n",
    "**La condition**: au moins un coefficients dans {a,b,c} est non nul. \\\n",
    "On écrit le code en python:"
   ]
  },
  {
   "cell_type": "code",
   "execution_count": 2,
   "id": "ced15a24",
   "metadata": {},
   "outputs": [],
   "source": [
    "def affine_plane_equation(a, b, c, d):\n",
    "    # Justifier si le plan existe\n",
    "    if a==0 and b==0 and c==0:\n",
    "        return \"Le plan n'existe pas.\"\n",
    "    else:\n",
    "        return f\"{a}x + {b}y + {c}z + {d} = 0\"\n"
   ]
  },
  {
   "cell_type": "markdown",
   "id": "e1742f2c",
   "metadata": {},
   "source": [
    "Voici deux exemples."
   ]
  },
  {
   "cell_type": "code",
   "execution_count": 3,
   "id": "0e913623",
   "metadata": {},
   "outputs": [
    {
     "name": "stdout",
     "output_type": "stream",
     "text": [
      "2x + 3y + 0z + 7 = 0\n"
     ]
    }
   ],
   "source": [
    "plan1 = affine_plane_equation(2, 3, 0, 7)\n",
    "print(plan1)"
   ]
  },
  {
   "cell_type": "code",
   "execution_count": 4,
   "id": "d62d951a",
   "metadata": {},
   "outputs": [
    {
     "name": "stdout",
     "output_type": "stream",
     "text": [
      "Le plan n'existe pas.\n"
     ]
    }
   ],
   "source": [
    "plan1 = affine_plane_equation(0, 0, 0, 2)\n",
    "print(plan1)"
   ]
  },
  {
   "cell_type": "markdown",
   "id": "ca31fa1b",
   "metadata": {},
   "source": [
    "Pour représenter une droite affine dans $R^{3}$, on peut utiliser deux équations de la forme $ax + by + cz + d = 0$, qui représentent respectivement un plan affine. \\\n",
    "La droite affine est alors l'intersection de deux plans.\n",
    "\n",
    "Supposons que ces deux plans soient\n",
    "$$ P_1: a_1x + b_1y + c_1z + d_1 = 0$$\n",
    "$$P_2: a_2x + b_2y + c_2z + d_2 = 0$$\n",
    "Alors la droite affine peut être représentée par les équations suivantes :\n",
    "\n",
    "$$\n",
    "\\left \\{\n",
    "            \\begin{matrix}\n",
    "            a_1x + b_1y + c_1z + d_1 = 0 \\\\\n",
    "            a_2x + b_2y + c_2z + d_2 = 0 \n",
    "            \\end{matrix}  \n",
    "\\right.\n",
    "$$\n",
    "\n",
    "**La condition**: les deux plans ne peuvent pas être parallèles.\n",
    "\n",
    "On écrit le code en python:"
   ]
  },
  {
   "cell_type": "code",
   "execution_count": 5,
   "id": "3495e353",
   "metadata": {},
   "outputs": [],
   "source": [
    "def droite_affine(plan1, plan2):\n",
    "    # Les équations des plans\n",
    "    a1, b1, c1, d1 = plan1\n",
    "    a2, b2, c2, d2 = plan2\n",
    "    # Justifier si la droite existe\n",
    "    v1 = np.array([a1, b1, c1])\n",
    "    v2 = np.array([a2, b2, c2])\n",
    "    product=np.cross(v1,v2)\n",
    "    if np.all(product == 0):\n",
    "        return \"La droite n'existe pas.\"\n",
    "    else:\n",
    "        return f\"la droite affine est représentée par les équations suivantes: {a1}x + {b1}y + {c1}z + {d1} = 0 et {a2}x + {b2}y + {c2}z + {d2} = 0\""
   ]
  },
  {
   "cell_type": "markdown",
   "id": "b12d9aa2",
   "metadata": {},
   "source": [
    "Voici un exemple.\\\n",
    "Supposons que nous avons deux plans: \n",
    "$$P_1: 1x + 2y + 3z +4 = 0$$\n",
    "$$P_2: 5x + 6y + 7z + 8 = 0$$\n",
    "Alors on peut représenter la droite affine correspondant:"
   ]
  },
  {
   "cell_type": "code",
   "execution_count": 6,
   "id": "2462e04a",
   "metadata": {},
   "outputs": [
    {
     "name": "stdout",
     "output_type": "stream",
     "text": [
      "la droite affine est représentée par les équations suivantes: 1x + 2y + 3z + 4 = 0 et 5x + 6y + 7z + 8 = 0\n"
     ]
    }
   ],
   "source": [
    "droite1=droite_affine((1,2,3,4), (5,6,7,8))\n",
    "print(droite1)"
   ]
  },
  {
   "cell_type": "markdown",
   "id": "5f46925b",
   "metadata": {},
   "source": [
    "Voici un autre exemple où la droite n'existe pas."
   ]
  },
  {
   "cell_type": "code",
   "execution_count": 7,
   "id": "1734b575",
   "metadata": {},
   "outputs": [
    {
     "name": "stdout",
     "output_type": "stream",
     "text": [
      "La droite n'existe pas.\n"
     ]
    }
   ],
   "source": [
    "droite1=droite_affine((1,2,3,4), (3,6,9,12312))\n",
    "print(droite1)"
   ]
  },
  {
   "cell_type": "markdown",
   "id": "9b417096",
   "metadata": {},
   "source": [
    "On peut aussi chercher l'intersection de deux plans pour essayer de représenter cette ligne d'une autre manière: passer par un point et posséder un vecteur directeur."
   ]
  },
  {
   "cell_type": "code",
   "execution_count": 8,
   "id": "bd2ea830",
   "metadata": {},
   "outputs": [],
   "source": [
    "def droite_equation(plan1,plan2):\n",
    "    # Les équations des plans\n",
    "    a1, b1, c1, d1 = plan1\n",
    "    a2, b2, c2, d2 = plan2\n",
    "    # Justifier si la droite existe\n",
    "    v1 = np.array([a1, b1, c1])\n",
    "    v2 = np.array([a2, b2, c2])\n",
    "    product=np.cross(v1,v2)\n",
    "    if np.all(product == 0):\n",
    "        return \"La droite n'existe pas.\"\n",
    "    else:\n",
    "        # Chercher l'intersection\n",
    "        x = (b1*d2 - b2*d1) / (a1*b2 - a2*b1)\n",
    "        y = (-a1*d2 + a2*d1) / (a1*b2 - a2*b1)\n",
    "        z = (a1*c2 - a2*c1) / (a1*b2 - a2*b1)\n",
    "        \n",
    "        point=(x,y,z)\n",
    "        direction=(b1*c2 - b2*c1, a2*c1 - a1*c2, a1*b2 - a2*b1)\n",
    "\n",
    "        return point,direction"
   ]
  },
  {
   "cell_type": "markdown",
   "id": "cf2c56ba",
   "metadata": {},
   "source": [
    "Voici deux exemples."
   ]
  },
  {
   "cell_type": "code",
   "execution_count": 9,
   "id": "0d3511d0",
   "metadata": {},
   "outputs": [
    {
     "name": "stdout",
     "output_type": "stream",
     "text": [
      "((2.0, -3.0, 2.0), (-4, 8, -4))\n"
     ]
    }
   ],
   "source": [
    "droite2=droite_equation((1,2,3,4), (5,6,7,8))\n",
    "print(droite2)"
   ]
  },
  {
   "cell_type": "code",
   "execution_count": 10,
   "id": "44e70480",
   "metadata": {},
   "outputs": [
    {
     "name": "stdout",
     "output_type": "stream",
     "text": [
      "La droite n'existe pas.\n"
     ]
    }
   ],
   "source": [
    "droite2=droite_equation((1,2,3,4), (2,4,6,12))\n",
    "print(droite2)"
   ]
  },
  {
   "cell_type": "markdown",
   "id": "7ddca216",
   "metadata": {},
   "source": [
    "Pour représenter **un point** dans $R^{3}$, on peut utiliser **trois équations** de la forme $ax + by + cz + d = 0$, qui représentent respectivement un plan affine. \\\n",
    "Le point est l'intersection de trois plans.\n",
    "\n",
    "Supposons que ces trois plans soient \n",
    "$$P_1: a_1x + b_1y + c_1z + d_1 = 0$$\n",
    "$$P_2: a_2x + b_2y + c_2z + d_2 = 0$$ \n",
    "$$P_3: a_3x + b_3y + c_3z + d_3 = 0$$\n",
    "Alors le point peut être représentée par les équations suivantes :\n",
    "$$\n",
    "\\left \\{\n",
    "            \\begin{matrix}\n",
    "            a_1x + b_1y + c_1z + d_1 = 0\\\\\n",
    "            a_2x + b_2y + c_2z + d_2 = 0\\\\\n",
    "            a_3x + b_3y + c_3z + d_3 = 0\n",
    "            \\end{matrix}\n",
    "\\right.\n",
    "$$\n",
    "**La condition**: parmi ces trois plans, aucun ne doit être parallèle à un autre plan.\n",
    "\n",
    "On écrit le code en python:"
   ]
  },
  {
   "cell_type": "code",
   "execution_count": 11,
   "id": "9ad9f953",
   "metadata": {},
   "outputs": [],
   "source": [
    "def point(plan1, plan2, plan3):\n",
    "    # Les équations des plans\n",
    "    a1, b1, c1, d1 = plan1\n",
    "    a2, b2, c2, d2 = plan2\n",
    "    a3, b3, c3, d3 = plan3\n",
    "    # Justifier si le point existe\n",
    "    A = np.array([[a1,b1,c1], [a2,b2,c2], [a3,b3,c3]])\n",
    "    B = np.array([[a1,b1,c1,-d1], [a2,b2,c2,-d2], [a3,b3,c3,-d3]])\n",
    "\n",
    "    if np.linalg.matrix_rank(A) == np.linalg.matrix_rank(B) == 3:\n",
    "        return f\"le point est représentée par les équations suivantes: {a1}x + {b1}y + {c1}z + {d1} = 0, {a2}x + {b2}y + {c2}z + {d2} = 0 et {a3}x + {b3}y + {c3}z + {d3} = 0\"\n",
    "    else:\n",
    "        return \"Le point n'existe pas.\"\n",
    " "
   ]
  },
  {
   "cell_type": "markdown",
   "id": "8a4adb36",
   "metadata": {},
   "source": [
    "Voici un exemple.\\\n",
    "Supposons que nous avons trois plans: \n",
    "$$P_1: 1x + 2y + 3z +4 = 0$$\n",
    "$$P_2: 5x + 6y + 7z + 8 = 0$$\n",
    "$$P_3: 1x + 4y + 9z + 16 = 0$$\n",
    "Alors on peut représenter le point correspondant:"
   ]
  },
  {
   "cell_type": "code",
   "execution_count": 12,
   "id": "53cb70eb",
   "metadata": {},
   "outputs": [
    {
     "name": "stdout",
     "output_type": "stream",
     "text": [
      "le point est représentée par les équations suivantes: 1x + 2y + 3z + 4 = 0, 5x + 6y + 7z + 8 = 0 et 1x + 4y + 9z + 16 = 0\n"
     ]
    }
   ],
   "source": [
    "point1=point((1,2,3,4), (5,6,7,8),(1,4,9,16))\n",
    "print(point1)"
   ]
  },
  {
   "cell_type": "markdown",
   "id": "6edd110f",
   "metadata": {},
   "source": [
    "Voici un autre exemple où le point n'existe pas."
   ]
  },
  {
   "cell_type": "code",
   "execution_count": 13,
   "id": "aba8d83f",
   "metadata": {},
   "outputs": [
    {
     "name": "stdout",
     "output_type": "stream",
     "text": [
      "Le point n'existe pas.\n"
     ]
    }
   ],
   "source": [
    "point1=point((1,2,3,4), (5,6,7,8),(25,30,35,16))\n",
    "print(point1)"
   ]
  },
  {
   "cell_type": "markdown",
   "id": "8f19e061",
   "metadata": {},
   "source": [
    "On peut aussi chercher le point d'intersection de ces trois plans et essayer de le représenter directement avec les coordonnées (x, y, z). \n",
    "\n",
    "Selon les exigences de la question, nous ne pouvons pas utiliser directement les coordonnées pour représenter les points, mais cet algorithme sera utilisé pour les calculs futurs."
   ]
  },
  {
   "cell_type": "code",
   "execution_count": 14,
   "id": "cdcf6af4",
   "metadata": {},
   "outputs": [],
   "source": [
    "def point_equation(plan1,plan2,plan3):\n",
    "    # Définir les symboles\n",
    "    x, y, z = symbols('x y z')\n",
    "    # Les équations des plans\n",
    "    a1, b1, c1, d1 = plan1\n",
    "    a2, b2, c2, d2 = plan2\n",
    "    a3, b3, c3, d3 = plan3\n",
    "    \n",
    "    A = np.array([[a1,b1,c1], [a2,b2,c2], [a3,b3,c3]])\n",
    "    B = np.array([[a1,b1,c1,-d1], [a2,b2,c2,-d2], [a3,b3,c3,-d3]])\n",
    "\n",
    "    if np.linalg.matrix_rank(A) == np.linalg.matrix_rank(B) == 3:\n",
    "        #Définir les équations des trois plans\n",
    "        eq1 = Eq(a1*x + b1*y + c1*z + d1, 0)\n",
    "        eq2 = Eq(a2*x + b2*y + c2*z + d2, 0)\n",
    "        eq3 = Eq(a3*x + b3*y + c3*z + d3, 0)\n",
    "\n",
    "        # Résoudre le système d'équations pour trouver les valeurs de x, y et z\n",
    "        sol = solve((eq1, eq2, eq3), (x, y, z))\n",
    "        return sol[x], sol[y], sol[z]\n",
    "    else:\n",
    "        return \"Le point n'existe pas.\"\n",
    "\n",
    "    "
   ]
  },
  {
   "cell_type": "code",
   "execution_count": 15,
   "id": "3561392b",
   "metadata": {},
   "outputs": [
    {
     "data": {
      "text/plain": [
       "\"Le point n'existe pas.\""
      ]
     },
     "execution_count": 15,
     "metadata": {},
     "output_type": "execute_result"
    }
   ],
   "source": [
    "point_equation((2,1,0,0),(2,2,1,0),(2,3,2,2))"
   ]
  },
  {
   "cell_type": "code",
   "execution_count": 16,
   "id": "6ed111f1",
   "metadata": {},
   "outputs": [
    {
     "data": {
      "text/plain": [
       "(-1, 3, -3)"
      ]
     },
     "execution_count": 16,
     "metadata": {},
     "output_type": "execute_result"
    }
   ],
   "source": [
    "point_equation((1,2,3,4), (5,6,7,8),(1,4,9,16))"
   ]
  },
  {
   "cell_type": "code",
   "execution_count": 17,
   "id": "11cdd42b",
   "metadata": {},
   "outputs": [
    {
     "name": "stdout",
     "output_type": "stream",
     "text": [
      "(-1, 3, -3)\n"
     ]
    }
   ],
   "source": [
    "point2=point_equation((1,2,3,4), (5,6,7,8),(1,4,9,16))\n",
    "print(point2)"
   ]
  },
  {
   "cell_type": "markdown",
   "id": "32277dc6",
   "metadata": {},
   "source": [
    "### Question 1\n",
    "##### Expliquer mathématiquement, en termes d’équations, comment effectuer les opérations énoncées. Le programmer en Python."
   ]
  },
  {
   "cell_type": "markdown",
   "id": "12785c4e",
   "metadata": {},
   "source": [
    "On peut construire **un plan** (1 équation) passant par **un point donné** (3 équations)\n",
    "$$P_1: 𝑎_1𝑥+𝑏_1𝑦+𝑐_1𝑧+𝑑_1=0$$\n",
    "$$P_2: 𝑎_2𝑥+𝑏_2𝑦+𝑐_2𝑧+𝑑_2=0$$\n",
    "$$P_3: 𝑎_3𝑥+𝑏_3𝑦+𝑐_3𝑧+𝑑_3=0$$\n",
    "et parallèle à **un plan donné** (1 équation)\n",
    "$$P_4: 𝑎_4𝑥+𝑏_4𝑦+𝑐_4𝑧+𝑑_4=0$$\n",
    "\n",
    "Évidemment, l'équation du plan que nous cherchons est \n",
    "$$a_4x + b_4y + c_4z + e = 0$$\n",
    "où $e$ est une valeur inconnue. \\\n",
    "On cherche alors la valeur de $e$."
   ]
  },
  {
   "cell_type": "code",
   "execution_count": 18,
   "id": "51f12aea",
   "metadata": {},
   "outputs": [],
   "source": [
    "def plan_a(plan1,plan2,plan3,plan4):\n",
    "    # Les équations des plans\n",
    "    a1, b1, c1, d1 = plan1\n",
    "    a2, b2, c2, d2 = plan2\n",
    "    a3, b3, c3, d3 = plan3\n",
    "    a4, b4, c4, d4 = plan4\n",
    "    \n",
    "   # Justifier si le point existe\n",
    "    v1 = np.array([a1, b1, c1])\n",
    "    v2 = np.array([a2, b2, c2])\n",
    "    v3 = np.array([a3, b3, c3])\n",
    "    product1=np.cross(v1,v2)\n",
    "    product2=np.cross(v1,v3)\n",
    "    product3=np.cross(v2,v3)\n",
    "    if np.all(product1 == 0) or np.all(product2 == 0) or np.all(product3 == 0):\n",
    "        return \"Le point n'existe pas.\"\n",
    "    else:\n",
    "        # Trouver le point d'intersection des trois plans donnés\n",
    "        p = point_equation(plan1,plan2,plan3)\n",
    "\n",
    "        # Trouver la constante e du plan recherché\n",
    "        e = -np.dot(([a4, b4, c4]), (p[0],p[1],p[2]))\n",
    "    \n",
    "        # Afficher l'équation du plan recherché\n",
    "        return f\"L'équation du plan recherché est {a4}x + {b4}y + {c4}z + {e} = 0\""
   ]
  },
  {
   "cell_type": "markdown",
   "id": "2fee86fc",
   "metadata": {},
   "source": [
    "Voici un exemple comment ce code marche."
   ]
  },
  {
   "cell_type": "code",
   "execution_count": 19,
   "id": "ddefd30c",
   "metadata": {},
   "outputs": [
    {
     "name": "stdout",
     "output_type": "stream",
     "text": [
      "L'équation du plan recherché est 2x + 3y + 0z + -10 = 0\n"
     ]
    }
   ],
   "source": [
    "plan_a1=plan_a((1,2,3,4),(1,4,9,16),(1,8,27,64),(2,3,0,7))\n",
    "print(plan_a1)"
   ]
  },
  {
   "cell_type": "markdown",
   "id": "87a79e46",
   "metadata": {},
   "source": [
    "On peut construire **un plan** (1 équation) passant par **un point donné** (3 équations)\n",
    "$$P_1: 𝑎_1𝑥+𝑏_1𝑦+𝑐_1𝑧+𝑑_1=0$$\n",
    "$$P_2: 𝑎_2𝑥+𝑏_2𝑦+𝑐_2𝑧+𝑑_2=0$$\n",
    "$$P_3: 𝑎_3𝑥+𝑏_3𝑦+𝑐_3𝑧+𝑑_3=0$$\n",
    "et perpendiculaire à **une droite** donnée (2 équations)\n",
    "$$P_4: 𝑎_4𝑥+𝑏_4𝑦+𝑐_4𝑧+𝑑_4=0$$\n",
    "$$P_5: 𝑎_5𝑥+𝑏_5𝑦+𝑐_5𝑧+𝑑_5=0$$\n",
    "\n",
    "On cherche alors l'équation du plan."
   ]
  },
  {
   "cell_type": "code",
   "execution_count": 20,
   "id": "91ef9aab",
   "metadata": {},
   "outputs": [],
   "source": [
    "def plan_b(plan1,plan2,plan3,plan4,plan5):\n",
    "    # Les équations des plans\n",
    "    a1, b1, c1, d1 = plan1\n",
    "    a2, b2, c2, d2 = plan2\n",
    "    a3, b3, c3, d3 = plan3\n",
    "    a4, b4, c4, d4 = plan4\n",
    "    a5, b5, c5, d5 = plan5\n",
    "    \n",
    "    # Justifier si le point existe\n",
    "    v1 = np.array([a1, b1, c1])\n",
    "    v2 = np.array([a2, b2, c2])\n",
    "    v3 = np.array([a3, b3, c3])\n",
    "    v4 = np.array([a4, b4, c4])\n",
    "    v5 = np.array([a5, b5, c5])\n",
    "    product1=np.cross(v1,v2)\n",
    "    product2=np.cross(v1,v3)\n",
    "    product3=np.cross(v2,v3)\n",
    "    product4=np.cross(v4,v5)\n",
    "    if np.all(product1 == 0) or np.all(product2 == 0) or np.all(product3 == 0):\n",
    "        return \"Le point n'existe pas.\"\n",
    "    # Justifier si la droite existe\n",
    "    elif np.all(product4 == 0):\n",
    "        return \"La droite n'existe pas.\"\n",
    "    else:\n",
    "        # Trouver le point d'intersection des trois plans donnés\n",
    "        p = point_equation(plan1,plan2,plan3)\n",
    "\n",
    "        # Trouver un vecteur direction de la droite\n",
    "        v = np.cross(plan4[:3], plan5[:3])\n",
    "\n",
    "        # Trouver la constante d du plan recherché\n",
    "        d = -np.dot(v, p)\n",
    "\n",
    "        # Afficher l'équation du plan recherché\n",
    "        return(f\"L'équation du plan recherché est {v[0]}x + {v[1]}y + {v[2]}z + {d} = 0\")"
   ]
  },
  {
   "cell_type": "markdown",
   "id": "f95abb18",
   "metadata": {},
   "source": [
    "Voici un exemple comment ce code marche."
   ]
  },
  {
   "cell_type": "code",
   "execution_count": 21,
   "id": "a8f7f297",
   "metadata": {},
   "outputs": [
    {
     "name": "stdout",
     "output_type": "stream",
     "text": [
      "L'équation du plan recherché est 297x + -198y + -95z + 1996 = 0\n"
     ]
    }
   ],
   "source": [
    "plan_a2=plan_b((1,2,3,4),(1,4,9,16),(1,8,27,64),(2,3,0,8),(97,98,99,100))\n",
    "print(plan_a2)"
   ]
  },
  {
   "cell_type": "markdown",
   "id": "73c10181",
   "metadata": {},
   "source": [
    "### Question 2\n",
    "##### Soit deux droites de $R^{3}$ non coplanaires (elles ne sont pas dans un même plan affine), expliquer comment calculer la perpendiculaire commune (droite qui est orthogonale aux deux droites et qui coupent chacune d’entre elles – voir la figure 1.1, de la présente page) à l’aide des seules opérations permises ci-dessus."
   ]
  },
  {
   "cell_type": "markdown",
   "id": "a69debc5",
   "metadata": {},
   "source": [
    "On suppose que la droite affine 1 est l'intersection des plans $P_1: 𝑎_1𝑥+𝑏_1𝑦+𝑐_1𝑧+𝑑_1=0$ et $P_2: 𝑎_2𝑥+𝑏_2𝑦+𝑐_2𝑧+𝑑_2=0$, et la droite affine 2 est l'intersection des plans $P_3: 𝑎_3𝑥+𝑏_3𝑦+𝑐_3𝑧+𝑑_3=0$ et $P_4: 𝑎_4𝑥+𝑏_4𝑦+𝑐_4𝑧+𝑑_4=0$.\n",
    "\n",
    "Pour calculer la perpendiculaire commune aux deux droites dans l'espace $R^{3}$, nous suivons la méthode suivante :\n",
    "\n",
    "Premièrement, nous définissons le plan a, qui passe par un point de la droite 1 et est perpendiculaire à la droite 2. On cherche l'équation du plan a.\n",
    "\n",
    "Deuxièmement, nous définissons le plan b, qui passe par un point de la droite 2 et est perpendiculaire à la droite 1. On cherche  l'équation du plan b.\n",
    "\n",
    "Ainsi, la perpendiculaire commune est l'intersection des plans a et b. Selon la règle du problème, nous pouvons produire les équations des plans a et b pour représenter cette perpendiculaire commune."
   ]
  },
  {
   "cell_type": "markdown",
   "id": "6273dc1b",
   "metadata": {},
   "source": [
    "### Question 3\n",
    "\n",
    "##### Proposer un programme Python qui montre graphiquement la construction étape par étape (à chaque nouvelle construction, on doit produire une nouvelle image)."
   ]
  },
  {
   "cell_type": "markdown",
   "id": "fcea0e55",
   "metadata": {},
   "source": [
    "On écrit le code suivant pour trouver la perpendiculaire commue:"
   ]
  },
  {
   "cell_type": "markdown",
   "id": "b4dc9161",
   "metadata": {},
   "source": [
    "Étape 1 : Nous représentons ces deux droites dans le plan."
   ]
  },
  {
   "cell_type": "code",
   "execution_count": 22,
   "id": "3ac35c76",
   "metadata": {},
   "outputs": [],
   "source": [
    "plan1,plan2,plan3,plan4=(1,2,3,4),(1,3,6,5),(2,2,3,4),(2,5,6,5)"
   ]
  },
  {
   "cell_type": "code",
   "execution_count": 23,
   "id": "3ffa7286",
   "metadata": {},
   "outputs": [
    {
     "data": {
      "image/png": "[encoded data removed]",
      "text/plain": [
       "<Figure size 640x480 with 1 Axes>"
      ]
     },
     "metadata": {},
     "output_type": "display_data"
    },
    {
     "name": "stdout",
     "output_type": "stream",
     "text": [
      "la droite 1 affine est représentée par les équations suivantes: 1x + 2y + 3z + 4 = 0 et 1x + 3y + 6z + 5 = 0; la droite 2 affine est représentée par les équations suivantes: 2x + 2y + 3z + 4 = 0 et 2x + 5y + 6z + 5 = 0\n"
     ]
    }
   ],
   "source": [
    "def plot_plane(ax, plane, xlim=(-20,20), ylim=(-20,20), zlim=(-20,20), color='blue', alpha=0.5):\n",
    "    #normaliser\n",
    "    norm = np.linalg.norm(plane[:3])\n",
    "    plane_normalized = plane / norm\n",
    "    x = np.linspace(xlim[0], xlim[1], 10)\n",
    "    y = np.linspace(ylim[0], ylim[1], 10)\n",
    "    X, Y = np.meshgrid(x, y)\n",
    "    Z = (-plane_normalized[3] - plane_normalized[0] * X - plane_normalized[1] * Y) / plane_normalized[2]\n",
    "    ax.plot_surface(X, Y, Z, color=color, alpha=alpha)\n",
    "\n",
    "def plot_line(ax, point_on_line, line_direction, xlim=(-20,20), ylim=(-20,20), zlim=(-20,20), color='blue', alpha=0.5):\n",
    "    #normaliser\n",
    "    norm = np.linalg.norm(line_direction)\n",
    "    line_direction_normalized = line_direction / norm\n",
    "\n",
    "    x1, x2 = xlim\n",
    "    t1 = (x1 - point_on_line[0]) / line_direction_normalized[0]\n",
    "    t2 = (x2 - point_on_line[0]) / line_direction_normalized[0]\n",
    "    y1 = point_on_line[1] + t1 * line_direction_normalized[1]\n",
    "    y2 = point_on_line[1] + t2 * line_direction_normalized[1]\n",
    "    z1 = point_on_line[2] + t1 * line_direction_normalized[2]\n",
    "    z2 = point_on_line[2] + t2 * line_direction_normalized[2]\n",
    "    ax.plot([x1, x2], [y1, y2], [z1, z2], color=color, alpha=alpha)\n",
    "\n",
    "\n",
    "# Les équations des plans pour la droite 1\n",
    "a1, b1, c1, d1 = plan1\n",
    "a2, b2, c2, d2 = plan2\n",
    "# Les équations des plans pour la droite 2\n",
    "a3, b3, c3, d3 = plan3\n",
    "a4, b4, c4, d4 = plan4\n",
    "\n",
    "# Ici on a vérifié si la droite existe\n",
    "point1,direction1=droite_equation(plan1,plan2)\n",
    "point2,direction2=droite_equation(plan3,plan4)\n",
    "    \n",
    "fig=plt.figure()\n",
    "ax=fig.add_subplot(111,projection='3d')\n",
    "#On utilise alpha pour contrôler la visibilité.\n",
    "plot_line(ax,point1,direction1,color='red',alpha=1)\n",
    "plot_line(ax,point2,direction2,color='black',alpha=1)\n",
    "plt.show()\n",
    "print (f\"la droite 1 affine est représentée par les équations suivantes: {a1}x + {b1}y + {c1}z + {d1} = 0 et {a2}x + {b2}y + {c2}z + {d2} = 0; la droite 2 affine est représentée par les équations suivantes: {a3}x + {b3}y + {c3}z + {d3} = 0 et {a4}x + {b4}y + {c4}z + {d4} = 0\")\n",
    "\n"
   ]
  },
  {
   "cell_type": "code",
   "execution_count": 37,
   "id": "ac78e9dc",
   "metadata": {},
   "outputs": [],
   "source": [
    "import plotly.graph_objs as go"
   ]
  },
  {
   "cell_type": "code",
   "execution_count": 38,
   "id": "829b2d15",
   "metadata": {},
   "outputs": [
    {
     "data": {
      "application/vnd.plotly.v1+json": {
       "config": {
        "plotlyServerURL": "https://plot.ly"
       },
       "data": [
        {
         "line": {
          "color": "red",
          "width": 4
         },
         "mode": "lines",
         "name": "Droite 1",
         "type": "scatter3d",
         "x": [
          -32,
          -31.39393939393939,
          -30.787878787878785,
          -30.181818181818183,
          -29.575757575757578,
          -28.96969696969697,
          -28.36363636363636,
          -27.757575757575758,
          -27.151515151515152,
          -26.545454545454547,
          -25.939393939393938,
          -25.333333333333332,
          -24.727272727272727,
          -24.12121212121212,
          -23.515151515151516,
          -22.90909090909091,
          -22.303030303030305,
          -21.696969696969695,
          -21.09090909090909,
          -20.484848484848484,
          -19.87878787878788,
          -19.272727272727273,
          -18.666666666666664,
          -18.060606060606062,
          -17.454545454545453,
          -16.84848484848485,
          -16.242424242424242,
          -15.636363636363637,
          -15.030303030303031,
          -14.424242424242426,
          -13.818181818181818,
          -13.212121212121215,
          -12.606060606060606,
          -12,
          -11.393939393939394,
          -10.787878787878787,
          -10.181818181818183,
          -9.575757575757574,
          -8.96969696969697,
          -8.363636363636363,
          -7.757575757575756,
          -7.151515151515154,
          -6.545454545454547,
          -5.9393939393939394,
          -5.333333333333332,
          -4.72727272727273,
          -4.121212121212123,
          -3.5151515151515156,
          -2.9090909090909083,
          -2.303030303030301,
          -1.696969696969699,
          -1.0909090909090917,
          -0.4848484848484844,
          0.12121212121212288,
          0.7272727272727249,
          1.3333333333333321,
          1.9393939393939394,
          2.5454545454545467,
          3.1515151515151487,
          3.757575757575756,
          4.363636363636363,
          4.969696969696971,
          5.575757575757573,
          6.18181818181818,
          6.787878787878787,
          7.3939393939393945,
          8.000000000000002,
          8.606060606060604,
          9.212121212121211,
          9.818181818181818,
          10.424242424242426,
          11.030303030303028,
          11.636363636363635,
          12.242424242424242,
          12.84848484848485,
          13.454545454545451,
          14.060606060606059,
          14.666666666666664,
          15.272727272727273,
          15.878787878787875,
          16.484848484848488,
          17.09090909090909,
          17.696969696969692,
          18.303030303030305,
          18.909090909090907,
          19.51515151515152,
          20.12121212121212,
          20.727272727272723,
          21.333333333333336,
          21.939393939393938,
          22.54545454545454,
          23.151515151515152,
          23.757575757575754,
          24.363636363636367,
          24.96969696969697,
          25.57575757575757,
          26.181818181818183,
          26.787878787878785,
          27.393939393939398,
          28
         ],
         "y": [
          29,
          28.39393939393939,
          27.787878787878785,
          27.181818181818183,
          26.575757575757578,
          25.96969696969697,
          25.36363636363636,
          24.757575757575758,
          24.151515151515152,
          23.545454545454547,
          22.939393939393938,
          22.333333333333332,
          21.727272727272727,
          21.12121212121212,
          20.515151515151516,
          19.90909090909091,
          19.303030303030305,
          18.696969696969695,
          18.09090909090909,
          17.484848484848484,
          16.87878787878788,
          16.272727272727273,
          15.666666666666664,
          15.060606060606062,
          14.454545454545453,
          13.84848484848485,
          13.242424242424242,
          12.636363636363637,
          12.030303030303031,
          11.424242424242426,
          10.818181818181818,
          10.212121212121215,
          9.606060606060606,
          9,
          8.393939393939394,
          7.787878787878787,
          7.181818181818183,
          6.575757575757575,
          5.969696969696971,
          5.363636363636363,
          4.757575757575756,
          4.151515151515154,
          3.5454545454545467,
          2.9393939393939394,
          2.333333333333332,
          1.7272727272727302,
          1.1212121212121229,
          0.5151515151515156,
          -0.09090909090909172,
          -0.696969696969699,
          -1.303030303030301,
          -1.9090909090909083,
          -2.5151515151515156,
          -3.121212121212123,
          -3.727272727272725,
          -4.333333333333332,
          -4.9393939393939394,
          -5.545454545454547,
          -6.151515151515149,
          -6.757575757575756,
          -7.363636363636363,
          -7.969696969696971,
          -8.575757575757573,
          -9.18181818181818,
          -9.787878787878787,
          -10.393939393939394,
          -11.000000000000002,
          -11.606060606060604,
          -12.212121212121211,
          -12.818181818181818,
          -13.424242424242426,
          -14.030303030303028,
          -14.636363636363635,
          -15.242424242424242,
          -15.84848484848485,
          -16.454545454545453,
          -17.06060606060606,
          -17.666666666666664,
          -18.272727272727273,
          -18.878787878787875,
          -19.484848484848488,
          -20.09090909090909,
          -20.696969696969692,
          -21.303030303030305,
          -21.909090909090907,
          -22.51515151515152,
          -23.12121212121212,
          -23.727272727272723,
          -24.333333333333336,
          -24.939393939393938,
          -25.54545454545454,
          -26.151515151515152,
          -26.757575757575754,
          -27.363636363636367,
          -27.96969696969697,
          -28.57575757575757,
          -29.181818181818183,
          -29.787878787878785,
          -30.393939393939398,
          -31
         ],
         "z": [
          -7,
          -6.797979797979798,
          -6.595959595959595,
          -6.3939393939393945,
          -6.191919191919192,
          -5.98989898989899,
          -5.787878787878787,
          -5.5858585858585865,
          -5.383838383838384,
          -5.181818181818182,
          -4.979797979797979,
          -4.777777777777778,
          -4.575757575757576,
          -4.373737373737374,
          -4.171717171717171,
          -3.9696969696969697,
          -3.767676767676768,
          -3.5656565656565657,
          -3.3636363636363633,
          -3.1616161616161618,
          -2.9595959595959593,
          -2.757575757575758,
          -2.5555555555555554,
          -2.353535353535354,
          -2.1515151515151514,
          -1.9494949494949498,
          -1.7474747474747474,
          -1.5454545454545459,
          -1.3434343434343434,
          -1.1414141414141419,
          -0.9393939393939394,
          -0.7373737373737379,
          -0.5353535353535355,
          -0.33333333333333304,
          -0.1313131313131315,
          0.07070707070707094,
          0.2727272727272725,
          0.4747474747474749,
          0.6767676767676765,
          0.8787878787878789,
          1.0808080808080813,
          1.282828282828282,
          1.4848484848484844,
          1.6868686868686869,
          1.8888888888888893,
          2.09090909090909,
          2.2929292929292924,
          2.494949494949495,
          2.6969696969696972,
          2.8989898989898997,
          3.1010101010101003,
          3.3030303030303028,
          3.505050505050505,
          3.7070707070707076,
          3.9090909090909083,
          4.111111111111111,
          4.313131313131313,
          4.515151515151516,
          4.717171717171716,
          4.919191919191919,
          5.121212121212121,
          5.3232323232323235,
          5.525252525252524,
          5.727272727272727,
          5.929292929292929,
          6.1313131313131315,
          6.333333333333334,
          6.535353535353535,
          6.737373737373737,
          6.9393939393939394,
          7.141414141414142,
          7.3434343434343425,
          7.545454545454545,
          7.747474747474747,
          7.94949494949495,
          8.15151515151515,
          8.353535353535353,
          8.555555555555555,
          8.757575757575758,
          8.959595959595958,
          9.161616161616163,
          9.363636363636363,
          9.565656565656564,
          9.767676767676768,
          9.969696969696969,
          10.171717171717173,
          10.373737373737374,
          10.575757575757574,
          10.777777777777779,
          10.97979797979798,
          11.18181818181818,
          11.383838383838384,
          11.585858585858585,
          11.787878787878789,
          11.98989898989899,
          12.19191919191919,
          12.393939393939394,
          12.595959595959595,
          12.7979797979798,
          13
         ]
        },
        {
         "line": {
          "color": "black",
          "width": 4
         },
         "mode": "lines",
         "name": "Droite 2",
         "type": "scatter3d",
         "x": [
          28.333333333333332,
          27.727272727272723,
          27.121212121212118,
          26.515151515151516,
          25.90909090909091,
          25.3030303030303,
          24.696969696969692,
          24.09090909090909,
          23.484848484848484,
          22.87878787878788,
          22.27272727272727,
          21.666666666666664,
          21.06060606060606,
          20.454545454545453,
          19.848484848484848,
          19.242424242424242,
          18.636363636363637,
          18.030303030303028,
          17.424242424242422,
          16.818181818181817,
          16.21212121212121,
          15.606060606060607,
          14.999999999999998,
          14.393939393939396,
          13.787878787878787,
          13.181818181818183,
          12.575757575757576,
          11.96969696969697,
          11.363636363636365,
          10.75757575757576,
          10.151515151515152,
          9.545454545454549,
          8.93939393939394,
          8.333333333333334,
          7.7272727272727275,
          7.12121212121212,
          6.5151515151515165,
          5.909090909090908,
          5.303030303030304,
          4.696969696969696,
          4.090909090909089,
          3.484848484848487,
          2.87878787878788,
          2.2727272727272725,
          1.6666666666666654,
          1.0606060606060634,
          0.45454545454545614,
          -0.15151515151515116,
          -0.7575757575757585,
          -1.3636363636363658,
          -1.9696969696969677,
          -2.5757575757575752,
          -3.1818181818181825,
          -3.78787878787879,
          -4.393939393939392,
          -4.999999999999999,
          -5.606060606060606,
          -6.212121212121214,
          -6.818181818181816,
          -7.424242424242423,
          -8.03030303030303,
          -8.636363636363637,
          -9.242424242424239,
          -9.848484848484846,
          -10.454545454545453,
          -11.06060606060606,
          -11.666666666666668,
          -12.27272727272727,
          -12.878787878787877,
          -13.484848484848484,
          -14.090909090909092,
          -14.696969696969694,
          -15.303030303030301,
          -15.909090909090908,
          -16.515151515151516,
          -17.121212121212118,
          -17.727272727272727,
          -18.333333333333332,
          -18.93939393939394,
          -19.545454545454543,
          -20.151515151515156,
          -20.757575757575758,
          -21.36363636363636,
          -21.969696969696972,
          -22.575757575757574,
          -23.181818181818187,
          -23.78787878787879,
          -24.39393939393939,
          -25.000000000000004,
          -25.606060606060606,
          -26.212121212121207,
          -26.81818181818182,
          -27.424242424242422,
          -28.030303030303035,
          -28.636363636363637,
          -29.24242424242424,
          -29.84848484848485,
          -30.454545454545453,
          -31.060606060606066,
          -31.666666666666668
         ],
         "y": [
          59.666666666666664,
          58.454545454545446,
          57.242424242424235,
          56.03030303030303,
          54.81818181818182,
          53.6060606060606,
          52.393939393939384,
          51.18181818181818,
          49.96969696969697,
          48.75757575757576,
          47.54545454545454,
          46.33333333333333,
          45.12121212121212,
          43.90909090909091,
          42.696969696969695,
          41.484848484848484,
          40.27272727272727,
          39.060606060606055,
          37.848484848484844,
          36.63636363636363,
          35.42424242424242,
          34.21212121212121,
          32.99999999999999,
          31.787878787878793,
          30.575757575757574,
          29.363636363636367,
          28.151515151515152,
          26.93939393939394,
          25.72727272727273,
          24.51515151515152,
          23.303030303030305,
          22.090909090909097,
          20.87878787878788,
          19.666666666666668,
          18.454545454545457,
          17.242424242424242,
          16.030303030303035,
          14.818181818181817,
          13.606060606060607,
          12.393939393939393,
          11.181818181818178,
          9.969696969696974,
          8.75757575757576,
          7.545454545454546,
          6.333333333333331,
          5.121212121212127,
          3.9090909090909123,
          2.6969696969696977,
          1.4848484848484833,
          0.27272727272726865,
          -0.9393939393939352,
          -2.15151515151515,
          -3.3636363636363646,
          -4.575757575757579,
          -5.787878787878783,
          -6.999999999999997,
          -8.212121212121213,
          -9.424242424242427,
          -10.636363636363631,
          -11.848484848484846,
          -13.06060606060606,
          -14.272727272727275,
          -15.484848484848479,
          -16.696969696969692,
          -17.909090909090907,
          -19.12121212121212,
          -20.333333333333336,
          -21.54545454545454,
          -22.757575757575754,
          -23.96969696969697,
          -25.181818181818183,
          -26.393939393939387,
          -27.606060606060602,
          -28.818181818181817,
          -30.03030303030303,
          -31.242424242424235,
          -32.45454545454545,
          -33.666666666666664,
          -34.87878787878788,
          -36.090909090909086,
          -37.30303030303031,
          -38.515151515151516,
          -39.72727272727272,
          -40.939393939393945,
          -42.15151515151515,
          -43.363636363636374,
          -44.57575757575758,
          -45.78787878787878,
          -47.00000000000001,
          -48.21212121212121,
          -49.424242424242415,
          -50.63636363636364,
          -51.848484848484844,
          -53.06060606060607,
          -54.27272727272727,
          -55.48484848484848,
          -56.6969696969697,
          -57.90909090909091,
          -59.12121212121213,
          -60.333333333333336
         ],
         "z": [
          -59,
          -57.78787878787878,
          -56.57575757575757,
          -55.36363636363637,
          -54.151515151515156,
          -52.93939393939394,
          -51.72727272727272,
          -50.515151515151516,
          -49.303030303030305,
          -48.09090909090909,
          -46.878787878787875,
          -45.666666666666664,
          -44.45454545454545,
          -43.24242424242424,
          -42.03030303030303,
          -40.81818181818182,
          -39.60606060606061,
          -38.39393939393939,
          -37.18181818181818,
          -35.96969696969697,
          -34.75757575757576,
          -33.54545454545455,
          -32.33333333333333,
          -31.121212121212125,
          -29.909090909090907,
          -28.6969696969697,
          -27.484848484848484,
          -26.272727272727273,
          -25.060606060606062,
          -23.84848484848485,
          -22.636363636363637,
          -21.42424242424243,
          -20.21212121212121,
          -19,
          -17.78787878787879,
          -16.575757575757574,
          -15.363636363636367,
          -14.15151515151515,
          -12.939393939393941,
          -11.727272727272727,
          -10.515151515151512,
          -9.303030303030308,
          -8.090909090909093,
          -6.878787878787879,
          -5.666666666666664,
          -4.45454545454546,
          -3.2424242424242458,
          -2.030303030303031,
          -0.8181818181818166,
          0.39393939393939803,
          1.606060606060602,
          2.8181818181818166,
          4.030303030303031,
          5.242424242424246,
          6.45454545454545,
          7.666666666666664,
          8.878787878787879,
          10.090909090909093,
          11.303030303030297,
          12.515151515151512,
          13.727272727272727,
          14.939393939393941,
          16.151515151515145,
          17.36363636363636,
          18.575757575757574,
          19.78787878787879,
          21.000000000000004,
          22.212121212121207,
          23.424242424242422,
          24.636363636363637,
          25.84848484848485,
          27.060606060606055,
          28.27272727272727,
          29.484848484848484,
          30.6969696969697,
          31.909090909090903,
          33.12121212121212,
          34.33333333333333,
          35.54545454545455,
          36.75757575757575,
          37.969696969696976,
          39.18181818181818,
          40.393939393939384,
          41.60606060606061,
          42.81818181818181,
          44.03030303030304,
          45.24242424242424,
          46.454545454545446,
          47.66666666666667,
          48.878787878787875,
          50.09090909090908,
          51.303030303030305,
          52.51515151515151,
          53.727272727272734,
          54.93939393939394,
          56.15151515151514,
          57.36363636363637,
          58.57575757575757,
          59.787878787878796,
          61
         ]
        }
       ],
       "layout": {
        "margin": {
         "b": 0,
         "l": 0,
         "r": 0,
         "t": 0
        },
        "scene": {
         "xaxis": {
          "title": {
           "text": "X"
          }
         },
         "yaxis": {
          "title": {
           "text": "Y"
          }
         },
         "zaxis": {
          "title": {
           "text": "Z"
          }
         }
        },
        "template": {
         "data": {
          "bar": [
           {
            "error_x": {
             "color": "#2a3f5f"
            },
            "error_y": {
             "color": "#2a3f5f"
            },
            "marker": {
             "line": {
              "color": "#E5ECF6",
              "width": 0.5
             },
             "pattern": {
              "fillmode": "overlay",
              "size": 10,
              "solidity": 0.2
             }
            },
            "type": "bar"
           }
          ],
          "barpolar": [
           {
            "marker": {
             "line": {
              "color": "#E5ECF6",
              "width": 0.5
             },
             "pattern": {
              "fillmode": "overlay",
              "size": 10,
              "solidity": 0.2
             }
            },
            "type": "barpolar"
           }
          ],
          "carpet": [
           {
            "aaxis": {
             "endlinecolor": "#2a3f5f",
             "gridcolor": "white",
             "linecolor": "white",
             "minorgridcolor": "white",
             "startlinecolor": "#2a3f5f"
            },
            "baxis": {
             "endlinecolor": "#2a3f5f",
             "gridcolor": "white",
             "linecolor": "white",
             "minorgridcolor": "white",
             "startlinecolor": "#2a3f5f"
            },
            "type": "carpet"
           }
          ],
          "choropleth": [
           {
            "colorbar": {
             "outlinewidth": 0,
             "ticks": ""
            },
            "type": "choropleth"
           }
          ],
          "contour": [
           {
            "colorbar": {
             "outlinewidth": 0,
             "ticks": ""
            },
            "colorscale": [
             [
              0,
              "#0d0887"
             ],
             [
              0.1111111111111111,
              "#46039f"
             ],
             [
              0.2222222222222222,
              "#7201a8"
             ],
             [
              0.3333333333333333,
              "#9c179e"
             ],
             [
              0.4444444444444444,
              "#bd3786"
             ],
             [
              0.5555555555555556,
              "#d8576b"
             ],
             [
              0.6666666666666666,
              "#ed7953"
             ],
             [
              0.7777777777777778,
              "#fb9f3a"
             ],
             [
              0.8888888888888888,
              "#fdca26"
             ],
             [
              1,
              "#f0f921"
             ]
            ],
            "type": "contour"
           }
          ],
          "contourcarpet": [
           {
            "colorbar": {
             "outlinewidth": 0,
             "ticks": ""
            },
            "type": "contourcarpet"
           }
          ],
          "heatmap": [
           {
            "colorbar": {
             "outlinewidth": 0,
             "ticks": ""
            },
            "colorscale": [
             [
              0,
              "#0d0887"
             ],
             [
              0.1111111111111111,
              "#46039f"
             ],
             [
              0.2222222222222222,
              "#7201a8"
             ],
             [
              0.3333333333333333,
              "#9c179e"
             ],
             [
              0.4444444444444444,
              "#bd3786"
             ],
             [
              0.5555555555555556,
              "#d8576b"
             ],
             [
              0.6666666666666666,
              "#ed7953"
             ],
             [
              0.7777777777777778,
              "#fb9f3a"
             ],
             [
              0.8888888888888888,
              "#fdca26"
             ],
             [
              1,
              "#f0f921"
             ]
            ],
            "type": "heatmap"
           }
          ],
          "heatmapgl": [
           {
            "colorbar": {
             "outlinewidth": 0,
             "ticks": ""
            },
            "colorscale": [
             [
              0,
              "#0d0887"
             ],
             [
              0.1111111111111111,
              "#46039f"
             ],
             [
              0.2222222222222222,
              "#7201a8"
             ],
             [
              0.3333333333333333,
              "#9c179e"
             ],
             [
              0.4444444444444444,
              "#bd3786"
             ],
             [
              0.5555555555555556,
              "#d8576b"
             ],
             [
              0.6666666666666666,
              "#ed7953"
             ],
             [
              0.7777777777777778,
              "#fb9f3a"
             ],
             [
              0.8888888888888888,
              "#fdca26"
             ],
             [
              1,
              "#f0f921"
             ]
            ],
            "type": "heatmapgl"
           }
          ],
          "histogram": [
           {
            "marker": {
             "pattern": {
              "fillmode": "overlay",
              "size": 10,
              "solidity": 0.2
             }
            },
            "type": "histogram"
           }
          ],
          "histogram2d": [
           {
            "colorbar": {
             "outlinewidth": 0,
             "ticks": ""
            },
            "colorscale": [
             [
              0,
              "#0d0887"
             ],
             [
              0.1111111111111111,
              "#46039f"
             ],
             [
              0.2222222222222222,
              "#7201a8"
             ],
             [
              0.3333333333333333,
              "#9c179e"
             ],
             [
              0.4444444444444444,
              "#bd3786"
             ],
             [
              0.5555555555555556,
              "#d8576b"
             ],
             [
              0.6666666666666666,
              "#ed7953"
             ],
             [
              0.7777777777777778,
              "#fb9f3a"
             ],
             [
              0.8888888888888888,
              "#fdca26"
             ],
             [
              1,
              "#f0f921"
             ]
            ],
            "type": "histogram2d"
           }
          ],
          "histogram2dcontour": [
           {
            "colorbar": {
             "outlinewidth": 0,
             "ticks": ""
            },
            "colorscale": [
             [
              0,
              "#0d0887"
             ],
             [
              0.1111111111111111,
              "#46039f"
             ],
             [
              0.2222222222222222,
              "#7201a8"
             ],
             [
              0.3333333333333333,
              "#9c179e"
             ],
             [
              0.4444444444444444,
              "#bd3786"
             ],
             [
              0.5555555555555556,
              "#d8576b"
             ],
             [
              0.6666666666666666,
              "#ed7953"
             ],
             [
              0.7777777777777778,
              "#fb9f3a"
             ],
             [
              0.8888888888888888,
              "#fdca26"
             ],
             [
              1,
              "#f0f921"
             ]
            ],
            "type": "histogram2dcontour"
           }
          ],
          "mesh3d": [
           {
            "colorbar": {
             "outlinewidth": 0,
             "ticks": ""
            },
            "type": "mesh3d"
           }
          ],
          "parcoords": [
           {
            "line": {
             "colorbar": {
              "outlinewidth": 0,
              "ticks": ""
             }
            },
            "type": "parcoords"
           }
          ],
          "pie": [
           {
            "automargin": true,
            "type": "pie"
           }
          ],
          "scatter": [
           {
            "fillpattern": {
             "fillmode": "overlay",
             "size": 10,
             "solidity": 0.2
            },
            "type": "scatter"
           }
          ],
          "scatter3d": [
           {
            "line": {
             "colorbar": {
              "outlinewidth": 0,
              "ticks": ""
             }
            },
            "marker": {
             "colorbar": {
              "outlinewidth": 0,
              "ticks": ""
             }
            },
            "type": "scatter3d"
           }
          ],
          "scattercarpet": [
           {
            "marker": {
             "colorbar": {
              "outlinewidth": 0,
              "ticks": ""
             }
            },
            "type": "scattercarpet"
           }
          ],
          "scattergeo": [
           {
            "marker": {
             "colorbar": {
              "outlinewidth": 0,
              "ticks": ""
             }
            },
            "type": "scattergeo"
           }
          ],
          "scattergl": [
           {
            "marker": {
             "colorbar": {
              "outlinewidth": 0,
              "ticks": ""
             }
            },
            "type": "scattergl"
           }
          ],
          "scattermapbox": [
           {
            "marker": {
             "colorbar": {
              "outlinewidth": 0,
              "ticks": ""
             }
            },
            "type": "scattermapbox"
           }
          ],
          "scatterpolar": [
           {
            "marker": {
             "colorbar": {
              "outlinewidth": 0,
              "ticks": ""
             }
            },
            "type": "scatterpolar"
           }
          ],
          "scatterpolargl": [
           {
            "marker": {
             "colorbar": {
              "outlinewidth": 0,
              "ticks": ""
             }
            },
            "type": "scatterpolargl"
           }
          ],
          "scatterternary": [
           {
            "marker": {
             "colorbar": {
              "outlinewidth": 0,
              "ticks": ""
             }
            },
            "type": "scatterternary"
           }
          ],
          "surface": [
           {
            "colorbar": {
             "outlinewidth": 0,
             "ticks": ""
            },
            "colorscale": [
             [
              0,
              "#0d0887"
             ],
             [
              0.1111111111111111,
              "#46039f"
             ],
             [
              0.2222222222222222,
              "#7201a8"
             ],
             [
              0.3333333333333333,
              "#9c179e"
             ],
             [
              0.4444444444444444,
              "#bd3786"
             ],
             [
              0.5555555555555556,
              "#d8576b"
             ],
             [
              0.6666666666666666,
              "#ed7953"
             ],
             [
              0.7777777777777778,
              "#fb9f3a"
             ],
             [
              0.8888888888888888,
              "#fdca26"
             ],
             [
              1,
              "#f0f921"
             ]
            ],
            "type": "surface"
           }
          ],
          "table": [
           {
            "cells": {
             "fill": {
              "color": "#EBF0F8"
             },
             "line": {
              "color": "white"
             }
            },
            "header": {
             "fill": {
              "color": "#C8D4E3"
             },
             "line": {
              "color": "white"
             }
            },
            "type": "table"
           }
          ]
         },
         "layout": {
          "annotationdefaults": {
           "arrowcolor": "#2a3f5f",
           "arrowhead": 0,
           "arrowwidth": 1
          },
          "autotypenumbers": "strict",
          "coloraxis": {
           "colorbar": {
            "outlinewidth": 0,
            "ticks": ""
           }
          },
          "colorscale": {
           "diverging": [
            [
             0,
             "#8e0152"
            ],
            [
             0.1,
             "#c51b7d"
            ],
            [
             0.2,
             "#de77ae"
            ],
            [
             0.3,
             "#f1b6da"
            ],
            [
             0.4,
             "#fde0ef"
            ],
            [
             0.5,
             "#f7f7f7"
            ],
            [
             0.6,
             "#e6f5d0"
            ],
            [
             0.7,
             "#b8e186"
            ],
            [
             0.8,
             "#7fbc41"
            ],
            [
             0.9,
             "#4d9221"
            ],
            [
             1,
             "#276419"
            ]
           ],
           "sequential": [
            [
             0,
             "#0d0887"
            ],
            [
             0.1111111111111111,
             "#46039f"
            ],
            [
             0.2222222222222222,
             "#7201a8"
            ],
            [
             0.3333333333333333,
             "#9c179e"
            ],
            [
             0.4444444444444444,
             "#bd3786"
            ],
            [
             0.5555555555555556,
             "#d8576b"
            ],
            [
             0.6666666666666666,
             "#ed7953"
            ],
            [
             0.7777777777777778,
             "#fb9f3a"
            ],
            [
             0.8888888888888888,
             "#fdca26"
            ],
            [
             1,
             "#f0f921"
            ]
           ],
           "sequentialminus": [
            [
             0,
             "#0d0887"
            ],
            [
             0.1111111111111111,
             "#46039f"
            ],
            [
             0.2222222222222222,
             "#7201a8"
            ],
            [
             0.3333333333333333,
             "#9c179e"
            ],
            [
             0.4444444444444444,
             "#bd3786"
            ],
            [
             0.5555555555555556,
             "#d8576b"
            ],
            [
             0.6666666666666666,
             "#ed7953"
            ],
            [
             0.7777777777777778,
             "#fb9f3a"
            ],
            [
             0.8888888888888888,
             "#fdca26"
            ],
            [
             1,
             "#f0f921"
            ]
           ]
          },
          "colorway": [
           "#636efa",
           "#EF553B",
           "#00cc96",
           "#ab63fa",
           "#FFA15A",
           "#19d3f3",
           "#FF6692",
           "#B6E880",
           "#FF97FF",
           "#FECB52"
          ],
          "font": {
           "color": "#2a3f5f"
          },
          "geo": {
           "bgcolor": "white",
           "lakecolor": "white",
           "landcolor": "#E5ECF6",
           "showlakes": true,
           "showland": true,
           "subunitcolor": "white"
          },
          "hoverlabel": {
           "align": "left"
          },
          "hovermode": "closest",
          "mapbox": {
           "style": "light"
          },
          "paper_bgcolor": "white",
          "plot_bgcolor": "#E5ECF6",
          "polar": {
           "angularaxis": {
            "gridcolor": "white",
            "linecolor": "white",
            "ticks": ""
           },
           "bgcolor": "#E5ECF6",
           "radialaxis": {
            "gridcolor": "white",
            "linecolor": "white",
            "ticks": ""
           }
          },
          "scene": {
           "xaxis": {
            "backgroundcolor": "#E5ECF6",
            "gridcolor": "white",
            "gridwidth": 2,
            "linecolor": "white",
            "showbackground": true,
            "ticks": "",
            "zerolinecolor": "white"
           },
           "yaxis": {
            "backgroundcolor": "#E5ECF6",
            "gridcolor": "white",
            "gridwidth": 2,
            "linecolor": "white",
            "showbackground": true,
            "ticks": "",
            "zerolinecolor": "white"
           },
           "zaxis": {
            "backgroundcolor": "#E5ECF6",
            "gridcolor": "white",
            "gridwidth": 2,
            "linecolor": "white",
            "showbackground": true,
            "ticks": "",
            "zerolinecolor": "white"
           }
          },
          "shapedefaults": {
           "line": {
            "color": "#2a3f5f"
           }
          },
          "ternary": {
           "aaxis": {
            "gridcolor": "white",
            "linecolor": "white",
            "ticks": ""
           },
           "baxis": {
            "gridcolor": "white",
            "linecolor": "white",
            "ticks": ""
           },
           "bgcolor": "#E5ECF6",
           "caxis": {
            "gridcolor": "white",
            "linecolor": "white",
            "ticks": ""
           }
          },
          "title": {
           "x": 0.05
          },
          "xaxis": {
           "automargin": true,
           "gridcolor": "white",
           "linecolor": "white",
           "ticks": "",
           "title": {
            "standoff": 15
           },
           "zerolinecolor": "white",
           "zerolinewidth": 2
          },
          "yaxis": {
           "automargin": true,
           "gridcolor": "white",
           "linecolor": "white",
           "ticks": "",
           "title": {
            "standoff": 15
           },
           "zerolinecolor": "white",
           "zerolinewidth": 2
          }
         }
        }
       }
      }
     },
     "metadata": {},
     "output_type": "display_data"
    },
    {
     "name": "stdout",
     "output_type": "stream",
     "text": [
      "la droite 1 affine est représentée par les équations suivantes: 1x + 2y + 3z + 4 = 0 et 1x + 3y + 6z + 5 = 0; la droite 2 affine est représentée par les équations suivantes: 2x + 2y + 3z + 4 = 0 et 2x + 5y + 6z + 5 = 0\n"
     ]
    }
   ],
   "source": [
    "\n",
    "# Les équations des plans pour la droite 1\n",
    "a1, b1, c1, d1 = plan1\n",
    "a2, b2, c2, d2 = plan2\n",
    "# Les équations des plans pour la droite 2\n",
    "a3, b3, c3, d3 = plan3\n",
    "a4, b4, c4, d4 = plan4\n",
    "\n",
    "# Ici on a vérifié si la droite existe\n",
    "point1, direction1 = droite_equation(plan1, plan2)\n",
    "point2, direction2 = droite_equation(plan3, plan4)\n",
    "\n",
    "# Paramétrisation de la droite 1\n",
    "t = np.linspace(-10, 10, 100)\n",
    "x1 = point1[0] + t * direction1[0]\n",
    "y1 = point1[1] + t * direction1[1]\n",
    "z1 = point1[2] + t * direction1[2]\n",
    "\n",
    "# Paramétrisation de la droite 2\n",
    "x2 = point2[0] + t * direction2[0]\n",
    "y2 = point2[1] + t * direction2[1]\n",
    "z2 = point2[2] + t * direction2[2]\n",
    "\n",
    "# Création de la figure en 3D\n",
    "fig = go.Figure()\n",
    "\n",
    "# Ajout de la droite 1 à la figure\n",
    "fig.add_trace(go.Scatter3d(\n",
    "    x=x1, y=y1, z=z1,\n",
    "    mode='lines',\n",
    "    name='Droite 1',\n",
    "    line=dict(color='red', width=4)\n",
    "))\n",
    "\n",
    "# Ajout de la droite 2 à la figure\n",
    "fig.add_trace(go.Scatter3d(\n",
    "    x=x2, y=y2, z=z2,\n",
    "    mode='lines',\n",
    "    name='Droite 2',\n",
    "    line=dict(color='black', width=4)\n",
    "))\n",
    "\n",
    "# Configuration de la mise en page de la figure\n",
    "fig.update_layout(\n",
    "    scene=dict(\n",
    "        xaxis=dict(title='X'),\n",
    "        yaxis=dict(title='Y'),\n",
    "        zaxis=dict(title='Z')\n",
    "    ),\n",
    "    margin=dict(l=0, r=0, t=0, b=0)\n",
    ")\n",
    "\n",
    "# Affichage de la figure\n",
    "fig.show()\n",
    "print (f\"la droite 1 affine est représentée par les équations suivantes: {a1}x + {b1}y + {c1}z + {d1} = 0 et {a2}x + {b2}y + {c2}z + {d2} = 0; la droite 2 affine est représentée par les équations suivantes: {a3}x + {b3}y + {c3}z + {d3} = 0 et {a4}x + {b4}y + {c4}z + {d4} = 0\")\n"
   ]
  },
  {
   "cell_type": "markdown",
   "id": "9387fbe0",
   "metadata": {},
   "source": [
    "Étape 2 : Nous définissons le plan a, qui passe par un point de la droite 1 et est perpendiculaire à la droite 2. On cherche  l'équation du plan a."
   ]
  },
  {
   "cell_type": "code",
   "execution_count": 1,
   "id": "c6636db0",
   "metadata": {},
   "outputs": [],
   "source": [
    "def perpendicular_plan(point,line_point, line_direction):\n",
    "    point = np.array(point)\n",
    "    normal = np.cross(line_direction, point - line_point)\n",
    "    d = -np.dot(normal, point)\n",
    "    a,b,c=normal\n",
    "    return a,b,c,d"
   ]
  },
  {
   "cell_type": "code",
   "execution_count": 26,
   "id": "568ffbe5",
   "metadata": {},
   "outputs": [
    {
     "data": {
      "image/png": "[encoded data removed]",
      "text/plain": [
       "<Figure size 640x480 with 1 Axes>"
      ]
     },
     "metadata": {},
     "output_type": "display_data"
    }
   ],
   "source": [
    "a1x,a2x,a3x,a4x=perpendicular_plan(point1,point2,direction2)\n",
    "plan_a=[a1x,a2x,a3x,a4x]\n",
    "    \n",
    "fig=plt.figure()\n",
    "ax=fig.add_subplot(111,projection='3d')\n",
    "plot_line(ax,point1,direction1,color='red',alpha=1)\n",
    "plot_line(ax,point2,direction2,color='black',alpha=1)\n",
    "#On utilise la couleur \"jaune\" pour présenter le premier plan. Ici, on fait alpha=1 pour bien visualier et pour \"souligner\".\n",
    "plot_plane(ax,plan_a,color='yellow',alpha=1)\n",
    "plt.show()"
   ]
  },
  {
   "cell_type": "code",
   "execution_count": 2,
   "id": "3982e66d",
   "metadata": {},
   "outputs": [
    {
     "ename": "NameError",
     "evalue": "name 'np' is not defined",
     "output_type": "error",
     "traceback": [
      "\u001b[0;31m---------------------------------------------------------------------------\u001b[0m",
      "\u001b[0;31mNameError\u001b[0m                                 Traceback (most recent call last)",
      "\u001b[0;32m/var/folders/pc/3dbpcd_12ys5g0jfstcrzczw0000gn/T/ipykernel_3810/1157941679.py\u001b[0m in \u001b[0;36m<module>\u001b[0;34m\u001b[0m\n\u001b[0;32m----> 1\u001b[0;31m \u001b[0mx\u001b[0m\u001b[0;34m=\u001b[0m\u001b[0mnp\u001b[0m\u001b[0;34m.\u001b[0m\u001b[0mlinspace\u001b[0m\u001b[0;34m(\u001b[0m\u001b[0;34m-\u001b[0m\u001b[0;36m20\u001b[0m\u001b[0;34m,\u001b[0m \u001b[0;36m20\u001b[0m\u001b[0;34m,\u001b[0m \u001b[0;36m10\u001b[0m\u001b[0;34m)\u001b[0m\u001b[0;34m\u001b[0m\u001b[0;34m\u001b[0m\u001b[0m\n\u001b[0m\u001b[1;32m      2\u001b[0m \u001b[0my\u001b[0m\u001b[0;34m=\u001b[0m\u001b[0mnp\u001b[0m\u001b[0;34m.\u001b[0m\u001b[0mlinspace\u001b[0m\u001b[0;34m(\u001b[0m\u001b[0;34m-\u001b[0m\u001b[0;36m20\u001b[0m\u001b[0;34m,\u001b[0m \u001b[0;36m20\u001b[0m\u001b[0;34m,\u001b[0m \u001b[0;36m10\u001b[0m\u001b[0;34m)\u001b[0m\u001b[0;34m\u001b[0m\u001b[0;34m\u001b[0m\u001b[0m\n\u001b[1;32m      3\u001b[0m \u001b[0mX\u001b[0m\u001b[0;34m,\u001b[0m \u001b[0mY\u001b[0m \u001b[0;34m=\u001b[0m \u001b[0mnp\u001b[0m\u001b[0;34m.\u001b[0m\u001b[0mmeshgrid\u001b[0m\u001b[0;34m(\u001b[0m\u001b[0mx\u001b[0m\u001b[0;34m,\u001b[0m \u001b[0my\u001b[0m\u001b[0;34m)\u001b[0m\u001b[0;34m\u001b[0m\u001b[0;34m\u001b[0m\u001b[0m\n\u001b[1;32m      4\u001b[0m \u001b[0mZ\u001b[0m \u001b[0;34m=\u001b[0m \u001b[0;34m(\u001b[0m\u001b[0;34m-\u001b[0m\u001b[0mplan_a\u001b[0m\u001b[0;34m[\u001b[0m\u001b[0;36m0\u001b[0m\u001b[0;34m]\u001b[0m \u001b[0;34m*\u001b[0m \u001b[0mX\u001b[0m \u001b[0;34m-\u001b[0m \u001b[0mplan_a\u001b[0m\u001b[0;34m[\u001b[0m\u001b[0;36m1\u001b[0m\u001b[0;34m]\u001b[0m \u001b[0;34m*\u001b[0m \u001b[0mY\u001b[0m \u001b[0;34m-\u001b[0m \u001b[0mplan_a\u001b[0m\u001b[0;34m[\u001b[0m\u001b[0;36m3\u001b[0m\u001b[0;34m]\u001b[0m\u001b[0;34m)\u001b[0m \u001b[0;34m/\u001b[0m \u001b[0mplan_a\u001b[0m\u001b[0;34m[\u001b[0m\u001b[0;36m2\u001b[0m\u001b[0;34m]\u001b[0m\u001b[0;34m\u001b[0m\u001b[0;34m\u001b[0m\u001b[0m\n\u001b[1;32m      5\u001b[0m \u001b[0mplane\u001b[0m \u001b[0;34m=\u001b[0m \u001b[0mgo\u001b[0m\u001b[0;34m.\u001b[0m\u001b[0mSurface\u001b[0m\u001b[0;34m(\u001b[0m\u001b[0mx\u001b[0m\u001b[0;34m=\u001b[0m\u001b[0mX\u001b[0m\u001b[0;34m,\u001b[0m \u001b[0my\u001b[0m\u001b[0;34m=\u001b[0m\u001b[0mY\u001b[0m\u001b[0;34m,\u001b[0m \u001b[0mz\u001b[0m\u001b[0;34m=\u001b[0m\u001b[0mZ\u001b[0m\u001b[0;34m,\u001b[0m \u001b[0mopacity\u001b[0m\u001b[0;34m=\u001b[0m\u001b[0;36m0.5\u001b[0m\u001b[0;34m)\u001b[0m\u001b[0;34m\u001b[0m\u001b[0;34m\u001b[0m\u001b[0m\n",
      "\u001b[0;31mNameError\u001b[0m: name 'np' is not defined"
     ]
    }
   ],
   "source": [
    "x=np.linspace(-20, 20, 10)\n",
    "y=np.linspace(-20, 20, 10)\n",
    "X, Y = np.meshgrid(x, y)\n",
    "Z = (-plan_a[0] * X - plan_a[1] * Y - plan_a[3]) / plan_a[2]\n",
    "plane = go.Surface(x=X, y=Y, z=Z, opacity=0.5)\n",
    "layout = go.Layout(scene=dict(xaxis=dict(title='X'), yaxis=dict(title='Y'), zaxis=dict(title='Z')))\n",
    "fig = go.Figure(data=[plane], layout=layout)\n",
    "fig.show()"
   ]
  },
  {
   "cell_type": "code",
   "execution_count": 42,
   "id": "2dbb58f3",
   "metadata": {},
   "outputs": [],
   "source": []
  },
  {
   "cell_type": "markdown",
   "id": "1fc4a335",
   "metadata": {},
   "source": [
    "Étape 3 : Nous définissons le plan b, qui passe par un point de la droite 2 et est perpendiculaire à la droite 1.On cherche l'équation du plan b.\n"
   ]
  },
  {
   "cell_type": "code",
   "execution_count": 27,
   "id": "aea2bb76",
   "metadata": {},
   "outputs": [
    {
     "data": {
      "image/png": "[encoded data removed]",
      "text/plain": [
       "<Figure size 640x480 with 1 Axes>"
      ]
     },
     "metadata": {},
     "output_type": "display_data"
    }
   ],
   "source": [
    "b1x,b2x,b3x,b4x=perpendicular_plan(point2,point1,direction1)\n",
    "plan_b=[b1x,b2x,b3x,b4x]\n",
    "    \n",
    "fig=plt.figure()\n",
    "ax=fig.add_subplot(111,projection='3d')\n",
    "plot_line(ax,point1,direction1,color='red',alpha=1)\n",
    "plot_line(ax,point2,direction2,color='black',alpha=1)\n",
    "#On utilise la couleur \"jaune\" pour présenter le premier plan. Ici, on fait alpha=0.3 pour bien visualier.\n",
    "plot_plane(ax,plan_a,color='yellow',alpha=0.3)\n",
    "#On utilise la couleur \"bleue\" pour présenter le premier plan. Ici, on fait alpha=0.6 pour bien visualier et pour \"souligner\".\n",
    "plot_plane(ax,plan_b,color='blue',alpha=0.6)\n",
    "plt.show()\n"
   ]
  },
  {
   "cell_type": "markdown",
   "id": "3bdfeb67",
   "metadata": {},
   "source": [
    "Étape 4 : La perpendiculaire commune est l'intersection des plans a et b. Nous mettons en gras cette ligne de perpendicularité commune.\n"
   ]
  },
  {
   "cell_type": "code",
   "execution_count": 28,
   "id": "bb64a2c8",
   "metadata": {},
   "outputs": [
    {
     "data": {
      "image/png": "[encoded data removed]",
      "text/plain": [
       "<Figure size 640x480 with 1 Axes>"
      ]
     },
     "metadata": {},
     "output_type": "display_data"
    }
   ],
   "source": [
    "point3,direction3=droite_equation((a1x,a2x,a3x,a4x),(b1x,b2x,b3x,b4x))\n",
    "fig=plt.figure()\n",
    "ax=fig.add_subplot(111,projection='3d')\n",
    "\n",
    "\n",
    "plot_line(ax,point1,direction1,color='red',alpha=1)\n",
    "plot_line(ax,point2,direction2,color='black',alpha=1)\n",
    "#On utilise la couleur \"jaune\" pour présenter le premier plan. Ici, on fait alpha=0.3 pour bien visualier.\n",
    "plot_plane(ax,plan_a,color='yellow',alpha=0.3)\n",
    "#On utilise la couleur \"jaune\" pour présenter le premier plan. Ici, on fait alpha=0.3 pour bien visualier.\n",
    "plot_plane(ax,plan_b,color='blue',alpha=0.3)\n",
    "#On trace cette perpendiculaire commune pour la placer au-dessus des autres éléments afin de mieux visualier.\n",
    "plot_line(ax,point3,direction3,color='green',alpha=1)\n",
    "\n",
    "\n",
    "\n",
    "plt.show()"
   ]
  },
  {
   "cell_type": "markdown",
   "id": "5093f800",
   "metadata": {},
   "source": [
    "### Question 4\n",
    "##### Peut-on, avec ce programme, construire une droite (2 équations) passant par deux points (3+3 équations)? \n",
    "$$P_1: 𝑎_1𝑥+𝑏_1𝑦+𝑐_1𝑧+𝑑_1=0$$\n",
    "$$P_2: 𝑎_2𝑥+𝑏_2𝑦+𝑐_2𝑧+𝑑_2=0$$\n",
    "$$P_3: 𝑎_3𝑥+𝑏_3𝑦+𝑐_3𝑧+𝑑_3=0$$\n",
    "\n",
    "$$P_4: 𝑎_4𝑥+𝑏_4𝑦+𝑐_4𝑧+𝑑_4=0$$\n",
    "$$P_5: 𝑎_5𝑥+𝑏_5𝑦+𝑐_5𝑧+𝑑_5=0$$\n",
    "$$P_5: 𝑎_6𝑥+𝑏_6𝑦+𝑐_6𝑧+𝑑_6=0$$\n",
    "#####  Justifier. \n"
   ]
  },
  {
   "cell_type": "markdown",
   "id": "962fc3be",
   "metadata": {},
   "source": [
    "### Oui, on peut."
   ]
  },
  {
   "cell_type": "markdown",
   "id": "d1d1f2af",
   "metadata": {},
   "source": [
    "Avant de construire la droite, nous avons d'abord écrire une fonction pour déterminer si trois points (chaque représenté par 3 équations) sont situé sur une même droite."
   ]
  },
  {
   "cell_type": "code",
   "execution_count": 29,
   "id": "ee57d486",
   "metadata": {},
   "outputs": [],
   "source": [
    "def verifier_point(plan1, plan2, plan3, plan4, plan5, plan6, plan7, plan8, plan9):\n",
    "    t1= point_equation(plan1, plan2, plan3)\n",
    "    t2= point_equation(plan4, plan5, plan6)\n",
    "    t3= point_equation(plan7, plan8, plan9)\n",
    "    #Justifier si les trois points existent\n",
    "    if len(t1)==3 and len(t2)==3 and len(t3)==3:\n",
    "        a1, b1, c1 = t1\n",
    "        a2, b2, c2 = t2\n",
    "        a3, b3, c3 = t3\n",
    "        #Justifier si les trois points sont situé sur une même droite\n",
    "        vec1 = np.array([a1-a3,b1-b3,c1-c3])\n",
    "        vec2 = np.array([a2-a3,b2-b3,c2-c3])\n",
    "        pro = np.cross(vec1,vec2)\n",
    "        if np.all(pro == 0):\n",
    "            return 0\n",
    "        else:\n",
    "            return 1\n",
    "    else:\n",
    "        print (\"Au moins un point n'existe pas.\")\n",
    "        return 0"
   ]
  },
  {
   "cell_type": "markdown",
   "id": "6815c184",
   "metadata": {},
   "source": [
    "Voici un exemple comment ce code marche."
   ]
  },
  {
   "cell_type": "code",
   "execution_count": 30,
   "id": "798cbe65",
   "metadata": {},
   "outputs": [
    {
     "data": {
      "text/plain": [
       "1"
      ]
     },
     "execution_count": 30,
     "metadata": {},
     "output_type": "execute_result"
    }
   ],
   "source": [
    "verifier_point((1,0,0,0),(1,3,0,3),(1,1,1,0),(2,1,0,0),(2,3,1,0),(2,7,2,2),(3,1,0,0),(3,1,1,0),(3,3,2,2))"
   ]
  },
  {
   "cell_type": "markdown",
   "id": "8edf464d",
   "metadata": {},
   "source": [
    "Ensuite, nous définissons une fonction qui permet, lorsque nous entrons les cordonéees de trois points (chaque représenté par 3 équations), de générer le plan généré de ces trois points. La sortie de la fonction est $(ai, bi, ci, di)$, où $a_ix + b_iy + c_iz + d_i = 0$ est l’équation du plan.\n",
    "\n",
    "Lorsque les trois points sont situé une même droite, les paramètres du plan généré sont $(0, 0, 0, 0)$."
   ]
  },
  {
   "cell_type": "code",
   "execution_count": 31,
   "id": "96431010",
   "metadata": {},
   "outputs": [],
   "source": [
    "def construire_plan(plan1, plan2, plan3, plan4, plan5, plan6, plan7, plan8, plan9):\n",
    "    \n",
    "    if verifier_point(plan1, plan2, plan3, plan4, plan5, plan6, plan7, plan8, plan9) == 1:\n",
    "        #Obtenir les trois points\n",
    "        a1, b1, c1 = point_equation(plan1, plan2, plan3)\n",
    "        a2, b2, c2 = point_equation(plan4, plan5, plan6)\n",
    "        x, y, z = point_equation(plan7, plan8, plan9)\n",
    "        \n",
    "        #Construire le plan\n",
    "        vec1 = np.array([a1-x, b1-y, c1-z])\n",
    "        vec2 = np.array([a2-x, b2-y, c2-z])\n",
    "        vec3 = np.cross(vec1, vec2)\n",
    "        e = -np.dot((vec3[0], vec3[1], vec3[2]), (a1,b1,c1))\n",
    "        return (vec3[0], vec3[1], vec3[2], e)\n",
    "    else:\n",
    "        return (0, 0, 0, 0)"
   ]
  },
  {
   "cell_type": "markdown",
   "id": "b7eefac4",
   "metadata": {},
   "source": [
    "Voici un exemple comment ce code marche."
   ]
  },
  {
   "cell_type": "code",
   "execution_count": 32,
   "id": "d189ec2e",
   "metadata": {},
   "outputs": [
    {
     "data": {
      "text/plain": [
       "(0, 5/6, 0, 5/6)"
      ]
     },
     "execution_count": 32,
     "metadata": {},
     "output_type": "execute_result"
    }
   ],
   "source": [
    "construire_plan((1,0,0,0),(1,3,0,3),(1,1,1,0),(2,1,0,0),(2,3,1,0),(2,7,2,2),(3,1,0,0),(3,1,1,0),(3,3,2,2))"
   ]
  },
  {
   "cell_type": "markdown",
   "id": "90fc9081",
   "metadata": {},
   "source": [
    "Deux points (chaque représenté par 3 équations) non superposés peuvent déterminer une droite. Il existe de nombreuses façons de représenter une droite en termes de deux équations, et il y a de nombreuse façons de trouver l'une de ces situations, ici on considère de trouver un point supplémentaire dans l'èspace, avec les deux points que nous avons obtenus par les six équations, pour déterminer l'équation d'un plan. En tenant compte de certaines circonstances particulières,nous avons pris les mesures nécessaires de jugement pour éviter les problèmes."
   ]
  },
  {
   "cell_type": "code",
   "execution_count": 33,
   "id": "486885c6",
   "metadata": {},
   "outputs": [],
   "source": [
    "def construire_droite1(plan1, plan2, plan3, plan4, plan5, plan6):\n",
    "    point1 = point_equation(plan1, plan2, plan3)\n",
    "    point2 = point_equation(plan4, plan5, plan6)\n",
    "    \n",
    "    #Justifier si les deux droites existent\n",
    "    if point1 == point2 or type(point1) is str or type(point2) is str:\n",
    "        return \"La droite n'existe pas.\"\n",
    "    else:\n",
    "        #Les plans 7 à 12 sont utilisés pour générer les points (0,0,0), (1,0,0), (0,1,0) et (0,0,1) dans le système de coordonnées.\n",
    "        plan7 = (1,0,0,0)\n",
    "        plan8 = (0,1,0,0)\n",
    "        plan9 = (0,0,1,0)\n",
    "        plan10 = (1,0,0,1)\n",
    "        plan11 = (0,1,0,1)\n",
    "        plan12 = (0,0,1,1)\n",
    "       \n",
    "        #construire et sélectionner deux plans pour représenter la droite\n",
    "        #plan7, plan8 et plan9 construisent le point (0,0,0)\n",
    "        Plan1 = construire_plan(plan1, plan2, plan3, plan4, plan5, plan6, plan7, plan8, plan9)\n",
    "        #plan10, plan8 et plan9 construisent le point (1,0,0)\n",
    "        Plan2 = construire_plan(plan1, plan2, plan3, plan4, plan5, plan6, plan10, plan8, plan9)\n",
    "        #plan7, plan11 et plan9 construisent le point (0,1,0)\n",
    "        Plan3 = construire_plan(plan1, plan2, plan3, plan4, plan5, plan6, plan7, plan11, plan9)\n",
    "        #plan7, plan8 et plan12 construisent le point (0,0,1)\n",
    "        Plan4 = construire_plan(plan1, plan2, plan3, plan4, plan5, plan6, plan7, plan8, plan12)\n",
    "        if not(type(droite_equation(Plan1,Plan2))is str):\n",
    "            return f\"les paramètres des deux équations de la droite sont({Plan1}, {Plan2})\"\n",
    "        elif not(type(droite_equation(Plan1,Plan3))is str):\n",
    "            return f\"les paramètres des deux équations de la droite sont({Plan1}, {Plan3})\"\n",
    "        elif not(type(droite_equation(Plan1,Plan4))is str):\n",
    "            return f\"les paramètres des deux équations de la droite sont({Plan1}, {Plan4})\"\n",
    "        elif not(type(droite_equation(Plan2,Plan3))is str):\n",
    "            return f\"les paramètres des deux équations de la droite sont({Plan2}, {Plan3})\"\n",
    "        elif not(type(droite_equation(Plan2,Plan4))is str):\n",
    "            return f\"les paramètres des deux équations de la droite sont({Plan2}, {Plan4})\"\n",
    "        else:\n",
    "            return f\"les paramètres des deux équations de la droite sont({Plan3}, {Plan4})\"\n",
    "        "
   ]
  },
  {
   "cell_type": "markdown",
   "id": "0fb967ba",
   "metadata": {},
   "source": [
    "Voici un exemple comment ce code marche."
   ]
  },
  {
   "cell_type": "code",
   "execution_count": 34,
   "id": "7d15a3ff",
   "metadata": {},
   "outputs": [
    {
     "data": {
      "text/plain": [
       "'les paramètres des deux équations de la droite sont((0, 3, 3, 0), (-3, 0, 1, 0))'"
      ]
     },
     "execution_count": 34,
     "metadata": {},
     "output_type": "execute_result"
    }
   ],
   "source": [
    "construire_droite1((1,2,3,4), (5,6,7,8),(1,4,9,16), (1,2,3,8), (5,6,7,16),(1,4,9,32))"
   ]
  },
  {
   "cell_type": "markdown",
   "id": "cdb800f3",
   "metadata": {},
   "source": [
    "##### Peut-on, avec ce programme, construire une droite (2 équations) passant par un point (3 équations) \n",
    "$$P_1: 𝑎_1𝑥+𝑏_1𝑦+𝑐_1𝑧+𝑑_1=0$$\n",
    "$$P_2: 𝑎_2𝑥+𝑏_2𝑦+𝑐_2𝑧+𝑑_2=0$$\n",
    "$$P_3: 𝑎_3𝑥+𝑏_3𝑦+𝑐_3𝑧+𝑑_3=0$$\n",
    "\n",
    "##### et perpendiculaire à un plan donné (1 équation)?\n",
    "$$P_4: 𝑎_4𝑥+𝑏_4𝑦+𝑐_4𝑧+𝑑_4=0$$"
   ]
  },
  {
   "cell_type": "markdown",
   "id": "16084f2a",
   "metadata": {},
   "source": [
    "### Oui, on peut."
   ]
  },
  {
   "cell_type": "markdown",
   "id": "8452ae98",
   "metadata": {},
   "source": [
    "Comme avant, nous avons d’innombrables façons d’exprimer cette ligne droite."
   ]
  },
  {
   "cell_type": "markdown",
   "id": "e2376ae7",
   "metadata": {},
   "source": [
    "Nous devons déterminer deux plans. $vec0$ est un vecteur perpendiculaire au plan donné $P4$, qui est parallèle à la ligne que nous voulons. \n",
    "\n",
    "Nous choisissons les vecteurs de base $vec1$, $vec2$ et $vec3$ de $R^{3}$. $vec0$ n’est pas colinéaire avec au moins deux des vecteurs $vec1$, $vec2$ et $vec3$, donc nous en choisissons deux. \n",
    "\n",
    "De cette façon, nous pouvons obtenir deux plans à partir de $vec0$. Le plan 1 est le produit vectoriel de $vec0$ et du premier vecteur choisi, et passe par le point P (représenté par 3 plans). Le plan 2 est le produit vectoriel de $vec0$ et du second vecteur choisi, et passe par le point P (représenté par 3 plans). \n",
    "\n",
    "Ainsi, nous avons obtenu les équations de deux plans représentant cette ligne droite."
   ]
  },
  {
   "cell_type": "code",
   "execution_count": 35,
   "id": "b9f5448c",
   "metadata": {},
   "outputs": [],
   "source": [
    "def construire_droite2(plan1, plan2, plan3, plan4):\n",
    "    point = point_equation(plan1,plan2,plan3)\n",
    "    u0, v0, w0, h0 = plan4\n",
    "    vec0 = np.array([u0, v0, w0])\n",
    "    #Choisir les vecteurs de base dans R3\n",
    "    vec1 = np.array([1,0,0])\n",
    "    vec2 = np.array([0,1,0])\n",
    "    vec3 = np.array([0,0,1])\n",
    "    \n",
    "    #Construire deux plans\n",
    "    if np.all(np.cross(vec0, vec1) == 0):\n",
    "        nor1 = np.cross(vec0, vec2)\n",
    "        nor2 = np.cross(vec0, vec3)\n",
    "    else:\n",
    "        if np.all(np.cross(vec0, vec2) == 0):\n",
    "            nor1 = np.cross(vec0, vec1)\n",
    "            nor2 = np.cross(vec0, vec3)\n",
    "        else:\n",
    "            nor1 = np.cross(vec0, vec1)\n",
    "            nor2 = np.cross(vec0, vec2)\n",
    "    e1 = -np.dot((nor1[0], nor1[1], nor1[2]), point)\n",
    "    e2 = -np.dot((nor2[0], nor2[1], nor1[2]), point)\n",
    "    return f\"Les équations des plans recherchées sont {nor1[0]}x + {nor1[1]}y + {nor1[2]}z + {e1} = 0 et {nor2[0]}x + {nor2[1]}y + {nor2[2]}z + {e2} = 0\""
   ]
  },
  {
   "cell_type": "markdown",
   "id": "fb7e2253",
   "metadata": {},
   "source": [
    "Voici un example comment ce code marche."
   ]
  },
  {
   "cell_type": "code",
   "execution_count": 36,
   "id": "75230d9a",
   "metadata": {},
   "outputs": [
    {
     "data": {
      "text/plain": [
       "'Les équations des plans recherchées sont 0x + 1y + -1z + -6 = 0 et -1x + 0y + 1z + -4 = 0'"
      ]
     },
     "execution_count": 36,
     "metadata": {},
     "output_type": "execute_result"
    }
   ],
   "source": [
    "construire_droite2((1,2,3,4), (5,6,7,8), (1,4,9,16), (1,1,1,1))"
   ]
  },
  {
   "cell_type": "markdown",
   "id": "6d51adc6",
   "metadata": {},
   "source": [
    "### C'est fini!"
   ]
  }
 ],
 "metadata": {
  "kernelspec": {
   "display_name": "base",
   "language": "python",
   "name": "python3"
  },
  "language_info": {
   "codemirror_mode": {
    "name": "ipython",
    "version": 3
   },
   "file_extension": ".py",
   "mimetype": "text/x-python",
   "name": "python",
   "nbconvert_exporter": "python",
   "pygments_lexer": "ipython3",
   "version": "3.9.13"
  },
  "vscode": {
   "interpreter": {
    "hash": "40d3a090f54c6569ab1632332b64b2c03c39dcf918b08424e98f38b5ae0af88f"
   }
  }
 },
 "nbformat": 4,
 "nbformat_minor": 5
}
