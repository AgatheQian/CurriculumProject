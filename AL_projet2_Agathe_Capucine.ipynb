{
 "cells": [
  {
   "cell_type": "code",
   "execution_count": 1,
   "id": "3f18fa17",
   "metadata": {},
   "outputs": [],
   "source": [
    "from numpy.random import randint\n",
    "import sympy as sp\n",
    "import numpy as np\n",
    "from sympy import *\n",
    "import math\n",
    "import time\n",
    "sp.init_printing()"
   ]
  },
  {
   "cell_type": "markdown",
   "id": "9602c1e2",
   "metadata": {},
   "source": [
    "# Question 1"
   ]
  },
  {
   "cell_type": "code",
   "execution_count": 2,
   "id": "ebd855ba",
   "metadata": {},
   "outputs": [
    {
     "data": {
      "text/latex": [
       "$\\displaystyle \\left[\\begin{matrix}0 & 5 & 5 & 1 & 2 & 2 & 0 & 5 & 2 & 4\\\\3 & 4 & 2 & 4 & 2 & 0 & 4 & 0 & 1 & 4\\\\5 & 4 & 1 & 2 & 2 & 0 & 2 & 0 & 3 & 1\\\\3 & 5 & 4 & 2 & 3 & 0 & 5 & 1 & 0 & 2\\\\2 & 2 & 5 & 4 & 3 & 1 & 3 & 0 & 3 & 0\\\\0 & 5 & 5 & 4 & 4 & 3 & 4 & 0 & 2 & 2\\\\2 & 0 & 4 & 3 & 5 & 0 & 0 & 0 & 4 & 5\\\\0 & 2 & 3 & 0 & 0 & 2 & 1 & 0 & 4 & 4\\\\3 & 5 & 0 & 0 & 2 & 5 & 5 & 2 & 2 & 1\\\\0 & 5 & 2 & 4 & 1 & 5 & 0 & 5 & 5 & 4\\end{matrix}\\right]$"
      ],
      "text/plain": [
       "⎡0  5  5  1  2  2  0  5  2  4⎤\n",
       "⎢                            ⎥\n",
       "⎢3  4  2  4  2  0  4  0  1  4⎥\n",
       "⎢                            ⎥\n",
       "⎢5  4  1  2  2  0  2  0  3  1⎥\n",
       "⎢                            ⎥\n",
       "⎢3  5  4  2  3  0  5  1  0  2⎥\n",
       "⎢                            ⎥\n",
       "⎢2  2  5  4  3  1  3  0  3  0⎥\n",
       "⎢                            ⎥\n",
       "⎢0  5  5  4  4  3  4  0  2  2⎥\n",
       "⎢                            ⎥\n",
       "⎢2  0  4  3  5  0  0  0  4  5⎥\n",
       "⎢                            ⎥\n",
       "⎢0  2  3  0  0  2  1  0  4  4⎥\n",
       "⎢                            ⎥\n",
       "⎢3  5  0  0  2  5  5  2  2  1⎥\n",
       "⎢                            ⎥\n",
       "⎣0  5  2  4  1  5  0  5  5  4⎦"
      ]
     },
     "execution_count": 2,
     "metadata": {},
     "output_type": "execute_result"
    }
   ],
   "source": [
    "M = sp.Matrix(randint(0, 6, size=(10, 10)))\n",
    "M"
   ]
  },
  {
   "cell_type": "code",
   "execution_count": 3,
   "id": "47918682",
   "metadata": {},
   "outputs": [
    {
     "name": "stdout",
     "output_type": "stream",
     "text": [
      "8383 0.8383\n",
      "8666 0.8666\n",
      "9329 0.9329\n",
      "9766 0.9766\n",
      "9955 0.9955\n",
      "9981 0.9981\n",
      "9998 0.9998\n",
      "10000 1.0\n",
      "10000 1.0\n",
      "10000 1.0\n"
     ]
    }
   ],
   "source": [
    "for i in range(1, 11):\n",
    "    nom = 0\n",
    "    for j in range(10000):\n",
    "        M = randint(0, 6, size=(i, i))\n",
    "        if np.linalg.det(M) != 0:\n",
    "            nom += 1\n",
    "    probabilite = nom / 10000\n",
    "    print(nom, probabilite)"
   ]
  },
  {
   "cell_type": "markdown",
   "id": "0ccb0cdc",
   "metadata": {},
   "source": [
    "# Question 2"
   ]
  },
  {
   "cell_type": "code",
   "execution_count": 4,
   "id": "b0ad01b5",
   "metadata": {},
   "outputs": [
    {
     "data": {
      "text/latex": [
       "$\\displaystyle \\left[\\begin{matrix}0 & 4 & 3 & 0 & 1 & 4 & 4 & 1 & 4 & 1\\\\3 & 4 & 1 & 5 & 4 & 2 & 4 & 4 & 0 & 2\\\\5 & 0 & 5 & 0 & 0 & 5 & 5 & 0 & 3 & 1\\\\5 & 0 & 3 & 4 & 3 & 5 & 4 & 1 & 5 & 0\\\\1 & 4 & 0 & 2 & 0 & 1 & 1 & 3 & 3 & 0\\\\1 & 2 & 2 & 1 & 2 & 3 & 1 & 5 & 1 & 3\\\\2 & 4 & 1 & 0 & 0 & 5 & 2 & 4 & 1 & 3\\\\1 & 2 & 4 & 3 & 0 & 2 & 5 & 2 & 1 & 0\\\\1 & 5 & 0 & 2 & 4 & 5 & 1 & 0 & 5 & 2\\\\5 & 0 & 3 & 0 & 2 & 4 & 4 & 0 & 5 & 4\\end{matrix}\\right]$"
      ],
      "text/plain": [
       "⎡0  4  3  0  1  4  4  1  4  1⎤\n",
       "⎢                            ⎥\n",
       "⎢3  4  1  5  4  2  4  4  0  2⎥\n",
       "⎢                            ⎥\n",
       "⎢5  0  5  0  0  5  5  0  3  1⎥\n",
       "⎢                            ⎥\n",
       "⎢5  0  3  4  3  5  4  1  5  0⎥\n",
       "⎢                            ⎥\n",
       "⎢1  4  0  2  0  1  1  3  3  0⎥\n",
       "⎢                            ⎥\n",
       "⎢1  2  2  1  2  3  1  5  1  3⎥\n",
       "⎢                            ⎥\n",
       "⎢2  4  1  0  0  5  2  4  1  3⎥\n",
       "⎢                            ⎥\n",
       "⎢1  2  4  3  0  2  5  2  1  0⎥\n",
       "⎢                            ⎥\n",
       "⎢1  5  0  2  4  5  1  0  5  2⎥\n",
       "⎢                            ⎥\n",
       "⎣5  0  3  0  2  4  4  0  5  4⎦"
      ]
     },
     "execution_count": 4,
     "metadata": {},
     "output_type": "execute_result"
    }
   ],
   "source": [
    "A = sp.Matrix(randint(0, 6, size=(10, 10)))\n",
    "A"
   ]
  },
  {
   "cell_type": "code",
   "execution_count": 5,
   "id": "de4285d8",
   "metadata": {},
   "outputs": [
    {
     "data": {
      "text/latex": [
       "$\\displaystyle \\left[\\begin{matrix}-0.135741435224078 & 0.118222755500889 & 0.313400105880824 & -0.108321788942111 & 0.175264464303263 & -0.00630212807775586 & -0.0901199559992265 & -0.181315363180736 & 0.0209463336387181 & -0.0416826491762535\\\\-0.081542499738468 & 0.0814228290468507 & 0.280267967246686 & -0.252719140019464 & 0.164825375892775 & 0.00841657447004111 & -0.119457503431617 & -0.0250793313657674 & 0.170466541342658 & -0.0923453553506272\\\\-0.250907436701337 & -0.0810868000849582 & 0.409098618160146 & -0.286902161680652 & 0.104856886533164 & 0.309793342188436 & -0.336578179040035 & 0.172466072170145 & 0.258068657691101 & -0.107950096529074\\\\-0.378248147878104 & -0.151056113666551 & -0.14775922573855 & 0.0162720439754127 & -0.00938345025661827 & -0.031713525799733 & 0.0691347888248179 & 0.438189691519073 & 0.213051872093429 & 0.0724380169219113\\\\0.261988467232421 & 0.212096091602763 & 0.107698867328792 & 0.0270471613477932 & -0.0874848232202354 & 0.127297915035394 & -0.210333524595101 & -0.335060501063563 & -0.0579079344046107 & -0.107239205069599\\\\-0.00209384084273533 & -0.0964902408947247 & -0.0968658959134439 & 0.175549771912417 & -0.191238520331337 & -0.0598480261468573 & 0.247170699542557 & 0.048388963033644 & 0.0387051472662777 & -0.0868595240435063\\\\0.393951161677482 & 0.142675202647655 & -0.305192756990829 & 0.194801695361215 & -0.148375807182778 & -0.251470126708279 & 0.186943848292434 & -0.102375502854661 & -0.318617272522658 & 0.114176142577723\\\\0.196115695405596 & 0.0387138649987795 & -0.101725635522699 & 0.148676965214662 & 0.0535585784072861 & 0.106689195400841 & 0.040360723920507 & -0.177606364261735 & -0.234632222641378 & -0.0359257756404363\\\\0.0794011076275405 & -0.101376133701486 & -0.143905987972699 & 0.0900906327171746 & 0.121046508310377 & 0.00910448281655673 & -0.0418387758401517 & -0.00264702059603934 & -0.0483691500052307 & 0.115549581707344\\\\-0.264245567429283 & -0.112476184739847 & -0.170482391765388 & -0.145909481405869 & -0.0656746415426899 & 0.0118212452726115 & 0.0884342635418086 & 0.322120215946159 & 0.149593119648501 & 0.264931890733526\\end{matrix}\\right]$"
      ],
      "text/plain": [
       "⎡ -0.135741435224078    0.118222755500889    0.313400105880824   -0.1083217889\n",
       "⎢                                                                             \n",
       "⎢ -0.081542499738468   0.0814228290468507    0.280267967246686   -0.2527191400\n",
       "⎢                                                                             \n",
       "⎢ -0.250907436701337   -0.0810868000849582   0.409098618160146   -0.2869021616\n",
       "⎢                                                                             \n",
       "⎢ -0.378248147878104   -0.151056113666551    -0.14775922573855   0.01627204397\n",
       "⎢                                                                             \n",
       "⎢ 0.261988467232421     0.212096091602763    0.107698867328792   0.02704716134\n",
       "⎢                                                                             \n",
       "⎢-0.00209384084273533  -0.0964902408947247  -0.0968658959134439  0.17554977191\n",
       "⎢                                                                             \n",
       "⎢ 0.393951161677482     0.142675202647655   -0.305192756990829   0.19480169536\n",
       "⎢                                                                             \n",
       "⎢ 0.196115695405596    0.0387138649987795   -0.101725635522699   0.14867696521\n",
       "⎢                                                                             \n",
       "⎢ 0.0794011076275405   -0.101376133701486   -0.143905987972699   0.09009063271\n",
       "⎢                                                                             \n",
       "⎣ -0.264245567429283   -0.112476184739847   -0.170482391765388   -0.1459094814\n",
       "\n",
       "42111   0.175264464303263    -0.00630212807775586  -0.0901199559992265   -0.18\n",
       "                                                                              \n",
       "19464   0.164825375892775    0.00841657447004111   -0.119457503431617   -0.025\n",
       "                                                                              \n",
       "80652   0.104856886533164     0.309793342188436    -0.336578179040035    0.172\n",
       "                                                                              \n",
       "54127  -0.00938345025661827   -0.031713525799733   0.0691347888248179    0.438\n",
       "                                                                              \n",
       "77932  -0.0874848232202354    0.127297915035394    -0.210333524595101    -0.33\n",
       "                                                                              \n",
       "2417    -0.191238520331337   -0.0598480261468573    0.247170699542557    0.048\n",
       "                                                                              \n",
       "1215    -0.148375807182778    -0.251470126708279    0.186943848292434    -0.10\n",
       "                                                                              \n",
       "4662    0.0535585784072861    0.106689195400841     0.040360723920507    -0.17\n",
       "                                                                              \n",
       "71746   0.121046508310377    0.00910448281655673   -0.0418387758401517  -0.002\n",
       "                                                                              \n",
       "05869  -0.0656746415426899    0.0118212452726115   0.0884342635418086    0.322\n",
       "\n",
       "1315363180736   0.0209463336387181   -0.0416826491762535⎤\n",
       "                                                        ⎥\n",
       "0793313657674    0.170466541342658   -0.0923453553506272⎥\n",
       "                                                        ⎥\n",
       "466072170145     0.258068657691101   -0.107950096529074 ⎥\n",
       "                                                        ⎥\n",
       "189691519073     0.213051872093429   0.0724380169219113 ⎥\n",
       "                                                        ⎥\n",
       "5060501063563   -0.0579079344046107  -0.107239205069599 ⎥\n",
       "                                                        ⎥\n",
       "388963033644    0.0387051472662777   -0.0868595240435063⎥\n",
       "                                                        ⎥\n",
       "2375502854661   -0.318617272522658    0.114176142577723 ⎥\n",
       "                                                        ⎥\n",
       "7606364261735   -0.234632222641378   -0.0359257756404363⎥\n",
       "                                                        ⎥\n",
       "64702059603934  -0.0483691500052307   0.115549581707344 ⎥\n",
       "                                                        ⎥\n",
       "120215946159     0.149593119648501    0.264931890733526 ⎦"
      ]
     },
     "execution_count": 5,
     "metadata": {},
     "output_type": "execute_result"
    }
   ],
   "source": [
    "sp.Matrix(np.linalg.inv(np.matrix(A).astype(float)))"
   ]
  },
  {
   "cell_type": "code",
   "execution_count": 6,
   "id": "853d9a3c",
   "metadata": {},
   "outputs": [],
   "source": [
    "def transposer_sp(M):\n",
    "    global compteur\n",
    "    M = np.array(M)\n",
    "    compteur += M.shape[0] * M.shape[1]\n",
    "    M = [[M[j][i] for j in range(M.shape[0])] for i in range(M.shape[1])]\n",
    "    M = sp.Matrix(M)\n",
    "    return M\n",
    "\n",
    "def transposer_np(M):\n",
    "    global compteur\n",
    "    n, m = np.shape(M)\n",
    "    M = [[M[j,i] for j in range(n)] for i in range(m)]\n",
    "    compteur += n * m\n",
    "    M = np.matrix(M)\n",
    "    return M\n",
    "\n",
    "def ps(x, u):\n",
    "    global compteur\n",
    "    res = 0\n",
    "    for i in range(len(x)):\n",
    "        res += x[i,0] * u[i,0]\n",
    "        compteur += 2\n",
    "    return res\n",
    "\n",
    "def norme(u):\n",
    "    global compteur\n",
    "    res = 0\n",
    "    for i in range(len(u)):\n",
    "        res += u[i,0]**2\n",
    "        compteur += 2\n",
    "    res = math.sqrt(res)\n",
    "    return res"
   ]
  },
  {
   "cell_type": "markdown",
   "id": "afc25128",
   "metadata": {},
   "source": [
    "## Méthode 1.1 avec Sympy"
   ]
  },
  {
   "cell_type": "code",
   "execution_count": 7,
   "id": "a2b96890",
   "metadata": {},
   "outputs": [],
   "source": [
    "def determinantTriangulaire(M):\n",
    "    global compteur\n",
    "    d = 1\n",
    "    for k in range(M.shape[0]):\n",
    "        d = d * M[k,k]\n",
    "        compteur += 1\n",
    "    return d\n",
    "\n",
    "def pivot(A):\n",
    "    global compteur\n",
    "    n = A.shape[0]\n",
    "    d = 1\n",
    "    B = A.copy()\n",
    "    for k in range(n):\n",
    "        if B[k,k] == 0:\n",
    "            echange(B,k)\n",
    "            d = -d\n",
    "            compteur += 1\n",
    "        for i in range(k+1,n):\n",
    "            B[i,:] = B[i,:] - (B[i,k]/B[k,k]) * B[k,:]\n",
    "            compteur += 1 + 2*n\n",
    "    return B,d\n",
    "\n",
    "def echange(B,k):\n",
    "    global compteur\n",
    "    for i in range(k+1, B.shape[0]):\n",
    "        if B[i,k] != 0:\n",
    "            B[k,:], B[i,:] = B[i,:], B[k,:]\n",
    "            compteur += 3\n",
    "            break\n",
    "            \n",
    "def determinant1(M):\n",
    "    global compteur\n",
    "    B,d = pivot(M)\n",
    "    compteur += 1\n",
    "    return d * determinantTriangulaire(B)\n",
    "\n",
    "def Com1(M):\n",
    "    global compteur\n",
    "    list = []\n",
    "    n,m = M.shape\n",
    "    for i in range(n):      \n",
    "        for j in range(m):\n",
    "            A = M.copy()\n",
    "            A = sp.Matrix(np.delete(A, i, 0))\n",
    "            A = sp.Matrix(np.delete(A, j ,1))\n",
    "            d = (-1)**(i+j)*determinant1(A)\n",
    "            list.append(d)\n",
    "            compteur += 2*(n+m) + 4\n",
    "    return sp.Matrix(list).reshape(n,m)\n",
    "\n",
    "def inverser1(M):\n",
    "    global compteur\n",
    "    compteur += 2\n",
    "    return (1/(determinant1(M))*transposer_sp(Com1(M)),compteur)"
   ]
  },
  {
   "cell_type": "code",
   "execution_count": 8,
   "id": "a1608999",
   "metadata": {},
   "outputs": [
    {
     "data": {
      "text/latex": [
       "$\\displaystyle \\left( \\left[\\begin{matrix}- \\frac{85639}{630898} & \\frac{149173}{1261796} & \\frac{395447}{1261796} & - \\frac{34170}{315449} & \\frac{55287}{315449} & - \\frac{1988}{315449} & - \\frac{113713}{1261796} & - \\frac{228783}{1261796} & \\frac{13215}{630898} & - \\frac{52595}{1261796}\\\\- \\frac{51445}{630898} & \\frac{102739}{1261796} & \\frac{353641}{1261796} & - \\frac{79720}{315449} & \\frac{51994}{315449} & \\frac{2655}{315449} & - \\frac{150731}{1261796} & - \\frac{31645}{1261796} & \\frac{107547}{630898} & - \\frac{116521}{1261796}\\\\- \\frac{158297}{630898} & - \\frac{102315}{1261796} & \\frac{516199}{1261796} & - \\frac{90503}{315449} & \\frac{33077}{315449} & \\frac{97724}{315449} & - \\frac{424693}{1261796} & \\frac{217617}{1261796} & \\frac{162815}{630898} & - \\frac{136211}{1261796}\\\\- \\frac{119318}{315449} & - \\frac{95301}{630898} & - \\frac{93221}{630898} & \\frac{5133}{315449} & - \\frac{2960}{315449} & - \\frac{10004}{315449} & \\frac{43617}{630898} & \\frac{276453}{630898} & \\frac{67207}{315449} & \\frac{45701}{630898}\\\\\\frac{82644}{315449} & \\frac{133811}{630898} & \\frac{67947}{630898} & \\frac{8532}{315449} & - \\frac{27597}{315449} & \\frac{40156}{315449} & - \\frac{132699}{630898} & - \\frac{211389}{630898} & - \\frac{18267}{315449} & - \\frac{67657}{630898}\\\\- \\frac{1321}{630898} & - \\frac{121751}{1261796} & - \\frac{122225}{1261796} & \\frac{55377}{315449} & - \\frac{60326}{315449} & - \\frac{18879}{315449} & \\frac{311879}{1261796} & \\frac{61057}{1261796} & \\frac{24419}{630898} & - \\frac{109599}{1261796}\\\\\\frac{248543}{630898} & \\frac{180027}{1261796} & - \\frac{385091}{1261796} & \\frac{61450}{315449} & - \\frac{46805}{315449} & - \\frac{79326}{315449} & \\frac{235885}{1261796} & - \\frac{129177}{1261796} & - \\frac{201015}{630898} & \\frac{144067}{1261796}\\\\\\frac{123729}{630898} & \\frac{48849}{1261796} & - \\frac{128357}{1261796} & \\frac{46900}{315449} & \\frac{16895}{315449} & \\frac{33655}{315449} & \\frac{50927}{1261796} & - \\frac{224103}{1261796} & - \\frac{148029}{630898} & - \\frac{45331}{1261796}\\\\\\frac{25047}{315449} & - \\frac{31979}{315449} & - \\frac{45395}{315449} & \\frac{28419}{315449} & \\frac{38184}{315449} & \\frac{2872}{315449} & - \\frac{13198}{315449} & - \\frac{835}{315449} & - \\frac{15258}{315449} & \\frac{36450}{315449}\\\\- \\frac{83356}{315449} & - \\frac{70961}{630898} & - \\frac{107557}{630898} & - \\frac{46027}{315449} & - \\frac{20717}{315449} & \\frac{3729}{315449} & \\frac{55793}{630898} & \\frac{203225}{630898} & \\frac{47189}{315449} & \\frac{167145}{630898}\\end{matrix}\\right], \\  75198\\right)$"
      ],
      "text/plain": [
       "⎛⎡-85639     149173    395447   -34170   55287    -1988    -113713   -228783  \n",
       "⎜⎢───────   ───────   ───────   ───────  ──────   ──────   ────────  ──────── \n",
       "⎜⎢ 630898   1261796   1261796    315449  315449   315449   1261796   1261796  \n",
       "⎜⎢                                                                            \n",
       "⎜⎢-51445     102739    353641   -79720   51994     2655    -150731   -31645   \n",
       "⎜⎢───────   ───────   ───────   ───────  ──────   ──────   ────────  ───────  \n",
       "⎜⎢ 630898   1261796   1261796    315449  315449   315449   1261796   1261796  \n",
       "⎜⎢                                                                            \n",
       "⎜⎢-158297   -102315    516199   -90503   33077    97724    -424693    217617  \n",
       "⎜⎢────────  ────────  ───────   ───────  ──────   ──────   ────────  ───────  \n",
       "⎜⎢ 630898   1261796   1261796    315449  315449   315449   1261796   1261796  \n",
       "⎜⎢                                                                            \n",
       "⎜⎢-119318   -95301    -93221     5133    -2960    -10004    43617     276453  \n",
       "⎜⎢────────  ───────   ───────   ──────   ──────   ───────   ──────    ──────  \n",
       "⎜⎢ 315449    630898    630898   315449   315449    315449   630898    630898  \n",
       "⎜⎢                                                                            \n",
       "⎜⎢ 82644     133811    67947     8532    -27597   40156    -132699   -211389  \n",
       "⎜⎢ ──────    ──────    ──────   ──────   ───────  ──────   ────────  ──────── \n",
       "⎜⎢ 315449    630898    630898   315449    315449  315449    630898    630898  \n",
       "⎜⎢                                                                            \n",
       "⎜⎢ -1321    -121751   -122225   55377    -60326   -18879    311879    61057   \n",
       "⎜⎢ ──────   ────────  ────────  ──────   ───────  ───────  ───────   ───────  \n",
       "⎜⎢ 630898   1261796   1261796   315449    315449   315449  1261796   1261796  \n",
       "⎜⎢                                                                            \n",
       "⎜⎢ 248543    180027   -385091   61450    -46805   -79326    235885   -129177  \n",
       "⎜⎢ ──────   ───────   ────────  ──────   ───────  ───────  ───────   ──────── \n",
       "⎜⎢ 630898   1261796   1261796   315449    315449   315449  1261796   1261796  \n",
       "⎜⎢                                                                            \n",
       "⎜⎢ 123729    48849    -128357   46900    16895    33655     50927    -224103  \n",
       "⎜⎢ ──────   ───────   ────────  ──────   ──────   ──────   ───────   ──────── \n",
       "⎜⎢ 630898   1261796   1261796   315449   315449   315449   1261796   1261796  \n",
       "⎜⎢                                                                            \n",
       "⎜⎢ 25047    -31979    -45395    28419    38184     2872    -13198     -835    \n",
       "⎜⎢ ──────   ───────   ───────   ──────   ──────   ──────   ───────    ──────  \n",
       "⎜⎢ 315449    315449    315449   315449   315449   315449    315449    315449  \n",
       "⎜⎢                                                                            \n",
       "⎜⎢-83356    -70961    -107557   -46027   -20717    3729     55793     203225  \n",
       "⎜⎢───────   ───────   ────────  ───────  ───────  ──────    ──────    ──────  \n",
       "⎝⎣ 315449    630898    630898    315449   315449  315449    630898    630898  \n",
       "\n",
       "  13215    -52595  ⎤       ⎞\n",
       "  ──────   ─────── ⎥       ⎟\n",
       "  630898   1261796 ⎥       ⎟\n",
       "                   ⎥       ⎟\n",
       "  107547   -116521 ⎥       ⎟\n",
       "  ──────   ────────⎥       ⎟\n",
       "  630898   1261796 ⎥       ⎟\n",
       "                   ⎥       ⎟\n",
       "  162815   -136211 ⎥       ⎟\n",
       "  ──────   ────────⎥       ⎟\n",
       "  630898   1261796 ⎥       ⎟\n",
       "                   ⎥       ⎟\n",
       "  67207     45701  ⎥       ⎟\n",
       "  ──────    ────── ⎥       ⎟\n",
       "  315449    630898 ⎥       ⎟\n",
       "                   ⎥       ⎟\n",
       " -18267    -67657  ⎥       ⎟\n",
       " ───────   ─────── ⎥       ⎟\n",
       "  315449    630898 ⎥       ⎟\n",
       "                   ⎥, 75198⎟\n",
       "  24419    -109599 ⎥       ⎟\n",
       "  ──────   ────────⎥       ⎟\n",
       "  630898   1261796 ⎥       ⎟\n",
       "                   ⎥       ⎟\n",
       " -201015    144067 ⎥       ⎟\n",
       " ────────  ─────── ⎥       ⎟\n",
       "  630898   1261796 ⎥       ⎟\n",
       "                   ⎥       ⎟\n",
       " -148029   -45331  ⎥       ⎟\n",
       " ────────  ─────── ⎥       ⎟\n",
       "  630898   1261796 ⎥       ⎟\n",
       "                   ⎥       ⎟\n",
       " -15258     36450  ⎥       ⎟\n",
       " ───────    ────── ⎥       ⎟\n",
       "  315449    315449 ⎥       ⎟\n",
       "                   ⎥       ⎟\n",
       "  47189     167145 ⎥       ⎟\n",
       "  ──────    ────── ⎥       ⎟\n",
       "  315449    630898 ⎦       ⎠"
      ]
     },
     "execution_count": 8,
     "metadata": {},
     "output_type": "execute_result"
    }
   ],
   "source": [
    "compteur = 0\n",
    "inverser1(A)"
   ]
  },
  {
   "cell_type": "code",
   "execution_count": 9,
   "id": "0f72cc8f",
   "metadata": {},
   "outputs": [
    {
     "name": "stdout",
     "output_type": "stream",
     "text": [
      "1.08 s ± 0 ns per loop (mean ± std. dev. of 1 run, 1 loop each)\n"
     ]
    }
   ],
   "source": [
    "%%timeit -n 1 -r 1\n",
    "compteur = 0\n",
    "inverser1(A)"
   ]
  },
  {
   "cell_type": "markdown",
   "id": "00a48c6f",
   "metadata": {},
   "source": [
    "## Méthode 1.1 avec Numpy"
   ]
  },
  {
   "cell_type": "code",
   "execution_count": 10,
   "id": "f2c8402f",
   "metadata": {},
   "outputs": [],
   "source": [
    "def determinantTriangulaire_np(M):\n",
    "    global compteur\n",
    "    d = 1\n",
    "    for k in range(M.shape[0]):\n",
    "        d = d * M[k,k]\n",
    "        compteur += 1\n",
    "    return d\n",
    "\n",
    "def pivot_np(A):\n",
    "    global compteur\n",
    "    n = A.shape[0]\n",
    "    d = 1\n",
    "    B = A.copy()\n",
    "    B = np.matrix(B)\n",
    "    B = B.astype(float)\n",
    "    for k in range(n):\n",
    "        if B[k,k] == 0:\n",
    "            B = echange_np(B,k)\n",
    "            d = - d\n",
    "            compteur += 1\n",
    "        for i in range(k+1,n):\n",
    "            B[i,:] = B[i,:] - (B[i,k] / B[k,k]) * B[k,:]\n",
    "            compteur += 1 + 2*n\n",
    "    return B,d\n",
    "\n",
    "def echange_np(B,k):\n",
    "    global compteur\n",
    "    B = np.matrix(B)\n",
    "    B = B.astype(float)\n",
    "    for i in range(k+1, B.shape[0]):\n",
    "        if B[i,k] != 0:\n",
    "            B[[i,k],:] = B[[k,i],:]\n",
    "            compteur += 3\n",
    "            break\n",
    "    return B\n",
    "            \n",
    "def determinant1_np(M):\n",
    "    global compteur\n",
    "    B, d = pivot_np(M)\n",
    "    compteur += 1\n",
    "    return d * determinantTriangulaire_np(B)\n",
    "\n",
    "def Com1_np(M):\n",
    "    global compteur\n",
    "    n,m = M.shape\n",
    "    Com = np.matrix(np.zeros((n,m)))\n",
    "    for i in range(n): \n",
    "        for j in range(m):\n",
    "            A = M.copy()\n",
    "            A = np.delete(A, i, 0)\n",
    "            A = np.delete(A, j ,1)\n",
    "            d = (-1)**(i+j) * determinant1_np(A)\n",
    "            Com[i,j] = d\n",
    "            compteur += 2*(n+m) + 4\n",
    "    return Com\n",
    "\n",
    "def inverser1_np(M):\n",
    "    global compteur\n",
    "    M = np.matrix(1/(determinant1_np(M))*transposer_np(Com1_np(M)))\n",
    "    compteur += 2\n",
    "    return (M,compteur)"
   ]
  },
  {
   "cell_type": "code",
   "execution_count": 11,
   "id": "c2cb7e5a",
   "metadata": {},
   "outputs": [
    {
     "data": {
      "text/plain": [
       "(matrix([[-0.13574144,  0.11822276,  0.31340011, -0.10832179,  0.17526446,\n",
       "          -0.00630213, -0.09011996, -0.18131536,  0.02094633, -0.04168265],\n",
       "         [-0.0815425 , -0.94950372,  0.28026797, -0.25271914,  0.16482538,\n",
       "           0.00841657, -0.1194575 , -0.02507933,  0.17046654, -0.09234536],\n",
       "         [-0.25090744, -0.0810868 ,  0.40909862, -0.28690216,  0.10485689,\n",
       "           0.30979334, -0.33657818,  0.17246607,  0.25806866, -0.1079501 ],\n",
       "         [-0.37824815, -0.15105611, -0.14775923,  0.01627204, -0.00938345,\n",
       "          -0.03171353,  0.06913479,  0.43818969,  0.21305187,  0.07243802],\n",
       "         [ 0.26198847,  0.21209609,  0.10769887,  0.02704716, -0.24853463,\n",
       "           0.12729792, -0.21033352, -0.3350605 , -0.05790793, -0.10723921],\n",
       "         [-0.00209384, -0.09649024, -0.0968659 ,  0.17554977, -0.19123852,\n",
       "          -0.05984803,  0.2471707 ,  0.04838896,  0.03870515, -0.08685952],\n",
       "         [ 0.39395116,  0.1426752 , -0.30519276,  0.1948017 , -0.14837581,\n",
       "          -0.25147013,  0.18694385, -0.1023755 , -0.31861727,  0.11417614],\n",
       "         [ 0.1961157 ,  0.03871386, -0.10172564,  0.14867697,  0.05355858,\n",
       "           0.1066892 ,  0.04036072, -0.17760636, -0.23463222, -0.03592578],\n",
       "         [ 0.07940111, -0.10137613, -0.14390599,  0.09009063,  0.12104651,\n",
       "           0.00910448, -0.04183878, -0.00264702, -0.04836915,  0.11554958],\n",
       "         [-0.26424557, -0.11247618, -0.17048239, -0.14590948, -0.06567464,\n",
       "           0.01182125,  0.08843426,  0.32212022,  0.14959312,  0.26493189]]),\n",
       " 75194)"
      ]
     },
     "execution_count": 11,
     "metadata": {},
     "output_type": "execute_result"
    }
   ],
   "source": [
    "compteur = 0\n",
    "inverser1_np(A)"
   ]
  },
  {
   "cell_type": "code",
   "execution_count": 12,
   "id": "1fa6741c",
   "metadata": {},
   "outputs": [
    {
     "name": "stdout",
     "output_type": "stream",
     "text": [
      "119 ms ± 0 ns per loop (mean ± std. dev. of 1 run, 1 loop each)\n"
     ]
    }
   ],
   "source": [
    "%%timeit -n 1 -r 1\n",
    "inverser1_np(A)"
   ]
  },
  {
   "cell_type": "markdown",
   "id": "50c392c8",
   "metadata": {},
   "source": [
    "## Méthode 1.2 avec Sympy"
   ]
  },
  {
   "cell_type": "code",
   "execution_count": 13,
   "id": "e0997b1a",
   "metadata": {},
   "outputs": [],
   "source": [
    "def determinant2(M):\n",
    "    global compteur\n",
    "\n",
    "    if M.shape[1] <= 0:\n",
    "        return None\n",
    "    \n",
    "    if M.shape[1] == 1:\n",
    "        return M[0]\n",
    "    \n",
    "    else:\n",
    "        res = 0\n",
    "        \n",
    "        for i in range(M.shape[1]):\n",
    "            array = []\n",
    "            for j in range(1, M.shape[0]):\n",
    "                row = []\n",
    "                for a in range(M.shape[1]):\n",
    "                    if a != i:\n",
    "                        row.append(M[j,:][a])\n",
    "                array.append(row)\n",
    "                \n",
    "            array = sp.Matrix(array)\n",
    "                \n",
    "            if i % 2 == 0:\n",
    "                res += M[0,:][i] * determinant2(array)\n",
    "                compteur += 1\n",
    "            else:\n",
    "                res -= M[0,:][i] * determinant2(array)\n",
    "                compteur += 1\n",
    "                \n",
    "        return res\n",
    "    \n",
    "def Com2(M):\n",
    "    global compteur\n",
    "    list = []\n",
    "    n,m = M.shape\n",
    "    \n",
    "    for i in range(n):      \n",
    "        for j in range(m):\n",
    "            A = M.copy()\n",
    "            A = sp.Matrix(np.delete(A, i, 0))\n",
    "            A = sp.Matrix(np.delete(A, j ,1))\n",
    "            d = (-1)**(i+j)*determinant2(A)\n",
    "            compteur += 2*(n+m) + 4\n",
    "            list.append(d)\n",
    "            \n",
    "    return sp.Matrix(list).reshape(n,m)\n",
    "\n",
    "def inverser2(M):\n",
    "    global compteur\n",
    "    compteur += 2\n",
    "    return (1/(determinant2(M))*transposer(Com2(M)),compteur)"
   ]
  },
  {
   "cell_type": "code",
   "execution_count": 14,
   "id": "f9a04a18",
   "metadata": {},
   "outputs": [
    {
     "name": "stdout",
     "output_type": "stream",
     "text": [
      "13min 59s ± 0 ns per loop (mean ± std. dev. of 1 run, 1 loop each)\n"
     ]
    }
   ],
   "source": [
    "%%timeit -n 1 -r 1\n",
    "determinant2(A)"
   ]
  },
  {
   "cell_type": "code",
   "execution_count": 15,
   "id": "4f80587e",
   "metadata": {},
   "outputs": [
    {
     "name": "stdout",
     "output_type": "stream",
     "text": [
      "28.8 ms ± 0 ns per loop (mean ± std. dev. of 1 run, 1 loop each)\n"
     ]
    }
   ],
   "source": [
    "%%timeit -n 1 -r 1\n",
    "determinant2(sp.Matrix(randint(0, 6, size=(5, 5))))"
   ]
  },
  {
   "cell_type": "code",
   "execution_count": 16,
   "id": "d7715825",
   "metadata": {},
   "outputs": [
    {
     "name": "stdout",
     "output_type": "stream",
     "text": [
      "174 ms ± 0 ns per loop (mean ± std. dev. of 1 run, 1 loop each)\n"
     ]
    }
   ],
   "source": [
    "%%timeit -n 1 -r 1\n",
    "determinant2(sp.Matrix(randint(0, 6, size=(6, 6))))"
   ]
  },
  {
   "cell_type": "code",
   "execution_count": 17,
   "id": "95ef41cb",
   "metadata": {},
   "outputs": [
    {
     "name": "stdout",
     "output_type": "stream",
     "text": [
      "1.18 s ± 0 ns per loop (mean ± std. dev. of 1 run, 1 loop each)\n"
     ]
    }
   ],
   "source": [
    "%%timeit -n 1 -r 1\n",
    "determinant2(sp.Matrix(randint(0, 6, size=(7, 7))))"
   ]
  },
  {
   "cell_type": "code",
   "execution_count": 18,
   "id": "bec7eec9",
   "metadata": {},
   "outputs": [
    {
     "name": "stdout",
     "output_type": "stream",
     "text": [
      "9.38 s ± 0 ns per loop (mean ± std. dev. of 1 run, 1 loop each)\n"
     ]
    }
   ],
   "source": [
    "%%timeit -n 1 -r 1\n",
    "determinant2(sp.Matrix(randint(0, 6, size=(8, 8))))"
   ]
  },
  {
   "cell_type": "markdown",
   "id": "4b61690f",
   "metadata": {},
   "source": [
    "## Méthode 1.2 avec Numpy"
   ]
  },
  {
   "cell_type": "code",
   "execution_count": 19,
   "id": "394a87c8",
   "metadata": {},
   "outputs": [],
   "source": [
    "def determinant2_np(M):\n",
    "    global compteur\n",
    "    res = 0\n",
    "    n,m = M.shape\n",
    "    \n",
    "    if n != m:\n",
    "        raise Exception(\"Les données ne sont pas correctes\")\n",
    "    \n",
    "    if n <= 0:\n",
    "        return None\n",
    "    \n",
    "    if n == 1:\n",
    "        return M[0,0]\n",
    "    \n",
    "    else: \n",
    "        for i in range(n):\n",
    "            A = M.copy()\n",
    "            A = np.delete(A, 0, 0)\n",
    "            A = np.delete(A, i, 1)\n",
    "                \n",
    "            if i % 2 == 0:\n",
    "                res += M[0,i] * determinant2_np(A)\n",
    "                compteur += 1\n",
    "            else:\n",
    "                res -= M[0,i] * determinant2_np(A)\n",
    "                compteur += 1\n",
    "        return res\n",
    "    \n",
    "def Com2_np(M):\n",
    "    global compteur\n",
    "    n,m = M.shape\n",
    "    Com = np.matrix(np.zeros((n,m)))\n",
    "    for i in range(n): \n",
    "        for j in range(m):\n",
    "            A = M.copy()\n",
    "            A = np.delete(A, i, 0)\n",
    "            A = np.delete(A, j ,1)\n",
    "            d = (-1)**(i+j) * determinant2_np(A)\n",
    "            compteur += 2*(n+m) + 4\n",
    "            Com[i,j] = d\n",
    "    return Com\n",
    "\n",
    "def inverser2_np(M):\n",
    "    global compteur\n",
    "    M = np.matrix(1/(determinant2_np(M))*transposer_np(Com2_np(M)))\n",
    "    compteur += 2\n",
    "    return (M,compteur)"
   ]
  },
  {
   "cell_type": "code",
   "execution_count": 20,
   "id": "cb8008d5",
   "metadata": {},
   "outputs": [
    {
     "name": "stdout",
     "output_type": "stream",
     "text": [
      "14min 35s ± 0 ns per loop (mean ± std. dev. of 1 run, 1 loop each)\n"
     ]
    }
   ],
   "source": [
    "%%timeit -n 1 -r 1\n",
    "compteur = 0\n",
    "inverser2_np(A)"
   ]
  },
  {
   "cell_type": "markdown",
   "id": "0dc73b47",
   "metadata": {},
   "source": [
    "## Méthode 2"
   ]
  },
  {
   "cell_type": "code",
   "execution_count": 21,
   "id": "5c714cd4",
   "metadata": {},
   "outputs": [
    {
     "data": {
      "text/latex": [
       "$\\displaystyle \\left[\\begin{matrix}a_{1} & a_{2} & a_{3} & a_{4} & a_{5} & a_{6} & a_{7} & a_{8} & a_{9} & a_{10}\\end{matrix}\\right]$"
      ],
      "text/plain": [
       "[a₁  a₂  a₃  a₄  a₅  a₆  a₇  a₈  a₉  a₁₀]"
      ]
     },
     "execution_count": 21,
     "metadata": {},
     "output_type": "execute_result"
    }
   ],
   "source": [
    "x = symbols('x1:11')\n",
    "y = symbols('a1:11')\n",
    "Y = sp.Matrix([y])\n",
    "Y"
   ]
  },
  {
   "cell_type": "code",
   "execution_count": 22,
   "id": "c29adb71",
   "metadata": {},
   "outputs": [],
   "source": [
    "def resoudreTriangulaire(A,Y):\n",
    "    global compteur\n",
    "    n = A.shape[0]\n",
    "    X = zeros(n,1)\n",
    "    X[-1] = Y[-1] / A[-1,-1]\n",
    "    compteur += 1\n",
    "    for i in reversed(range(n-1)):\n",
    "        s = 0\n",
    "        for k in range(i+1,n):\n",
    "            s = s + A[i,k] * X[k]\n",
    "            X[i] = (Y[i]-s) / A[i,i]\n",
    "            compteur += 4\n",
    "    return X\n",
    "\n",
    "def pivotSysteme(A,Y):\n",
    "    global compteur\n",
    "    n = A.shape[0]\n",
    "    B = A.copy()\n",
    "    Z = Y.copy()\n",
    "    for k in range(n):\n",
    "        if B[k,k] == 0:\n",
    "            for i in range(k+1,B.shape[0]+1):\n",
    "                if B[i,k] != 0:\n",
    "                    B[k,:],B[i,:] = B[i,:],B[k,:]\n",
    "                    Z[k],Z[i] = Z[i],Z[k]\n",
    "                    compteur += 6\n",
    "                    break\n",
    "        for i in range(k+1,n):\n",
    "            a = B[i,k]/B[k,k]\n",
    "            B[i,:] = B[i,:] - a*B[k,:]\n",
    "            Z[i] = Z[i] - a*Z[k]\n",
    "            compteur += 1+2*n+2\n",
    "    return B,Z\n",
    "\n",
    "def resoudre(A,Y):\n",
    "    global compteur\n",
    "    B,Z = pivotSysteme(A,Y)\n",
    "    X = resoudreTriangulaire(B,Z)\n",
    "    return (X,compteur)"
   ]
  },
  {
   "cell_type": "code",
   "execution_count": 23,
   "id": "c2400510",
   "metadata": {},
   "outputs": [
    {
     "data": {
      "text/latex": [
       "$\\displaystyle \\left( \\left[\\begin{matrix}- \\frac{85639}{630898} & \\frac{149173}{1261796} & \\frac{395447}{1261796} & - \\frac{34170}{315449} & \\frac{55287}{315449} & - \\frac{1988}{315449} & - \\frac{113713}{1261796} & - \\frac{228783}{1261796} & \\frac{13215}{630898} & - \\frac{52595}{1261796}\\\\- \\frac{51445}{630898} & \\frac{102739}{1261796} & \\frac{353641}{1261796} & - \\frac{79720}{315449} & \\frac{51994}{315449} & \\frac{2655}{315449} & - \\frac{150731}{1261796} & - \\frac{31645}{1261796} & \\frac{107547}{630898} & - \\frac{116521}{1261796}\\\\- \\frac{158297}{630898} & - \\frac{102315}{1261796} & \\frac{516199}{1261796} & - \\frac{90503}{315449} & \\frac{33077}{315449} & \\frac{97724}{315449} & - \\frac{424693}{1261796} & \\frac{217617}{1261796} & \\frac{162815}{630898} & - \\frac{136211}{1261796}\\\\- \\frac{119318}{315449} & - \\frac{95301}{630898} & - \\frac{93221}{630898} & \\frac{5133}{315449} & - \\frac{2960}{315449} & - \\frac{10004}{315449} & \\frac{43617}{630898} & \\frac{276453}{630898} & \\frac{67207}{315449} & \\frac{45701}{630898}\\\\\\frac{82644}{315449} & \\frac{133811}{630898} & \\frac{67947}{630898} & \\frac{8532}{315449} & - \\frac{27597}{315449} & \\frac{40156}{315449} & - \\frac{132699}{630898} & - \\frac{211389}{630898} & - \\frac{18267}{315449} & - \\frac{67657}{630898}\\\\- \\frac{1321}{630898} & - \\frac{121751}{1261796} & - \\frac{122225}{1261796} & \\frac{55377}{315449} & - \\frac{60326}{315449} & - \\frac{18879}{315449} & \\frac{311879}{1261796} & \\frac{61057}{1261796} & \\frac{24419}{630898} & - \\frac{109599}{1261796}\\\\\\frac{248543}{630898} & \\frac{180027}{1261796} & - \\frac{385091}{1261796} & \\frac{61450}{315449} & - \\frac{46805}{315449} & - \\frac{79326}{315449} & \\frac{235885}{1261796} & - \\frac{129177}{1261796} & - \\frac{201015}{630898} & \\frac{144067}{1261796}\\\\\\frac{123729}{630898} & \\frac{48849}{1261796} & - \\frac{128357}{1261796} & \\frac{46900}{315449} & \\frac{16895}{315449} & \\frac{33655}{315449} & \\frac{50927}{1261796} & - \\frac{224103}{1261796} & - \\frac{148029}{630898} & - \\frac{45331}{1261796}\\\\\\frac{25047}{315449} & - \\frac{31979}{315449} & - \\frac{45395}{315449} & \\frac{28419}{315449} & \\frac{38184}{315449} & \\frac{2872}{315449} & - \\frac{13198}{315449} & - \\frac{835}{315449} & - \\frac{15258}{315449} & \\frac{36450}{315449}\\\\- \\frac{83356}{315449} & - \\frac{70961}{630898} & - \\frac{107557}{630898} & - \\frac{46027}{315449} & - \\frac{20717}{315449} & \\frac{3729}{315449} & \\frac{55793}{630898} & \\frac{203225}{630898} & \\frac{47189}{315449} & \\frac{167145}{630898}\\end{matrix}\\right], \\  2544\\right)$"
      ],
      "text/plain": [
       "⎛⎡-85639     149173    395447   -34170   55287    -1988    -113713   -228783  \n",
       "⎜⎢───────   ───────   ───────   ───────  ──────   ──────   ────────  ──────── \n",
       "⎜⎢ 630898   1261796   1261796    315449  315449   315449   1261796   1261796  \n",
       "⎜⎢                                                                            \n",
       "⎜⎢-51445     102739    353641   -79720   51994     2655    -150731   -31645   \n",
       "⎜⎢───────   ───────   ───────   ───────  ──────   ──────   ────────  ───────  \n",
       "⎜⎢ 630898   1261796   1261796    315449  315449   315449   1261796   1261796  \n",
       "⎜⎢                                                                            \n",
       "⎜⎢-158297   -102315    516199   -90503   33077    97724    -424693    217617  \n",
       "⎜⎢────────  ────────  ───────   ───────  ──────   ──────   ────────  ───────  \n",
       "⎜⎢ 630898   1261796   1261796    315449  315449   315449   1261796   1261796  \n",
       "⎜⎢                                                                            \n",
       "⎜⎢-119318   -95301    -93221     5133    -2960    -10004    43617     276453  \n",
       "⎜⎢────────  ───────   ───────   ──────   ──────   ───────   ──────    ──────  \n",
       "⎜⎢ 315449    630898    630898   315449   315449    315449   630898    630898  \n",
       "⎜⎢                                                                            \n",
       "⎜⎢ 82644     133811    67947     8532    -27597   40156    -132699   -211389  \n",
       "⎜⎢ ──────    ──────    ──────   ──────   ───────  ──────   ────────  ──────── \n",
       "⎜⎢ 315449    630898    630898   315449    315449  315449    630898    630898  \n",
       "⎜⎢                                                                            \n",
       "⎜⎢ -1321    -121751   -122225   55377    -60326   -18879    311879    61057   \n",
       "⎜⎢ ──────   ────────  ────────  ──────   ───────  ───────  ───────   ───────  \n",
       "⎜⎢ 630898   1261796   1261796   315449    315449   315449  1261796   1261796  \n",
       "⎜⎢                                                                            \n",
       "⎜⎢ 248543    180027   -385091   61450    -46805   -79326    235885   -129177  \n",
       "⎜⎢ ──────   ───────   ────────  ──────   ───────  ───────  ───────   ──────── \n",
       "⎜⎢ 630898   1261796   1261796   315449    315449   315449  1261796   1261796  \n",
       "⎜⎢                                                                            \n",
       "⎜⎢ 123729    48849    -128357   46900    16895    33655     50927    -224103  \n",
       "⎜⎢ ──────   ───────   ────────  ──────   ──────   ──────   ───────   ──────── \n",
       "⎜⎢ 630898   1261796   1261796   315449   315449   315449   1261796   1261796  \n",
       "⎜⎢                                                                            \n",
       "⎜⎢ 25047    -31979    -45395    28419    38184     2872    -13198     -835    \n",
       "⎜⎢ ──────   ───────   ───────   ──────   ──────   ──────   ───────    ──────  \n",
       "⎜⎢ 315449    315449    315449   315449   315449   315449    315449    315449  \n",
       "⎜⎢                                                                            \n",
       "⎜⎢-83356    -70961    -107557   -46027   -20717    3729     55793     203225  \n",
       "⎜⎢───────   ───────   ────────  ───────  ───────  ──────    ──────    ──────  \n",
       "⎝⎣ 315449    630898    630898    315449   315449  315449    630898    630898  \n",
       "\n",
       "  13215    -52595  ⎤      ⎞\n",
       "  ──────   ─────── ⎥      ⎟\n",
       "  630898   1261796 ⎥      ⎟\n",
       "                   ⎥      ⎟\n",
       "  107547   -116521 ⎥      ⎟\n",
       "  ──────   ────────⎥      ⎟\n",
       "  630898   1261796 ⎥      ⎟\n",
       "                   ⎥      ⎟\n",
       "  162815   -136211 ⎥      ⎟\n",
       "  ──────   ────────⎥      ⎟\n",
       "  630898   1261796 ⎥      ⎟\n",
       "                   ⎥      ⎟\n",
       "  67207     45701  ⎥      ⎟\n",
       "  ──────    ────── ⎥      ⎟\n",
       "  315449    630898 ⎥      ⎟\n",
       "                   ⎥      ⎟\n",
       " -18267    -67657  ⎥      ⎟\n",
       " ───────   ─────── ⎥      ⎟\n",
       "  315449    630898 ⎥      ⎟\n",
       "                   ⎥, 2544⎟\n",
       "  24419    -109599 ⎥      ⎟\n",
       "  ──────   ────────⎥      ⎟\n",
       "  630898   1261796 ⎥      ⎟\n",
       "                   ⎥      ⎟\n",
       " -201015    144067 ⎥      ⎟\n",
       " ────────  ─────── ⎥      ⎟\n",
       "  630898   1261796 ⎥      ⎟\n",
       "                   ⎥      ⎟\n",
       " -148029   -45331  ⎥      ⎟\n",
       " ────────  ─────── ⎥      ⎟\n",
       "  630898   1261796 ⎥      ⎟\n",
       "                   ⎥      ⎟\n",
       " -15258     36450  ⎥      ⎟\n",
       " ───────    ────── ⎥      ⎟\n",
       "  315449    315449 ⎥      ⎟\n",
       "                   ⎥      ⎟\n",
       "  47189     167145 ⎥      ⎟\n",
       "  ──────    ────── ⎥      ⎟\n",
       "  315449    630898 ⎦      ⎠"
      ]
     },
     "execution_count": 23,
     "metadata": {},
     "output_type": "execute_result"
    }
   ],
   "source": [
    "compteur = 0\n",
    "X_prime = resoudre(A,Y)[0]\n",
    "A_inverse = []\n",
    "for i in range(X_prime.shape[0]):\n",
    "    row = []\n",
    "    for j in range(len(Y)):\n",
    "        row.append(X_prime[i].coeff(Y[j]))\n",
    "        compteur += 1\n",
    "    A_inverse.append(row)\n",
    "A_inverse = sp.Matrix(A_inverse)\n",
    "A_inverse,resoudre(A,Y)[1]"
   ]
  },
  {
   "cell_type": "code",
   "execution_count": 24,
   "id": "8d13904d",
   "metadata": {},
   "outputs": [
    {
     "name": "stdout",
     "output_type": "stream",
     "text": [
      "388 ms ± 0 ns per loop (mean ± std. dev. of 1 run, 1 loop each)\n"
     ]
    }
   ],
   "source": [
    "%%timeit -n 1 -r 1\n",
    "compteur = 0\n",
    "X_prime = resoudre(A,Y)[0]\n",
    "A_inverse = []\n",
    "for i in range(X_prime.shape[0]):\n",
    "    row = []\n",
    "    for j in range(len(Y)):\n",
    "        row.append(X_prime[i].coeff(Y[j]))\n",
    "        compteur += 1\n",
    "    A_inverse.append(row)\n",
    "A_inverse = sp.Matrix(A_inverse)\n",
    "A_inverse,resoudre(A,Y)[1]"
   ]
  },
  {
   "cell_type": "markdown",
   "id": "f0989c8f",
   "metadata": {},
   "source": [
    "## Methode 3 (version avec bug)"
   ]
  },
  {
   "cell_type": "code",
   "execution_count": 27,
   "id": "8ad80daa",
   "metadata": {},
   "outputs": [],
   "source": [
    "def vecteur_propre(M):\n",
    "    n = M.shape[0]\n",
    "    A_ = []\n",
    "    y = symbols('a1:11')\n",
    "    \n",
    "    for i in range(n):\n",
    "        A_.append(y[i])\n",
    "        \n",
    "    X = sp.symbols('X')\n",
    "    Vecteur = []\n",
    "    fx = (M-X*sp.eye(10)).det()\n",
    "    solution = sp.solve(fx,X)\n",
    "    X_ = [N(sol) for sol in solution]\n",
    "    #X_ = sp.solve((M-X*sp.eye(n)).det())\n",
    "    print(X_)\n",
    "    a_dict = dict.fromkeys([])\n",
    "    \n",
    "    for i in range(n):\n",
    "        a_dict[A_[i]] = 1\n",
    "\n",
    "        _ = sp.solve((M-X_[i]*sp.eye(n))@sp.Matrix(A_),A_)\n",
    "        Vecteur.append(sp.Matrix([A_]).subs(_).subs(a_dict))\n",
    "        \n",
    "    return sp.Matrix(Vecteur).transpose()"
   ]
  },
  {
   "cell_type": "code",
   "execution_count": 28,
   "id": "88a491fe",
   "metadata": {},
   "outputs": [
    {
     "name": "stdout",
     "output_type": "stream",
     "text": [
      "[-2.74994114303350, 23.3960504920014, -2.11349291679283 - 1.87603190978222*I, -2.11349291679283 + 1.87603190978222*I, -0.613128373041992 - 4.99547482758345*I, -0.613128373041992 + 4.99547482758345*I, 1.69526544778773 - 0.778514791895987*I, 1.69526544778773 + 0.778514791895987*I, 5.20830116756314 - 0.85523821134029*I, 5.20830116756314 + 0.85523821134029*I]\n"
     ]
    },
    {
     "data": {
      "text/latex": [
       "$\\displaystyle \\left[\\begin{matrix}0 & 0 & 0 & 0 & 0 & 0 & 0 & 0 & 0 & 0\\\\0 & 0 & 0 & 0 & 0 & 0 & 0 & 0 & 0 & 0\\\\0 & 0 & 0 & 0 & 0 & 0 & 0 & 0 & 0 & 0\\\\0 & 0 & 0 & 0 & 0 & 0 & 0 & 0 & 0 & 0\\\\0 & 0 & 0 & 0 & 0 & 0 & 0 & 0 & 0 & 0\\\\0 & 0 & 0 & 0 & 0 & 0 & 0 & 0 & 0 & 0\\\\0 & 0 & 0 & 0 & 0 & 0 & 0 & 0 & 0 & 0\\\\0 & 0 & 0 & 0 & 0 & 0 & 0 & 0 & 0 & 0\\\\0 & 0 & 0 & 0 & 0 & 0 & 0 & 0 & 0 & 0\\\\0 & 0 & 0 & 0 & 0 & 0 & 0 & 0 & 0 & 0\\end{matrix}\\right]$"
      ],
      "text/plain": [
       "⎡0  0  0  0  0  0  0  0  0  0⎤\n",
       "⎢                            ⎥\n",
       "⎢0  0  0  0  0  0  0  0  0  0⎥\n",
       "⎢                            ⎥\n",
       "⎢0  0  0  0  0  0  0  0  0  0⎥\n",
       "⎢                            ⎥\n",
       "⎢0  0  0  0  0  0  0  0  0  0⎥\n",
       "⎢                            ⎥\n",
       "⎢0  0  0  0  0  0  0  0  0  0⎥\n",
       "⎢                            ⎥\n",
       "⎢0  0  0  0  0  0  0  0  0  0⎥\n",
       "⎢                            ⎥\n",
       "⎢0  0  0  0  0  0  0  0  0  0⎥\n",
       "⎢                            ⎥\n",
       "⎢0  0  0  0  0  0  0  0  0  0⎥\n",
       "⎢                            ⎥\n",
       "⎢0  0  0  0  0  0  0  0  0  0⎥\n",
       "⎢                            ⎥\n",
       "⎣0  0  0  0  0  0  0  0  0  0⎦"
      ]
     },
     "execution_count": 28,
     "metadata": {},
     "output_type": "execute_result"
    }
   ],
   "source": [
    "vecteur_propre(A)"
   ]
  },
  {
   "cell_type": "code",
   "execution_count": 35,
   "id": "b74b05b0",
   "metadata": {},
   "outputs": [],
   "source": [
    "def iter_max(A):\n",
    "    n,m = A.shape\n",
    "    x0 = np.ones((n, 1))\n",
    "    max_iter = 1000\n",
    "    eps = 1e-10\n",
    "\n",
    "    for i in range(max_iter):\n",
    "        x1 = np.dot(A, x0)\n",
    "        x1_norm = np.linalg.norm(x1)\n",
    "        x2 = x1 / x1_norm\n",
    "        err = np.abs(np.dot(x2.T, np.dot(A, x2)) - np.dot(x0.T, np.dot(A, x0)))\n",
    "        if err < eps:\n",
    "            break\n",
    "        x0 = x2\n",
    "        \n",
    "        return x2\n",
    "    \n",
    "def trigonalise(M):\n",
    "    global compteur\n",
    "    n, p = M.shape\n",
    "    assert n==p\n",
    "    \n",
    "    if n==1:\n",
    "        Q = sp.eye(1)\n",
    "        Q = np.matrix(Q)\n",
    "        Q = Q.astype(float)\n",
    "        return Q\n",
    "    \n",
    "    E1 = iter_max(M)\n",
    "#     E1 = np.linalg.eig(M)[1][:,1]\n",
    "#     Vérification qu'on obtient une matrice inversible\n",
    "    for i in range(n):\n",
    "        P = np.zeros((n, n))\n",
    "        P = np.matrix(P)\n",
    "        P[:, 0] = E1\n",
    "        l = list(range(n))\n",
    "        l.remove(i)\n",
    "        P[:, 1:] = np.eye(n)[:, l]\n",
    "        P = np.matrix(P)\n",
    "        if np.linalg.det(P) != 0:\n",
    "            break\n",
    "            \n",
    "    # Récurrence\n",
    "    Q = np.matrix((np.linalg.inv(P)@M@P)[1:, 1:])\n",
    "    Q = trigonalise(Q)\n",
    "    Q = sp.Matrix(Q)\n",
    "    QQ = sp.Matrix(sp.BlockDiagMatrix(sp.eye(1), Q))\n",
    "    QQ = np.matrix(QQ)\n",
    "    QQ = QQ.astype(float)\n",
    "    return P@QQ\n",
    "\n",
    "\n",
    "def reglage(M):\n",
    "    global compteur\n",
    "    n,m = M.shape\n",
    "    A = M.copy()\n",
    "    A = np.matrix(A)\n",
    "    A = A.astype(float)\n",
    "    for i in range (n):\n",
    "        for j in range(m):\n",
    "            if A[i,j] <= 10**(-10) and A[i,j] >= -10**(-10):\n",
    "                A[i,j] = 0\n",
    "    return A"
   ]
  },
  {
   "cell_type": "code",
   "execution_count": 36,
   "id": "a3da2079",
   "metadata": {},
   "outputs": [
    {
     "data": {
      "text/plain": [
       "matrix([[2., 4., 1., 3., 1., 5., 4., 3., 0., 0.],\n",
       "        [4., 3., 5., 5., 4., 3., 5., 4., 3., 5.],\n",
       "        [4., 1., 0., 4., 4., 1., 0., 4., 2., 5.],\n",
       "        [4., 3., 5., 4., 1., 5., 1., 4., 0., 1.],\n",
       "        [5., 3., 0., 0., 0., 0., 1., 0., 5., 0.],\n",
       "        [2., 2., 3., 5., 2., 3., 2., 0., 4., 0.],\n",
       "        [5., 0., 3., 2., 3., 4., 4., 2., 2., 2.],\n",
       "        [4., 5., 4., 4., 4., 2., 4., 1., 0., 1.],\n",
       "        [0., 2., 5., 4., 0., 4., 2., 4., 1., 1.],\n",
       "        [0., 1., 2., 3., 0., 3., 4., 0., 4., 2.]])"
      ]
     },
     "execution_count": 36,
     "metadata": {},
     "output_type": "execute_result"
    }
   ],
   "source": [
    "A = np.matrix(randint(0, 6, size=(10, 10)))\n",
    "A = A.astype(float)\n",
    "A"
   ]
  },
  {
   "cell_type": "code",
   "execution_count": 37,
   "id": "c65f9d08",
   "metadata": {},
   "outputs": [
    {
     "data": {
      "text/plain": [
       "(matrix([[0.27883397],\n",
       "         [0.49705186],\n",
       "         [0.3030804 ],\n",
       "         [0.33945005],\n",
       "         [0.16972503],\n",
       "         [0.27883397],\n",
       "         [0.32732684],\n",
       "         [0.35157327],\n",
       "         [0.27883397],\n",
       "         [0.23034111]]),\n",
       " matrix([[0.30259458+0.j],\n",
       "         [0.48308589+0.j],\n",
       "         [0.28418264+0.j],\n",
       "         [0.35320559+0.j],\n",
       "         [0.18437695+0.j],\n",
       "         [0.27979133+0.j],\n",
       "         [0.30075729+0.j],\n",
       "         [0.36153564+0.j],\n",
       "         [0.29212906+0.j],\n",
       "         [0.22532239+0.j]]))"
      ]
     },
     "execution_count": 37,
     "metadata": {},
     "output_type": "execute_result"
    }
   ],
   "source": [
    "iter_max(A),np.linalg.eig(A)[1][:,0] #Il y a trop d'erreurs."
   ]
  },
  {
   "cell_type": "code",
   "execution_count": 38,
   "id": "f34e5460",
   "metadata": {},
   "outputs": [
    {
     "data": {
      "text/latex": [
       "$\\displaystyle \\left[\\begin{matrix}0.278833970857101 & 0 & 0 & 0 & 0 & 0 & 0 & 0 & 0 & 0\\\\0.497051861093094 & -0.0722327680844387 & 0 & 0 & 0 & 0 & 0 & 0 & 0 & 0\\\\0.303080403105545 & -0.303377625954644 & -0.25216017258054 & 0 & 0 & 0 & 0 & 0 & 0 & 0\\\\0.33945005147821 & -0.260037965103981 & -0.23414873168193 & -0.392676657716832 & 0 & 0 & 0 & 0 & 0 & 0\\\\0.169725025739105 & -0.628425082334619 & -0.657417592799264 & -0.645529245005958 & 0.652134859544054 & 0 & 0 & 0 & 0 & 0\\\\0.278833970857101 & 0 & 0.0360228817972198 & 0.00584630259628016 & -0.395233248208518 & -0.0688832741556272 & 0 & 0 & 0 & 0\\\\0.327326835353989 & -0.440619885315078 & -0.369234538421505 & -0.244083133394706 & 0.401820469011994 & 0.240360012035193 & 0.0845871660690398 & 0 & 0 & 0\\\\0.351573267602432 & -0.245591411487093 & -0.25216017258054 & -0.436523927188935 & 0.0526977664278027 & -0.794288391186951 & -0.773204209818628 & -0.76522455023104 & 0 & 0\\\\0.278833970857101 & 0.332270733188419 & 0.378240258870809 & 0.211441277232139 & -0.421582131422419 & 0.25269921349982 & 0.321268996753432 & 0.353872009713556 & -0.783875043293133 & 0\\\\0.230341106360214 & 0.274484518720868 & 0.324205936174979 & 0.36636829603357 & -0.276663273745962 & 0.492677600747447 & 0.540172651085005 & 0.537778754196363 & 0.620918606986608 & 1.0\\end{matrix}\\right]$"
      ],
      "text/plain": [
       "⎡0.278833970857101           0                   0                    0       \n",
       "⎢                                                                             \n",
       "⎢0.497051861093094  -0.0722327680844387          0                    0       \n",
       "⎢                                                                             \n",
       "⎢0.303080403105545  -0.303377625954644   -0.25216017258054            0       \n",
       "⎢                                                                             \n",
       "⎢0.33945005147821   -0.260037965103981   -0.23414873168193   -0.39267665771683\n",
       "⎢                                                                             \n",
       "⎢0.169725025739105  -0.628425082334619   -0.657417592799264  -0.64552924500595\n",
       "⎢                                                                             \n",
       "⎢0.278833970857101           0           0.0360228817972198  0.005846302596280\n",
       "⎢                                                                             \n",
       "⎢0.327326835353989  -0.440619885315078   -0.369234538421505  -0.24408313339470\n",
       "⎢                                                                             \n",
       "⎢0.351573267602432  -0.245591411487093   -0.25216017258054   -0.43652392718893\n",
       "⎢                                                                             \n",
       "⎢0.278833970857101   0.332270733188419   0.378240258870809    0.21144127723213\n",
       "⎢                                                                             \n",
       "⎣0.230341106360214   0.274484518720868   0.324205936174979    0.36636829603357\n",
       "\n",
       "            0                    0                   0                   0    \n",
       "                                                                              \n",
       "            0                    0                   0                   0    \n",
       "                                                                              \n",
       "            0                    0                   0                   0    \n",
       "                                                                              \n",
       "2           0                    0                   0                   0    \n",
       "                                                                              \n",
       "8   0.652134859544054            0                   0                   0    \n",
       "                                                                              \n",
       "16  -0.395233248208518  -0.0688832741556272          0                   0    \n",
       "                                                                              \n",
       "6   0.401820469011994    0.240360012035193   0.0845871660690398          0    \n",
       "                                                                              \n",
       "5   0.0526977664278027  -0.794288391186951   -0.773204209818628  -0.7652245502\n",
       "                                                                              \n",
       "9   -0.421582131422419   0.25269921349982    0.321268996753432   0.35387200971\n",
       "                                                                              \n",
       "    -0.276663273745962   0.492677600747447   0.540172651085005   0.53777875419\n",
       "\n",
       "              0            0 ⎤\n",
       "                             ⎥\n",
       "              0            0 ⎥\n",
       "                             ⎥\n",
       "              0            0 ⎥\n",
       "                             ⎥\n",
       "              0            0 ⎥\n",
       "                             ⎥\n",
       "              0            0 ⎥\n",
       "                             ⎥\n",
       "              0            0 ⎥\n",
       "                             ⎥\n",
       "              0            0 ⎥\n",
       "                             ⎥\n",
       "3104          0            0 ⎥\n",
       "                             ⎥\n",
       "3556  -0.783875043293133   0 ⎥\n",
       "                             ⎥\n",
       "6363  0.620918606986608   1.0⎦"
      ]
     },
     "execution_count": 38,
     "metadata": {},
     "output_type": "execute_result"
    }
   ],
   "source": [
    "compteur = 0\n",
    "L = trigonalise(A)\n",
    "sp.Matrix(L)"
   ]
  },
  {
   "cell_type": "code",
   "execution_count": 39,
   "id": "86e423bc",
   "metadata": {},
   "outputs": [
    {
     "data": {
      "text/latex": [
       "$\\displaystyle \\left[\\begin{matrix}3.58636358735674 & 0 & 0 & 0 & 0 & 0 & 0 & 0 & 0 & 0\\\\24.6786706771134 & -13.8441323310636 & 0 & 0 & 0 & 0 & 0 & 0 & 0 & 0\\\\-25.3806932891271 & 16.6560799709896 & -3.96573332642611 & 0 & 0 & 0 & 0 & 0 & 0 & 0\\\\1.89177820544869 & -0.763987352200429 & 2.36472275681087 & -2.54662450733479 & 0 & 0 & 0 & 0 & 0 & 0\\\\-0.865643234325712 & 2.69395784572572 & -1.65708847713778 & -2.52082919886058 & 1.5334251579484 & 0 & 0 & 0 & 0 & 0\\\\6.37172356019332 & -6.81164211334696 & 7.63471553537638 & 14.2476847537507 & -8.79837106307317 & -14.5173122540707 & 0 & 0 & 0 & 0\\\\-4.65025391952437 & 4.94498832287445 & -24.3101302318799 & -35.8593524076001 & 17.7168124680472 & 41.2519003800064 & 11.8221244010445 & 0 & 0 & 0\\\\-0.962873008680735 & 1.64969457271806 & 16.4826732060829 & 22.7235941387035 & -8.66342030623212 & -26.6133783032006 & -11.9454039381346 & -1.3068059561054 & 0 & 0\\\\0.179050264737117 & 1.08932236308305 & -0.445796759842208 & 0.82334486688277 & -0.310872866471751 & 0.212678789212472 & -0.547360266513334 & -0.589943580867048 & -1.27571353183909 & 0\\\\-0.524636302374481 & -1.45353523341417 & 0.743885519483182 & -0.145188356390835 & 0.0408953370067214 & -0.950740608607211 & 0.377862343256687 & 1.06907942548341 & 0.792114269103491 & 1.0\\end{matrix}\\right]$"
      ],
      "text/plain": [
       "⎡ 3.58636358735674           0                   0                   0        \n",
       "⎢                                                                             \n",
       "⎢ 24.6786706771134   -13.8441323310636           0                   0        \n",
       "⎢                                                                             \n",
       "⎢-25.3806932891271    16.6560799709896   -3.96573332642611           0        \n",
       "⎢                                                                             \n",
       "⎢ 1.89177820544869   -0.763987352200429   2.36472275681087   -2.54662450733479\n",
       "⎢                                                                             \n",
       "⎢-0.865643234325712   2.69395784572572   -1.65708847713778   -2.52082919886058\n",
       "⎢                                                                             \n",
       "⎢ 6.37172356019332   -6.81164211334696    7.63471553537638    14.2476847537507\n",
       "⎢                                                                             \n",
       "⎢-4.65025391952437    4.94498832287445   -24.3101302318799   -35.8593524076001\n",
       "⎢                                                                             \n",
       "⎢-0.962873008680735   1.64969457271806    16.4826732060829    22.7235941387035\n",
       "⎢                                                                             \n",
       "⎢0.179050264737117    1.08932236308305   -0.445796759842208   0.82334486688277\n",
       "⎢                                                                             \n",
       "⎣-0.524636302374481  -1.45353523341417   0.743885519483182   -0.14518835639083\n",
       "\n",
       "           0                   0                   0                   0      \n",
       "                                                                              \n",
       "           0                   0                   0                   0      \n",
       "                                                                              \n",
       "           0                   0                   0                   0      \n",
       "                                                                              \n",
       "           0                   0                   0                   0      \n",
       "                                                                              \n",
       "    1.5334251579484            0                   0                   0      \n",
       "                                                                              \n",
       "   -8.79837106307317   -14.5173122540707           0                   0      \n",
       "                                                                              \n",
       "    17.7168124680472    41.2519003800064    11.8221244010445           0      \n",
       "                                                                              \n",
       "   -8.66342030623212   -26.6133783032006   -11.9454039381346    -1.30680595610\n",
       "                                                                              \n",
       "   -0.310872866471751  0.212678789212472   -0.547360266513334  -0.589943580867\n",
       "                                                                              \n",
       "5  0.0408953370067214  -0.950740608607211  0.377862343256687    1.069079425483\n",
       "\n",
       "             0           0 ⎤\n",
       "                           ⎥\n",
       "             0           0 ⎥\n",
       "                           ⎥\n",
       "             0           0 ⎥\n",
       "                           ⎥\n",
       "             0           0 ⎥\n",
       "                           ⎥\n",
       "             0           0 ⎥\n",
       "                           ⎥\n",
       "             0           0 ⎥\n",
       "                           ⎥\n",
       "             0           0 ⎥\n",
       "                           ⎥\n",
       "54           0           0 ⎥\n",
       "                           ⎥\n",
       "048  -1.27571353183909   0 ⎥\n",
       "                           ⎥\n",
       "41   0.792114269103491  1.0⎦"
      ]
     },
     "execution_count": 39,
     "metadata": {},
     "output_type": "execute_result"
    }
   ],
   "source": [
    "U = reglage(np.linalg.inv(trigonalise(A)))\n",
    "sp.Matrix(U)"
   ]
  },
  {
   "cell_type": "code",
   "execution_count": 40,
   "id": "fb6dab32",
   "metadata": {},
   "outputs": [
    {
     "data": {
      "text/latex": [
       "$\\displaystyle \\left[\\begin{matrix}27.9565217391304 & -16.1389999856466 & -13.1451996742017 & -14.6331955456451 & 1.58281931170801 & -6.33294964300884 & -7.10553294166261 & -8.23312038930013 & 0 & 0\\\\21.1837474043547 & -22.9565217391305 & -20.5119757934539 & -31.0821489271101 & -2.87856968769574 & -57.9693515077465 & -62.6669547562704 & -66.2012482439202 & -10.4241873186063 & -69.2206616553182\\\\-19.8175216778463 & 18.4191140904537 & 17.4500000000001 & 34.2359486847199 & 4.58200245147968 & 63.2314831993306 & 65.861391162253 & 68.4205610863216 & 6.44678434442017 & 63.4517332228175\\\\-0.983093421952142 & 1.8565784214123 & 1.3095421577774 & -2.77630272952853 & 3.05859422804885 & 2.31099260310679 & 2.36965877049595 & 2.34960894666466 & 1.47770299591382 & 5.45705251571743\\\\-0.749390991442623 & 4.02416597642997 & 4.87641588293442 & 6.86832032637935 & 1.84471263503522 & 14.1238031920681 & 12.7942155830367 & 12.3622031225189 & -8.09351926045257 & 2.66351764407911\\\\3.88448219900438 & -32.6991818904055 & -37.6999484843218 & -39.1745332990099 & 9.57138069353067 & -92.0631929156632 & -88.6404267404558 & -88.826687614369 & 95.4542159877141 & 18.3630518638978\\\\-4.36398139451792 & 50.9380815127816 & 65.0262126653307 & 74.7360805031955 & -20.0767070013993 & 206.685939783185 & 192.578613590871 & 189.129387547912 & -258.540332877809 & -109.040813150538\\\\1.31125488735316 & -15.4593906248071 & -24.469887066033 & -34.0461664838901 & 4.69099113631571 & -119.450518654846 & -108.043195128127 & -104.175190923676 & 161.166137466 & 88.1878192003336\\\\-0.0802519852653651 & 0.158811566510219 & 0.18298199458724 & 0.415509923050048 & -0.0249962999809708 & 0.660195944513037 & 0.65560424007599 & 0.627214672577564 & 1.21787888790646 & 1.08059523735417\\\\-0.0447822610653397 & -0.0533644974186181 & -0.0498996949460604 & 0.143072228749978 & 0.133829877551925 & 0.221615590237067 & 0.202153465218856 & 0.169834467989302 & 1.29730088421167 & 0.923481455054491\\end{matrix}\\right]$"
      ],
      "text/plain": [
       "⎡ 27.9565217391304     -16.1389999856466    -13.1451996742017   -14.6331955456\n",
       "⎢                                                                             \n",
       "⎢ 21.1837474043547     -22.9565217391305    -20.5119757934539   -31.0821489271\n",
       "⎢                                                                             \n",
       "⎢ -19.8175216778463    18.4191140904537     17.4500000000001    34.23594868471\n",
       "⎢                                                                             \n",
       "⎢-0.983093421952142     1.8565784214123      1.3095421577774    -2.77630272952\n",
       "⎢                                                                             \n",
       "⎢-0.749390991442623    4.02416597642997     4.87641588293442    6.868320326379\n",
       "⎢                                                                             \n",
       "⎢ 3.88448219900438     -32.6991818904055    -37.6999484843218   -39.1745332990\n",
       "⎢                                                                             \n",
       "⎢ -4.36398139451792    50.9380815127816     65.0262126653307    74.73608050319\n",
       "⎢                                                                             \n",
       "⎢ 1.31125488735316     -15.4593906248071    -24.469887066033    -34.0461664838\n",
       "⎢                                                                             \n",
       "⎢-0.0802519852653651   0.158811566510219    0.18298199458724    0.415509923050\n",
       "⎢                                                                             \n",
       "⎣-0.0447822610653397  -0.0533644974186181  -0.0498996949460604  0.143072228749\n",
       "\n",
       "451   1.58281931170801    -6.33294964300884  -7.10553294166261  -8.23312038930\n",
       "                                                                              \n",
       "101   -2.87856968769574   -57.9693515077465  -62.6669547562704  -66.2012482439\n",
       "                                                                              \n",
       "99    4.58200245147968    63.2314831993306    65.861391162253   68.42056108632\n",
       "                                                                              \n",
       "853   3.05859422804885    2.31099260310679   2.36965877049595   2.349608946664\n",
       "                                                                              \n",
       "35    1.84471263503522    14.1238031920681   12.7942155830367   12.36220312251\n",
       "                                                                              \n",
       "099   9.57138069353067    -92.0631929156632  -88.6404267404558  -88.8266876143\n",
       "                                                                              \n",
       "55    -20.0767070013993   206.685939783185   192.578613590871   189.1293875479\n",
       "                                                                              \n",
       "901   4.69099113631571    -119.450518654846  -108.043195128127  -104.175190923\n",
       "                                                                              \n",
       "048  -0.0249962999809708  0.660195944513037  0.65560424007599   0.627214672577\n",
       "                                                                              \n",
       "978   0.133829877551925   0.221615590237067  0.202153465218856  0.169834467989\n",
       "\n",
       "013          0                  0        ⎤\n",
       "                                         ⎥\n",
       "202  -10.4241873186063  -69.2206616553182⎥\n",
       "                                         ⎥\n",
       "16   6.44678434442017   63.4517332228175 ⎥\n",
       "                                         ⎥\n",
       "66   1.47770299591382   5.45705251571743 ⎥\n",
       "                                         ⎥\n",
       "89   -8.09351926045257  2.66351764407911 ⎥\n",
       "                                         ⎥\n",
       "69   95.4542159877141   18.3630518638978 ⎥\n",
       "                                         ⎥\n",
       "12   -258.540332877809  -109.040813150538⎥\n",
       "                                         ⎥\n",
       "676    161.166137466    88.1878192003336 ⎥\n",
       "                                         ⎥\n",
       "564  1.21787888790646   1.08059523735417 ⎥\n",
       "                                         ⎥\n",
       "302  1.29730088421167   0.923481455054491⎦"
      ]
     },
     "execution_count": 40,
     "metadata": {},
     "output_type": "execute_result"
    }
   ],
   "source": [
    "sp.Matrix(U@A@L)"
   ]
  },
  {
   "cell_type": "code",
   "execution_count": 41,
   "id": "e9434bd0",
   "metadata": {},
   "outputs": [],
   "source": [
    "def resoudreTriangulaire_T(A,P,Y):\n",
    "    n = A.shape[0]\n",
    "    X = zeros(n,1)\n",
    "    X[-1] = Y[-1] / A[-1,-1]\n",
    "    for i in reversed(range(n-1)):\n",
    "        s = 0\n",
    "        for k in range(i+1,n):\n",
    "            s = s + A[i,k] * X[k]\n",
    "            X[i] = (Y[i]-s) / A[i,i]\n",
    "    return P@X\n",
    "\n",
    "def resoudre_T(M,Y):\n",
    "    P = trigonalise(M)\n",
    "    T = np.linalg.inv(P)@M@P\n",
    "    Z = np.linalg.inv(P)@Y\n",
    "    X = resoudreTriangulaire_T(T,P,Z)\n",
    "    return X"
   ]
  },
  {
   "cell_type": "code",
   "execution_count": 42,
   "id": "c6505f99",
   "metadata": {},
   "outputs": [
    {
     "data": {
      "text/latex": [
       "$\\displaystyle \\left[\\begin{matrix}-0.0202605107633356 & -0.0424134233699801 & 0.0872885716590196 & -0.127595806388949 & 0.0175369888171444 & 0.136394841467631 & 0.058386098228784 & -0.0418140295216404 & 0.170608254380767 & -0.171173178186472\\\\-0.0225450556135495 & -0.0763449280922482 & 0.171936038192086 & -0.214070935919201 & 0.0119477490238431 & 0.284341383010068 & 0.08938472432167 & -0.0931279172604913 & 0.274927903909864 & -0.312227024936352\\\\-0.174009358912127 & 0.174016239701401 & -0.350727122436685 & 0.114978627154391 & 0.104903007349981 & -0.43322217594535 & 0.0554179423175911 & 0.17596953374316 & 0.0466533463955514 & 0.21755851087407\\\\0.314430673375028 & 0.492696477397081 & -0.185170319105572 & 0.31068954568267 & -0.144207358114398 & 0.354428667805697 & -0.298542771578243 & -0.381635018165316 & -0.684788390272288 & -0.0924056927730653\\\\0.229735271818628 & 0.432752288704418 & -0.677571839007185 & -0.377340209547219 & 0.390988496177569 & -1.13060380467096 & 0.173224536647126 & 0.343443627841541 & 0.163872981744276 & 0.373836139090499\\\\0.0813504497851749 & 0.332397257084323 & -0.00193609757735975 & 0.648663232420799 & -0.32629294553806 & 0.731091869780773 & -0.386708137981766 & -0.465657860772945 & -0.815157220923394 & -0.123368836147875\\\\-0.0305701570506271 & 0.0636819120200117 & -0.29771733400808 & -0.486067210645178 & 0.337105146002052 & -0.734068770281385 & 0.282401976368186 & 0.332537403949586 & 0.577544391670786 & 0.0906792861143915\\\\-0.0509294365913611 & -1.20378844499659 & 0.640679482197773 & -0.285759672574588 & 0.0456365802560251 & -0.542933168518215 & 0.332202508820618 & 0.693257103020959 & 0.722839752069958 & 0.510401306918263\\\\-0.274476553643233 & -1.13049963548801 & 1.00555706453898 & -0.13885371231352 & -0.201595001168787 & 0.752576036976469 & 0.127887548657642 & 0.167097496803172 & 0.460209362025891 & -0.0597576945428447\\\\-0.0850479489957429 & 0.691583954630925 & -0.00783931946925953 & 0.655554262658552 & -0.370813919957411 & 0.832071270134281 & -0.452747369210036 & -0.641875635982442 & -0.924503981035111 & -0.30120154151463\\end{matrix}\\right]$"
      ],
      "text/plain": [
       "⎡-0.0202605107633356  -0.0424134233699801   0.0872885716590196   -0.1275958063\n",
       "⎢                                                                             \n",
       "⎢-0.0225450556135495  -0.0763449280922482   0.171936038192086    -0.2140709359\n",
       "⎢                                                                             \n",
       "⎢-0.174009358912127    0.174016239701401    -0.350727122436685   0.11497862715\n",
       "⎢                                                                             \n",
       "⎢ 0.314430673375028    0.492696477397081    -0.185170319105572    0.3106895456\n",
       "⎢                                                                             \n",
       "⎢ 0.229735271818628    0.432752288704418    -0.677571839007185   -0.3773402095\n",
       "⎢                                                                             \n",
       "⎢0.0813504497851749    0.332397257084323   -0.00193609757735975  0.64866323242\n",
       "⎢                                                                             \n",
       "⎢-0.0305701570506271  0.0636819120200117    -0.29771733400808    -0.4860672106\n",
       "⎢                                                                             \n",
       "⎢-0.0509294365913611   -1.20378844499659    0.640679482197773    -0.2857596725\n",
       "⎢                                                                             \n",
       "⎢-0.274476553643233    -1.13049963548801     1.00555706453898    -0.1388537123\n",
       "⎢                                                                             \n",
       "⎣-0.0850479489957429   0.691583954630925   -0.00783931946925953  0.65555426265\n",
       "\n",
       "88949  0.0175369888171444  0.136394841467631   0.058386098228784   -0.04181402\n",
       "                                                                              \n",
       "19201  0.0119477490238431  0.284341383010068    0.08938472432167   -0.09312791\n",
       "                                                                              \n",
       "4391   0.104903007349981   -0.43322217594535   0.0554179423175911   0.17596953\n",
       "                                                                              \n",
       "8267   -0.144207358114398  0.354428667805697   -0.298542771578243  -0.38163501\n",
       "                                                                              \n",
       "47219  0.390988496177569   -1.13060380467096   0.173224536647126    0.34344362\n",
       "                                                                              \n",
       "0799   -0.32629294553806   0.731091869780773   -0.386708137981766  -0.46565786\n",
       "                                                                              \n",
       "45178  0.337105146002052   -0.734068770281385  0.282401976368186    0.33253740\n",
       "                                                                              \n",
       "74588  0.0456365802560251  -0.542933168518215  0.332202508820618    0.69325710\n",
       "                                                                              \n",
       "1352   -0.201595001168787  0.752576036976469   0.127887548657642    0.16709749\n",
       "                                                                              \n",
       "8552   -0.370813919957411  0.832071270134281   -0.452747369210036  -0.64187563\n",
       "\n",
       "95216404  0.170608254380767   -0.171173178186472 ⎤\n",
       "                                                 ⎥\n",
       "72604913  0.274927903909864   -0.312227024936352 ⎥\n",
       "                                                 ⎥\n",
       "374316    0.0466533463955514   0.21755851087407  ⎥\n",
       "                                                 ⎥\n",
       "8165316   -0.684788390272288  -0.0924056927730653⎥\n",
       "                                                 ⎥\n",
       "7841541   0.163872981744276    0.373836139090499 ⎥\n",
       "                                                 ⎥\n",
       "0772945   -0.815157220923394  -0.123368836147875 ⎥\n",
       "                                                 ⎥\n",
       "3949586   0.577544391670786   0.0906792861143915 ⎥\n",
       "                                                 ⎥\n",
       "3020959   0.722839752069958    0.510401306918263 ⎥\n",
       "                                                 ⎥\n",
       "6803172   0.460209362025891   -0.0597576945428447⎥\n",
       "                                                 ⎥\n",
       "5982442   -0.924503981035111   -0.30120154151463 ⎦"
      ]
     },
     "execution_count": 42,
     "metadata": {},
     "output_type": "execute_result"
    }
   ],
   "source": [
    "Y = sp.Matrix(symbols('a1:11'))\n",
    "X_prime = resoudre_T(A,Y)\n",
    "A_inverse = []\n",
    "# row = []\n",
    "for i in range(X_prime.shape[0]):\n",
    "    row = []\n",
    "    for j in range(len(Y)):\n",
    "        row.append(X_prime[i].coeff(Y[j]))\n",
    "    A_inverse.append(row)\n",
    "A_inverse = sp.Matrix(A_inverse)\n",
    "A_inverse"
   ]
  },
  {
   "cell_type": "markdown",
   "id": "0ed3ce3a",
   "metadata": {},
   "source": [
    "## Méthode 3 (LU)"
   ]
  },
  {
   "cell_type": "code",
   "execution_count": null,
   "id": "70784aa2",
   "metadata": {},
   "outputs": [],
   "source": [
    "def Décomposition_LU(A):\n",
    "    global compteur\n",
    "    n = A.shape[0]\n",
    "    L = np.zeros([n, n])\n",
    "    U = np.zeros([n, n])\n",
    "    \n",
    "    for i in range(n):\n",
    "        L[i,i] = 1\n",
    "        \n",
    "        if i == 0:\n",
    "            U[0,0] = A[0,0]\n",
    "            for j in range(1, n):\n",
    "                U[0,j] = A[0,j]\n",
    "                L[j,0] = A[j,0] / U[0,0]\n",
    "                compteur += 1\n",
    "                \n",
    "        else:\n",
    "            for j in range(i, n):\n",
    "                temp = 0\n",
    "                for k in range(0, i):\n",
    "                    temp = temp + L[i,k] * U[k,j]\n",
    "                    compteur += 2\n",
    "                U[i,j] = A[i,j] - temp\n",
    "                compteur += 1\n",
    "            for j in range(i + 1, n):\n",
    "                temp = 0\n",
    "                for k in range(0, i):\n",
    "                    temp = temp + L[j,k] * U[k,i]\n",
    "                    compteur += 2\n",
    "                L[j,i] = (A[j,i] - temp) / U[i,i]\n",
    "                compteur += 2\n",
    "                \n",
    "    return L, U, compteur"
   ]
  },
  {
   "cell_type": "code",
   "execution_count": null,
   "id": "e99894e5",
   "metadata": {},
   "outputs": [],
   "source": [
    "sp.Matrix(Décomposition_LU(A)[0]),sp.Matrix(Décomposition_LU(A)[1])"
   ]
  },
  {
   "cell_type": "code",
   "execution_count": null,
   "id": "53e9f0f4",
   "metadata": {},
   "outputs": [],
   "source": [
    "L_inverse = inverser1(Décomposition_LU(A)[0])\n",
    "U = Décomposition_LU(A)[1]\n",
    "U"
   ]
  },
  {
   "cell_type": "code",
   "execution_count": null,
   "id": "5f9261ac",
   "metadata": {},
   "outputs": [],
   "source": [
    "compteur = 0\n",
    "Y = sp.Matrix(symbols('a1:11')).reshape(10,1)\n",
    "LU = Décomposition_LU(A)\n",
    "L = sp.Matrix(reglage(LU[0]))\n",
    "U = sp.Matrix(reglage(LU[1]))\n",
    "Y_prime = inverser1(L)[0]@ Y\n",
    "compteur += 1\n",
    "X_prime = resoudreTriangulaire(U,Y_prime)\n",
    "\n",
    "A_inverse = []\n",
    "for i in range(X_prime.shape[0]):\n",
    "    row = []\n",
    "    for j in range(len(Y)):\n",
    "        row.append(X_prime[i].coeff(Y[j]))\n",
    "    A_inverse.append(row)\n",
    "A_inverse = sp.Matrix(A_inverse)\n",
    "A_inverse, Décomposition_LU(A)[2]"
   ]
  },
  {
   "cell_type": "markdown",
   "id": "410ff484",
   "metadata": {},
   "source": [
    "## Méthode 4"
   ]
  },
  {
   "cell_type": "code",
   "execution_count": 47,
   "id": "e4923760",
   "metadata": {},
   "outputs": [],
   "source": [
    "def mat_np(u):\n",
    "    global compteur\n",
    "    n = len(u)\n",
    "    M = sp.zeros(n, n)\n",
    "    M = np.matrix(M)\n",
    "    for j in range(n):\n",
    "        cj = np.matrix([int(i == j) for i in range(n)]).reshape(n,1)\n",
    "        Mcj = cj-2*ps(cj,u)/norme(u)**2*u\n",
    "        compteur += 5\n",
    "        Mcj = np.matrix(Mcj).reshape(n,1)\n",
    "        for i in range(n):\n",
    "            M[i, j] = Mcj[i,0]\n",
    "    return M\n",
    "\n",
    "def DecompositionQR_np(A):\n",
    "    global compteur\n",
    "    n, p = A.shape\n",
    "    \n",
    "    if n != p or determinant1_np(A) == 0:\n",
    "        raise Exception(\"Les données ne sont pas correctes\")\n",
    "        \n",
    "    AA = A.copy()\n",
    "    O = np.eye(n)\n",
    "    \n",
    "    for i in range(n):\n",
    "        if not AA[i+1:, i].any() == 0:\n",
    "            B = AA.copy()\n",
    "            for j in range(i):\n",
    "                B[j, i] = 0\n",
    "            Ci = np.matrix([int(k == i) for k in range(n)]).reshape(n,1)\n",
    "            S = mat_np(Ci-B[:, i]/norme(B[:, i]))\n",
    "            O = S@O\n",
    "            AA = S@AA\n",
    "            compteur += n+3\n",
    "            \n",
    "    return transposer_np(O), AA, compteur"
   ]
  },
  {
   "cell_type": "code",
   "execution_count": 48,
   "id": "6dc0b447",
   "metadata": {},
   "outputs": [
    {
     "data": {
      "text/latex": [
       "$\\displaystyle \\left( \\left[\\begin{matrix}x_{1} & x_{2} & x_{3} & x_{4} & x_{5} & x_{6} & x_{7} & x_{8} & x_{9} & x_{10}\\end{matrix}\\right], \\  \\left[\\begin{matrix}a_{1} & a_{2} & a_{3} & a_{4} & a_{5} & a_{6} & a_{7} & a_{8} & a_{9} & a_{10}\\end{matrix}\\right]\\right)$"
      ],
      "text/plain": [
       "([x₁  x₂  x₃  x₄  x₅  x₆  x₇  x₈  x₉  x₁₀], [a₁  a₂  a₃  a₄  a₅  a₆  a₇  a₈  a\n",
       "₉  a₁₀])"
      ]
     },
     "execution_count": 48,
     "metadata": {},
     "output_type": "execute_result"
    }
   ],
   "source": [
    "x = symbols('x1:11')\n",
    "y = symbols('a1:11')\n",
    "X = sp.Matrix([x])\n",
    "Y = sp.Matrix([y])\n",
    "X,Y"
   ]
  },
  {
   "cell_type": "code",
   "execution_count": 49,
   "id": "c817f9c8",
   "metadata": {},
   "outputs": [
    {
     "data": {
      "text/latex": [
       "$\\displaystyle \\left( \\left[\\begin{matrix}-2.34597224209478 & -7.77493203605685 & 3.60872800114475 & -2.49612247818006 & 1.06739161539565 & -3.59742452425248 & 2.74869079982836 & 5.11392187723578 & 5.76897982544013 & 3.47342967520398\\\\2.1308484761769 & 6.99821147517544 & -3.25073687222787 & 2.44532837315788 & -0.852410931463752 & 3.1374874803263 & -2.60238946916589 & -4.50847045357001 & -5.36262698526269 & -3.05341250536565\\\\0.637358706538869 & 2.73322363714415 & -1.34391186149667 & 0.96918014022037 & -0.345614537129785 & 1.21163256546004 & -0.908413220775527 & -1.71545285448567 & -1.95344112176283 & -1.21500930032912\\\\-3.83102017456012 & -12.911003004722 & 6.06066676205481 & -4.3435398483332 & 1.61596794963518 & -5.78537702103319 & 4.3908999856919 & 8.49348976963821 & 9.74831878666501 & 5.78580626699113\\\\3.50200314780378 & 11.6492345113753 & -5.38251538131363 & 3.74580054371164 & -1.57483187866651 & 5.49204464157975 & -3.93262269280307 & -7.6252253541281 & -8.76640434969259 & -5.41126055229659\\\\3.02825869223072 & 9.85527257118352 & -4.6176277006726 & 3.56397195593083 & -1.37709257404496 & 4.57348690799839 & -3.4173558448992 & -6.6094291028761 & -7.71177564744617 & -4.29813993418239\\\\-2.23780226069544 & -7.71626842180588 & 3.55289741021614 & -2.82289311775654 & 1.02647016740595 & -3.62701387895272 & 2.78706538846765 & 5.15175275432835 & 5.98314494205194 & 3.46535985119482\\\\-0.5559450565174 & -2.16790671054519 & 1.06882243525543 & -1.00057232794393 & 0.375661754185155 & -1.02067534697384 & 0.839676634711706 & 1.36879381885824 & 2.00457862355133 & 0.721633996279892\\\\1.51502360852773 & 5.11925883531276 & -2.36886535985126 & 1.59350407783664 & -0.561239089998587 & 2.44033481184725 & -1.74467019602236 & -3.43919015595945 & -3.7480326226929 & -2.33445414222355\\\\0.946916583202202 & 3.54528544856211 & -1.56334239519249 & 1.43628559164404 & -0.516955215338401 & 1.41081699813997 & -1.33549864072116 & -2.2815281156103 & -2.89028473315216 & -1.25159536414369\\end{matrix}\\right], \\  5403\\right)$"
      ],
      "text/plain": [
       "⎛⎡-2.34597224209478  -7.77493203605685  3.60872800114475   -2.49612247818006  \n",
       "⎜⎢                                                                            \n",
       "⎜⎢ 2.1308484761769   6.99821147517544   -3.25073687222787  2.44532837315788   \n",
       "⎜⎢                                                                            \n",
       "⎜⎢0.637358706538869  2.73322363714415   -1.34391186149667  0.96918014022037   \n",
       "⎜⎢                                                                            \n",
       "⎜⎢-3.83102017456012  -12.911003004722   6.06066676205481   -4.3435398483332   \n",
       "⎜⎢                                                                            \n",
       "⎜⎢3.50200314780378   11.6492345113753   -5.38251538131363  3.74580054371164   \n",
       "⎜⎢                                                                            \n",
       "⎜⎢3.02825869223072   9.85527257118352   -4.6176277006726   3.56397195593083   \n",
       "⎜⎢                                                                            \n",
       "⎜⎢-2.23780226069544  -7.71626842180588  3.55289741021614   -2.82289311775654  \n",
       "⎜⎢                                                                            \n",
       "⎜⎢-0.5559450565174   -2.16790671054519  1.06882243525543   -1.00057232794393  \n",
       "⎜⎢                                                                            \n",
       "⎜⎢1.51502360852773   5.11925883531276   -2.36886535985126  1.59350407783664   \n",
       "⎜⎢                                                                            \n",
       "⎝⎣0.946916583202202  3.54528544856211   -1.56334239519249  1.43628559164404   \n",
       "\n",
       " 1.06739161539565   -3.59742452425248   2.74869079982836   5.11392187723578   \n",
       "                                                                              \n",
       "-0.852410931463752   3.1374874803263   -2.60238946916589   -4.50847045357001  \n",
       "                                                                              \n",
       "-0.345614537129785  1.21163256546004   -0.908413220775527  -1.71545285448567  \n",
       "                                                                              \n",
       " 1.61596794963518   -5.78537702103319   4.3908999856919    8.49348976963821   \n",
       "                                                                              \n",
       "-1.57483187866651   5.49204464157975   -3.93262269280307   -7.6252253541281   \n",
       "                                                                              \n",
       "-1.37709257404496   4.57348690799839    -3.4173558448992   -6.6094291028761   \n",
       "                                                                              \n",
       " 1.02647016740595   -3.62701387895272   2.78706538846765   5.15175275432835   \n",
       "                                                                              \n",
       "0.375661754185155   -1.02067534697384  0.839676634711706   1.36879381885824   \n",
       "                                                                              \n",
       "-0.561239089998587  2.44033481184725   -1.74467019602236   -3.43919015595945  \n",
       "                                                                              \n",
       "-0.516955215338401  1.41081699813997   -1.33549864072116   -2.2815281156103   \n",
       "\n",
       "5.76897982544013   3.47342967520398 ⎤      ⎞\n",
       "                                    ⎥      ⎟\n",
       "-5.36262698526269  -3.05341250536565⎥      ⎟\n",
       "                                    ⎥      ⎟\n",
       "-1.95344112176283  -1.21500930032912⎥      ⎟\n",
       "                                    ⎥      ⎟\n",
       "9.74831878666501   5.78580626699113 ⎥      ⎟\n",
       "                                    ⎥      ⎟\n",
       "-8.76640434969259  -5.41126055229659⎥      ⎟\n",
       "                                    ⎥, 5403⎟\n",
       "-7.71177564744617  -4.29813993418239⎥      ⎟\n",
       "                                    ⎥      ⎟\n",
       "5.98314494205194   3.46535985119482 ⎥      ⎟\n",
       "                                    ⎥      ⎟\n",
       "2.00457862355133   0.721633996279892⎥      ⎟\n",
       "                                    ⎥      ⎟\n",
       "-3.7480326226929   -2.33445414222355⎥      ⎟\n",
       "                                    ⎥      ⎟\n",
       "-2.89028473315216  -1.25159536414369⎦      ⎠"
      ]
     },
     "execution_count": 49,
     "metadata": {},
     "output_type": "execute_result"
    }
   ],
   "source": [
    "compteur = 0\n",
    "QR = DecompositionQR_np((np.matrix(A)).astype(float))\n",
    "Q = sp.Matrix(reglage(QR[0]))\n",
    "R = sp.Matrix(reglage(QR[1]))\n",
    "Y_prime = transposer_sp(Q) @ transposer_sp(Y).reshape(10,1)\n",
    "compteur += 1\n",
    "X_prime = resoudreTriangulaire(R,Y_prime)\n",
    "\n",
    "A_inverse = []\n",
    "for i in range(X_prime.shape[0]):\n",
    "    row = []\n",
    "    for j in range(len(Y)):\n",
    "        row.append(X_prime[i].coeff(Y[j]))\n",
    "    A_inverse.append(row)\n",
    "A_inverse = sp.Matrix(A_inverse)\n",
    "A_inverse,QR[2]"
   ]
  },
  {
   "cell_type": "code",
   "execution_count": 50,
   "id": "ed595308",
   "metadata": {},
   "outputs": [
    {
     "name": "stdout",
     "output_type": "stream",
     "text": [
      "900 ms ± 0 ns per loop (mean ± std. dev. of 1 run, 1 loop each)\n"
     ]
    }
   ],
   "source": [
    "%%timeit -n 1 -r 1\n",
    "compteur = 0\n",
    "QR = DecompositionQR_np((np.matrix(A)).astype(float))\n",
    "Q = sp.Matrix(reglage(QR[0]))\n",
    "R = sp.Matrix(reglage(QR[1]))\n",
    "Y_prime = transposer_sp(Q) @ transposer_sp(Y).reshape(10,1)\n",
    "compteur += 1\n",
    "X_prime = resoudreTriangulaire(R,Y_prime)\n",
    "\n",
    "A_inverse = []\n",
    "for i in range(X_prime.shape[0]):\n",
    "    row = []\n",
    "    for j in range(len(Y)):\n",
    "        row.append(X_prime[i].coeff(Y[j]))\n",
    "    A_inverse.append(row)\n",
    "A_inverse = sp.Matrix(A_inverse)\n",
    "A_inverse,QR[2]"
   ]
  },
  {
   "cell_type": "markdown",
   "id": "4c0eb085",
   "metadata": {},
   "source": [
    "# Evaluation pour tous les méthode"
   ]
  },
  {
   "cell_type": "markdown",
   "id": "6433ed60",
   "metadata": {},
   "source": [
    "## Méthode 1.1 avec Sympy"
   ]
  },
  {
   "cell_type": "markdown",
   "id": "5b3484b0",
   "metadata": {},
   "source": [
    "### Le nombre d'opération"
   ]
  },
  {
   "cell_type": "code",
   "execution_count": 51,
   "id": "e0273077",
   "metadata": {},
   "outputs": [
    {
     "name": "stdout",
     "output_type": "stream",
     "text": [
      "Le nombre d'opération est 75002.672\n"
     ]
    }
   ],
   "source": [
    "compteur = 0\n",
    "for i in range(1000):\n",
    "    A = sp.Matrix(randint(0, 6, size=(10, 10)))\n",
    "    inverser1(A)\n",
    "compteur = compteur/1000\n",
    "print(\"Le nombre d'opération est\",compteur)"
   ]
  },
  {
   "cell_type": "markdown",
   "id": "1630c994",
   "metadata": {},
   "source": [
    "### Le temps"
   ]
  },
  {
   "cell_type": "code",
   "execution_count": 53,
   "id": "fed90096",
   "metadata": {},
   "outputs": [
    {
     "name": "stdout",
     "output_type": "stream",
     "text": [
      "Le temps est 1.0226454617080003\n"
     ]
    }
   ],
   "source": [
    "start = time.perf_counter()\n",
    "\n",
    "compteur = 0\n",
    "for i in range(1000):\n",
    "    A = sp.Matrix(randint(0, 6, size=(10, 10)))\n",
    "    inverser1(A)\n",
    "    \n",
    "end = time.perf_counter()\n",
    "runTime = (end - start)/1000\n",
    "print(\"Le temps est\",runTime)"
   ]
  },
  {
   "cell_type": "markdown",
   "id": "8c5ce9b6",
   "metadata": {},
   "source": [
    "## Méthode 2"
   ]
  },
  {
   "cell_type": "markdown",
   "id": "d457b3b9",
   "metadata": {},
   "source": [
    "### Le nombre d'opération"
   ]
  },
  {
   "cell_type": "code",
   "execution_count": 56,
   "id": "3b62af4f",
   "metadata": {},
   "outputs": [
    {
     "name": "stdout",
     "output_type": "stream",
     "text": [
      "Le nombre d'opération est 1318.1\n"
     ]
    }
   ],
   "source": [
    "y = symbols('a1:11')\n",
    "Y = sp.Matrix([y])\n",
    "compteur = 0\n",
    "\n",
    "for i in range(1000):\n",
    "    A = sp.Matrix(randint(0, 6, size=(10, 10)))\n",
    "    X_prime = resoudre(A,Y)[0]\n",
    "    A_inverse = []\n",
    "    for i in range(X_prime.shape[0]):\n",
    "        row = []\n",
    "        for j in range(len(Y)):\n",
    "            row.append(X_prime[i].coeff(Y[j]))\n",
    "            compteur += 1\n",
    "        A_inverse.append(row)\n",
    "        \n",
    "compteur = compteur/1000\n",
    "print(\"Le nombre d'opération est\",compteur)"
   ]
  },
  {
   "cell_type": "markdown",
   "id": "9f3931a3",
   "metadata": {},
   "source": [
    "### Le temps"
   ]
  },
  {
   "cell_type": "code",
   "execution_count": 58,
   "id": "385808ea",
   "metadata": {},
   "outputs": [
    {
     "name": "stdout",
     "output_type": "stream",
     "text": [
      "Le temps est 0.2074472247499998\n"
     ]
    }
   ],
   "source": [
    "y = symbols('a1:11')\n",
    "Y = sp.Matrix([y])\n",
    "compteur = 0\n",
    "\n",
    "start = time.perf_counter()\n",
    "\n",
    "for i in range(1000):\n",
    "    A = sp.Matrix(randint(0, 6, size=(10, 10)))\n",
    "    X_prime = resoudre(A,Y)[0]\n",
    "    A_inverse = []\n",
    "    for i in range(X_prime.shape[0]):\n",
    "        row = []\n",
    "        for j in range(len(Y)):\n",
    "            row.append(X_prime[i].coeff(Y[j]))\n",
    "            compteur += 1\n",
    "        A_inverse.append(row)\n",
    "        \n",
    "end = time.perf_counter()\n",
    "runTime = (end - start)/1000\n",
    "print(\"Le temps est\",runTime)"
   ]
  },
  {
   "cell_type": "markdown",
   "id": "30a9c59c",
   "metadata": {},
   "source": [
    "## Méthode 3"
   ]
  },
  {
   "cell_type": "markdown",
   "id": "69436b4f",
   "metadata": {},
   "source": [
    "### Le nombre d'opération"
   ]
  },
  {
   "cell_type": "code",
   "execution_count": 91,
   "id": "84d4c1a6",
   "metadata": {},
   "outputs": [
    {
     "name": "stdout",
     "output_type": "stream",
     "text": [
      "Le nombre d'opération est 76677.1\n"
     ]
    }
   ],
   "source": [
    "compteur = 0\n",
    "Y = sp.Matrix(symbols('a1:11')).reshape(10,1)\n",
    "\n",
    "for i in range(10):\n",
    "    A = sp.Matrix(randint(0, 6, size=(10, 10)))\n",
    "    LU = Décomposition_LU(A)\n",
    "    L = sp.Matrix(reglage(LU[0]))\n",
    "    U = sp.Matrix(reglage(LU[1]))\n",
    "    Y_prime = inverser1(L)[0]@ Y\n",
    "    compteur += 1\n",
    "    X_prime = resoudreTriangulaire(U,Y_prime)\n",
    "\n",
    "    A_inverse = []\n",
    "    for i in range(X_prime.shape[0]):\n",
    "        row = []\n",
    "        for j in range(len(Y)):\n",
    "            row.append(X_prime[i].coeff(Y[j]))\n",
    "        A_inverse.append(row)\n",
    "\n",
    "compteur = compteur/10\n",
    "print(\"Le nombre d'opération est\",compteur)"
   ]
  },
  {
   "cell_type": "markdown",
   "id": "06afabfe",
   "metadata": {},
   "source": [
    "### Le temps"
   ]
  },
  {
   "cell_type": "code",
   "execution_count": 93,
   "id": "cc85b5d3",
   "metadata": {},
   "outputs": [
    {
     "name": "stdout",
     "output_type": "stream",
     "text": [
      "Le temps est 2.1376967250000236\n"
     ]
    }
   ],
   "source": [
    "compteur = 0\n",
    "Y = sp.Matrix(symbols('a1:11')).reshape(10,1)\n",
    "\n",
    "start = time.perf_counter()\n",
    "\n",
    "for i in range(10):\n",
    "    A = sp.Matrix(randint(0, 6, size=(10, 10)))\n",
    "    LU = Décomposition_LU(A)\n",
    "    L = sp.Matrix(reglage(LU[0]))\n",
    "    U = sp.Matrix(reglage(LU[1]))\n",
    "    Y_prime = inverser1(L)[0]@ Y\n",
    "    compteur += 1\n",
    "    X_prime = resoudreTriangulaire(U,Y_prime)\n",
    "\n",
    "    A_inverse = []\n",
    "    for i in range(X_prime.shape[0]):\n",
    "        row = []\n",
    "        for j in range(len(Y)):\n",
    "            row.append(X_prime[i].coeff(Y[j]))\n",
    "        A_inverse.append(row)\n",
    "\n",
    "end = time.perf_counter()\n",
    "runTime = (end - start)/10\n",
    "print(\"Le temps est\",runTime)"
   ]
  },
  {
   "cell_type": "markdown",
   "id": "815d7058",
   "metadata": {},
   "source": [
    "## Méthode 4"
   ]
  },
  {
   "cell_type": "markdown",
   "id": "4cd032d2",
   "metadata": {},
   "source": [
    "### Le nombre d'opération"
   ]
  },
  {
   "cell_type": "code",
   "execution_count": 85,
   "id": "b0edf4fc",
   "metadata": {},
   "outputs": [
    {
     "name": "stdout",
     "output_type": "stream",
     "text": [
      "Le nombre d'opération est 5696.5\n"
     ]
    }
   ],
   "source": [
    "y = symbols('a1:11')\n",
    "Y = sp.Matrix([y])\n",
    "compteur = 0\n",
    "for i in range(1000):\n",
    "    A = sp.Matrix(randint(0, 6, size=(10, 10)))\n",
    "    QR = DecompositionQR_np((np.matrix(A)).astype(float))\n",
    "    Q = sp.Matrix(reglage(QR[0]))\n",
    "    R = sp.Matrix(reglage(QR[1]))\n",
    "    Y_prime = transposer_sp(Q) @ transposer_sp(Y).reshape(10,1)\n",
    "    compteur += 1\n",
    "    X_prime = resoudreTriangulaire(R,Y_prime)\n",
    "\n",
    "    A_inverse = []\n",
    "    for i in range(X_prime.shape[0]):\n",
    "        row = []\n",
    "        for j in range(len(Y)):\n",
    "            row.append(X_prime[i].coeff(Y[j]))\n",
    "        A_inverse.append(row)\n",
    "\n",
    "compteur = compteur/1000\n",
    "print(\"Le nombre d'opération est\",compteur)"
   ]
  },
  {
   "cell_type": "markdown",
   "id": "a2ef93ee",
   "metadata": {},
   "source": [
    "### Le temps"
   ]
  },
  {
   "cell_type": "code",
   "execution_count": 87,
   "id": "9300c090",
   "metadata": {},
   "outputs": [
    {
     "name": "stderr",
     "output_type": "stream",
     "text": [
      "/var/folders/pc/3dbpcd_12ys5g0jfstcrzczw0000gn/T/ipykernel_13479/4070058153.py:22: RuntimeWarning: invalid value encountered in double_scalars\n",
      "  B[i,:] = B[i,:] - (B[i,k] / B[k,k]) * B[k,:]\n"
     ]
    },
    {
     "name": "stdout",
     "output_type": "stream",
     "text": [
      "Le temps est 1.0374492490419998\n"
     ]
    }
   ],
   "source": [
    "compteur = 0\n",
    "Y = sp.Matrix(symbols('a1:11')).reshape(10,1)\n",
    "\n",
    "start = time.perf_counter()\n",
    "\n",
    "for i in range(1000):\n",
    "    A = sp.Matrix(randint(0, 6, size=(10, 10)))\n",
    "    QR = DecompositionQR_np((np.matrix(A)).astype(float))\n",
    "    Q = sp.Matrix(reglage(QR[0]))\n",
    "    R = sp.Matrix(reglage(QR[1]))\n",
    "    Y_prime = transposer_sp(Q) @ transposer_sp(Y).reshape(10,1)\n",
    "    compteur += 1\n",
    "    X_prime = resoudreTriangulaire(R,Y_prime)\n",
    "\n",
    "    A_inverse = []\n",
    "    for i in range(X_prime.shape[0]):\n",
    "        row = []\n",
    "        for j in range(len(Y)):\n",
    "            row.append(X_prime[i].coeff(Y[j]))\n",
    "        A_inverse.append(row)\n",
    "        \n",
    "end = time.perf_counter()\n",
    "runTime = (end - start)/1000\n",
    "print(\"Le temps est\",runTime)"
   ]
  }
 ],
 "metadata": {
  "kernelspec": {
   "display_name": "Python 3 (ipykernel)",
   "language": "python",
   "name": "python3"
  },
  "language_info": {
   "codemirror_mode": {
    "name": "ipython",
    "version": 3
   },
   "file_extension": ".py",
   "mimetype": "text/x-python",
   "name": "python",
   "nbconvert_exporter": "python",
   "pygments_lexer": "ipython3",
   "version": "3.9.13"
  }
 },
 "nbformat": 4,
 "nbformat_minor": 5
}
